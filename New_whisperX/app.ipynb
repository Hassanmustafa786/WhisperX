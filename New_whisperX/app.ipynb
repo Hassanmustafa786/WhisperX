{
 "cells": [
  {
   "cell_type": "code",
   "execution_count": 38,
   "metadata": {},
   "outputs": [
    {
     "name": "stderr",
     "output_type": "stream",
     "text": [
      "Lightning automatically upgraded your loaded checkpoint from v1.5.4 to v2.2.1. To apply the upgrade to your files permanently, run `python -m pytorch_lightning.utilities.upgrade_checkpoint C:\\Users\\User\\.cache\\torch\\whisperx-vad-segmentation.bin`\n"
     ]
    },
    {
     "name": "stdout",
     "output_type": "stream",
     "text": [
      "No language specified, language will be first be detected for each audio file (increases inference time).\n",
      "Model was trained with pyannote.audio 0.0.1, yours is 3.1.1. Bad things might happen unless you revert pyannote.audio to 0.x.\n",
      "Model was trained with torch 1.10.0+cu102, yours is 2.2.1+cpu. Bad things might happen unless you revert torch to 1.x.\n",
      "Detected language: en (0.39) in first 30s of audio...\n",
      "[{'text': \" Hello, how are you? I'm fine. How about you? I'm good. Let's talk about Fiverr success. I'm recently created a count on Fiverr, but I have no success and can't get any order from there. So can you please tell me some guidance or some tips from how then I can succeed from there?\", 'start': 0.896, 'end': 22.585}, {'text': \" Okay, before proceeding further, I want to ask you, what niche are you working in? Currently, I am providing my services on data sciences and artificial intelligence. Wow, that's good. Okay, so you are not getting impressions or orders? Both any pressures, I also can't get more impressions and the success rate is also not good.\", 'start': 22.722, 'end': 44.462}, {'text': ' Okay, so I would advise you that you should go for sharing your five-hour profile in your WhatsApp group, Facebook groups. That is the first step. In our next call, I will tell you about the second tip that is all for today. Is it feasible for me or I can attempt some more techniques like... No, for now, just focus on this technique and then I will tell you the more secrets.', 'start': 44.462, 'end': 73.336}, {'text': ' Okay, thank you for guiding me. Thank you, Ahmad. Thank you.', 'start': 73.336, 'end': 79.855}]\n",
      "[{'start': 0.916, 'end': 2.117, 'text': ' Hello, how are you?', 'words': [{'word': 'Hello,', 'start': 0.916, 'end': 1.736, 'score': 0.511}, {'word': 'how', 'start': 1.776, 'end': 1.856, 'score': 0.826}, {'word': 'are', 'start': 1.896, 'end': 1.956, 'score': 0.43}, {'word': 'you?', 'start': 1.976, 'end': 2.117, 'score': 0.885}]}, {'start': 2.777, 'end': 3.157, 'text': \"I'm fine.\", 'words': [{'word': \"I'm\", 'start': 2.777, 'end': 2.917, 'score': 0.826}, {'word': 'fine.', 'start': 2.977, 'end': 3.157, 'score': 0.85}]}, {'start': 3.177, 'end': 4.297, 'text': 'How about you?', 'words': [{'word': 'How', 'start': 3.177, 'end': 3.477, 'score': 0.459}, {'word': 'about', 'start': 3.837, 'end': 4.137, 'score': 0.481}, {'word': 'you?', 'start': 4.177, 'end': 4.297, 'score': 0.884}]}, {'start': 5.198, 'end': 6.538, 'text': \"I'm good.\", 'words': [{'word': \"I'm\", 'start': 5.198, 'end': 5.338, 'score': 0.82}, {'word': 'good.', 'start': 5.378, 'end': 6.538, 'score': 0.958}]}, {'start': 6.558, 'end': 9.019, 'text': \"Let's talk about Fiverr success.\", 'words': [{'word': \"Let's\", 'start': 6.558, 'end': 6.698, 'score': 0.495}, {'word': 'talk', 'start': 6.738, 'end': 6.918, 'score': 0.536}, {'word': 'about', 'start': 6.959, 'end': 7.499, 'score': 0.826}, {'word': 'Fiverr', 'start': 7.999, 'end': 8.519, 'score': 0.643}, {'word': 'success.', 'start': 8.539, 'end': 9.019, 'score': 0.532}]}, {'start': 9.159, 'end': 15.622, 'text': \"I'm recently created a count on Fiverr, but I have no success and can't get any order from there.\", 'words': [{'word': \"I'm\", 'start': 9.159, 'end': 9.279, 'score': 0.873}, {'word': 'recently', 'start': 9.319, 'end': 9.78, 'score': 0.715}, {'word': 'created', 'start': 10.12, 'end': 10.42, 'score': 0.414}, {'word': 'a', 'start': 10.46, 'end': 10.5, 'score': 0.748}, {'word': 'count', 'start': 10.54, 'end': 10.7, 'score': 0.35}, {'word': 'on', 'start': 10.72, 'end': 10.8, 'score': 0.386}, {'word': 'Fiverr,', 'start': 10.82, 'end': 11.1, 'score': 0.651}, {'word': 'but', 'start': 11.58, 'end': 11.821, 'score': 0.455}, {'word': 'I', 'start': 12.021, 'end': 12.061, 'score': 0.97}, {'word': 'have', 'start': 12.101, 'end': 12.201, 'score': 0.808}, {'word': 'no', 'start': 12.241, 'end': 12.341, 'score': 0.959}, {'word': 'success', 'start': 12.421, 'end': 12.961, 'score': 0.485}, {'word': 'and', 'start': 14.262, 'end': 14.422, 'score': 0.493}, {'word': \"can't\", 'start': 14.442, 'end': 14.642, 'score': 0.507}, {'word': 'get', 'start': 14.662, 'end': 14.842, 'score': 0.331}, {'word': 'any', 'start': 14.902, 'end': 15.042, 'score': 0.774}, {'word': 'order', 'start': 15.082, 'end': 15.262, 'score': 0.786}, {'word': 'from', 'start': 15.282, 'end': 15.402, 'score': 0.981}, {'word': 'there.', 'start': 15.442, 'end': 15.622, 'score': 0.68}]}, {'start': 16.002, 'end': 22.305, 'text': 'So can you please tell me some guidance or some tips from how then I can succeed from there?', 'words': [{'word': 'So', 'start': 16.002, 'end': 16.102, 'score': 0.512}, {'word': 'can', 'start': 16.122, 'end': 16.242, 'score': 0.907}, {'word': 'you', 'start': 16.262, 'end': 16.362, 'score': 0.925}, {'word': 'please', 'start': 16.382, 'end': 16.883, 'score': 0.723}, {'word': 'tell', 'start': 16.923, 'end': 17.083, 'score': 0.852}, {'word': 'me', 'start': 17.103, 'end': 17.183, 'score': 0.98}, {'word': 'some', 'start': 17.223, 'end': 17.443, 'score': 0.888}, {'word': 'guidance', 'start': 18.463, 'end': 18.743, 'score': 0.303}, {'word': 'or', 'start': 18.803, 'end': 18.883, 'score': 0.574}, {'word': 'some', 'start': 18.963, 'end': 19.124, 'score': 0.554}, {'word': 'tips', 'start': 19.164, 'end': 19.324, 'score': 0.397}, {'word': 'from', 'start': 19.364, 'end': 19.624, 'score': 0.837}, {'word': 'how', 'start': 20.324, 'end': 20.744, 'score': 0.766}, {'word': 'then', 'start': 20.784, 'end': 21.204, 'score': 0.774}, {'word': 'I', 'start': 21.284, 'end': 21.344, 'score': 0.805}, {'word': 'can', 'start': 21.364, 'end': 21.545, 'score': 0.755}, {'word': 'succeed', 'start': 21.625, 'end': 21.985, 'score': 0.414}, {'word': 'from', 'start': 22.005, 'end': 22.145, 'score': 0.798}, {'word': 'there?', 'start': 22.165, 'end': 22.305, 'score': 0.688}]}, {'start': 22.822, 'end': 29.008, 'text': ' Okay, before proceeding further, I want to ask you, what niche are you working in?', 'words': [{'word': 'Okay,', 'start': 22.822, 'end': 23.202, 'score': 0.745}, {'word': 'before', 'start': 23.242, 'end': 23.523, 'score': 0.734}, {'word': 'proceeding', 'start': 23.563, 'end': 23.923, 'score': 0.552}, {'word': 'further,', 'start': 23.943, 'end': 24.343, 'score': 0.749}, {'word': 'I', 'start': 24.524, 'end': 24.564, 'score': 0.993}, {'word': 'want', 'start': 24.604, 'end': 24.804, 'score': 0.65}, {'word': 'to', 'start': 24.864, 'end': 25.024, 'score': 0.758}, {'word': 'ask', 'start': 25.224, 'end': 25.424, 'score': 0.929}, {'word': 'you,', 'start': 25.465, 'end': 25.665, 'score': 0.862}, {'word': 'what', 'start': 26.746, 'end': 26.906, 'score': 0.92}, {'word': 'niche', 'start': 27.707, 'end': 27.927, 'score': 0.639}, {'word': 'are', 'start': 28.027, 'end': 28.127, 'score': 0.812}, {'word': 'you', 'start': 28.147, 'end': 28.367, 'score': 0.916}, {'word': 'working', 'start': 28.607, 'end': 28.908, 'score': 0.9}, {'word': 'in?', 'start': 28.948, 'end': 29.008, 'score': 0.548}]}, {'start': 29.028, 'end': 32.691, 'text': 'Currently, I am providing my services on data sciences and artificial intelligence.', 'words': [{'word': 'Currently,', 'start': 29.028, 'end': 29.308, 'score': 0.328}, {'word': 'I', 'start': 29.348, 'end': 29.368, 'score': 0.931}, {'word': 'am', 'start': 29.388, 'end': 29.428, 'score': 0.0}, {'word': 'providing', 'start': 29.708, 'end': 30.049, 'score': 0.887}, {'word': 'my', 'start': 30.069, 'end': 30.149, 'score': 0.978}, {'word': 'services', 'start': 30.189, 'end': 30.549, 'score': 0.495}, {'word': 'on', 'start': 30.589, 'end': 30.669, 'score': 0.769}, {'word': 'data', 'start': 30.93, 'end': 31.15, 'score': 0.616}, {'word': 'sciences', 'start': 31.17, 'end': 31.55, 'score': 0.317}, {'word': 'and', 'start': 31.61, 'end': 31.67, 'score': 0.859}, {'word': 'artificial', 'start': 31.73, 'end': 32.171, 'score': 0.712}, {'word': 'intelligence.', 'start': 32.291, 'end': 32.691, 'score': 0.648}]}, {'start': 32.811, 'end': 33.812, 'text': \"Wow, that's good.\", 'words': [{'word': 'Wow,', 'start': 32.811, 'end': 33.192, 'score': 0.522}, {'word': \"that's\", 'start': 33.272, 'end': 33.492, 'score': 0.869}, {'word': 'good.', 'start': 33.552, 'end': 33.812, 'score': 0.711}]}, {'start': 34.493, 'end': 37.235, 'text': 'Okay, so you are not getting impressions or orders?', 'words': [{'word': 'Okay,', 'start': 34.493, 'end': 34.993, 'score': 0.82}, {'word': 'so', 'start': 35.153, 'end': 35.334, 'score': 0.876}, {'word': 'you', 'start': 35.374, 'end': 35.454, 'score': 0.882}, {'word': 'are', 'start': 35.494, 'end': 35.594, 'score': 0.872}, {'word': 'not', 'start': 35.634, 'end': 35.734, 'score': 0.913}, {'word': 'getting', 'start': 35.774, 'end': 35.994, 'score': 0.923}, {'word': 'impressions', 'start': 36.034, 'end': 36.495, 'score': 0.876}, {'word': 'or', 'start': 36.675, 'end': 36.795, 'score': 0.817}, {'word': 'orders?', 'start': 36.955, 'end': 37.235, 'score': 0.804}]}, {'start': 38.136, 'end': 44.282, 'text': \"Both any pressures, I also can't get more impressions and the success rate is also not good.\", 'words': [{'word': 'Both', 'start': 38.136, 'end': 38.637, 'score': 0.881}, {'word': 'any', 'start': 38.977, 'end': 39.117, 'score': 0.744}, {'word': 'pressures,', 'start': 39.137, 'end': 39.457, 'score': 0.527}, {'word': 'I', 'start': 39.537, 'end': 39.658, 'score': 0.792}, {'word': 'also', 'start': 39.738, 'end': 40.058, 'score': 0.903}, {'word': \"can't\", 'start': 40.118, 'end': 40.358, 'score': 0.722}, {'word': 'get', 'start': 40.458, 'end': 40.799, 'score': 0.653}, {'word': 'more', 'start': 41.219, 'end': 41.359, 'score': 0.46}, {'word': 'impressions', 'start': 41.399, 'end': 41.78, 'score': 0.542}, {'word': 'and', 'start': 41.9, 'end': 42.06, 'score': 0.739}, {'word': 'the', 'start': 42.36, 'end': 42.48, 'score': 0.849}, {'word': 'success', 'start': 42.52, 'end': 42.901, 'score': 0.616}, {'word': 'rate', 'start': 42.941, 'end': 43.101, 'score': 0.388}, {'word': 'is', 'start': 43.161, 'end': 43.241, 'score': 0.604}, {'word': 'also', 'start': 43.301, 'end': 43.501, 'score': 0.932}, {'word': 'not', 'start': 43.541, 'end': 43.681, 'score': 0.827}, {'word': 'good.', 'start': 44.122, 'end': 44.282, 'score': 0.968}]}, {'start': 44.602, 'end': 53.546, 'text': ' Okay, so I would advise you that you should go for sharing your five-hour profile in your WhatsApp group, Facebook groups.', 'words': [{'word': 'Okay,', 'start': 44.602, 'end': 44.942, 'score': 0.684}, {'word': 'so', 'start': 45.282, 'end': 45.643, 'score': 0.868}, {'word': 'I', 'start': 45.963, 'end': 46.023, 'score': 0.755}, {'word': 'would', 'start': 46.063, 'end': 46.403, 'score': 0.685}, {'word': 'advise', 'start': 46.603, 'end': 46.963, 'score': 0.897}, {'word': 'you', 'start': 47.023, 'end': 47.163, 'score': 0.959}, {'word': 'that', 'start': 47.203, 'end': 47.924, 'score': 0.848}, {'word': 'you', 'start': 47.984, 'end': 48.164, 'score': 0.948}, {'word': 'should', 'start': 48.204, 'end': 48.524, 'score': 0.803}, {'word': 'go', 'start': 49.504, 'end': 49.685, 'score': 0.903}, {'word': 'for', 'start': 49.745, 'end': 50.005, 'score': 0.769}, {'word': 'sharing', 'start': 50.745, 'end': 51.045, 'score': 0.702}, {'word': 'your', 'start': 51.085, 'end': 51.325, 'score': 0.757}, {'word': 'five-hour', 'start': 51.345, 'end': 51.645, 'score': 0.557}, {'word': 'profile', 'start': 51.665, 'end': 52.046, 'score': 0.551}, {'word': 'in', 'start': 52.106, 'end': 52.186, 'score': 0.898}, {'word': 'your', 'start': 52.206, 'end': 52.366, 'score': 0.753}, {'word': 'WhatsApp', 'start': 52.386, 'end': 52.706, 'score': 0.376}, {'word': 'group,', 'start': 52.726, 'end': 52.946, 'score': 0.585}, {'word': 'Facebook', 'start': 52.966, 'end': 53.306, 'score': 0.821}, {'word': 'groups.', 'start': 53.326, 'end': 53.546, 'score': 0.619}]}, {'start': 54.187, 'end': 55.067, 'text': 'That is the first step.', 'words': [{'word': 'That', 'start': 54.187, 'end': 54.327, 'score': 0.985}, {'word': 'is', 'start': 54.407, 'end': 54.467, 'score': 0.863}, {'word': 'the', 'start': 54.507, 'end': 54.587, 'score': 0.978}, {'word': 'first', 'start': 54.627, 'end': 54.807, 'score': 0.83}, {'word': 'step.', 'start': 54.827, 'end': 55.067, 'score': 0.874}]}, {'start': 55.507, 'end': 62.331, 'text': 'In our next call, I will tell you about the second tip that is all for today.', 'words': [{'word': 'In', 'start': 55.507, 'end': 55.747, 'score': 0.734}, {'word': 'our', 'start': 56.048, 'end': 56.208, 'score': 0.81}, {'word': 'next', 'start': 56.288, 'end': 56.748, 'score': 0.899}, {'word': 'call,', 'start': 57.328, 'end': 57.588, 'score': 0.927}, {'word': 'I', 'start': 57.808, 'end': 57.848, 'score': 0.982}, {'word': 'will', 'start': 57.869, 'end': 58.069, 'score': 0.965}, {'word': 'tell', 'start': 58.749, 'end': 58.889, 'score': 0.869}, {'word': 'you', 'start': 58.909, 'end': 59.009, 'score': 0.886}, {'word': 'about', 'start': 59.049, 'end': 59.269, 'score': 0.919}, {'word': 'the', 'start': 59.329, 'end': 59.509, 'score': 0.765}, {'word': 'second', 'start': 59.569, 'end': 59.889, 'score': 0.881}, {'word': 'tip', 'start': 60.47, 'end': 60.69, 'score': 0.882}, {'word': 'that', 'start': 61.33, 'end': 61.47, 'score': 0.975}, {'word': 'is', 'start': 61.53, 'end': 61.59, 'score': 0.753}, {'word': 'all', 'start': 61.65, 'end': 61.75, 'score': 0.78}, {'word': 'for', 'start': 61.81, 'end': 61.99, 'score': 0.618}, {'word': 'today.', 'start': 62.031, 'end': 62.331, 'score': 0.711}]}, {'start': 62.451, 'end': 73.136, 'text': 'Is it feasible for me or I can attempt some more techniques like... No, for now, just focus on this technique and then I will tell you the more secrets.', 'words': [{'word': 'Is', 'start': 62.451, 'end': 62.511, 'score': 0.653}, {'word': 'it', 'start': 62.611, 'end': 62.671, 'score': 0.362}, {'word': 'feasible', 'start': 62.691, 'end': 63.231, 'score': 0.604}, {'word': 'for', 'start': 63.251, 'end': 63.411, 'score': 0.839}, {'word': 'me', 'start': 63.451, 'end': 63.731, 'score': 0.78}, {'word': 'or', 'start': 63.751, 'end': 63.791, 'score': 0.001}, {'word': 'I', 'start': 64.812, 'end': 64.872, 'score': 0.908}, {'word': 'can', 'start': 64.912, 'end': 65.172, 'score': 0.849}, {'word': 'attempt', 'start': 66.133, 'end': 66.393, 'score': 0.604}, {'word': 'some', 'start': 66.413, 'end': 66.573, 'score': 0.7}, {'word': 'more', 'start': 66.593, 'end': 66.893, 'score': 0.614}, {'word': 'techniques', 'start': 67.173, 'end': 67.553, 'score': 0.523}, {'word': 'like...', 'start': 67.633, 'end': 68.033, 'score': 0.929}, {'word': 'No,', 'start': 68.354, 'end': 68.474, 'score': 0.914}, {'word': 'for', 'start': 68.894, 'end': 69.034, 'score': 0.794}, {'word': 'now,', 'start': 69.094, 'end': 69.354, 'score': 0.706}, {'word': 'just', 'start': 69.514, 'end': 69.694, 'score': 0.945}, {'word': 'focus', 'start': 69.754, 'end': 70.054, 'score': 0.711}, {'word': 'on', 'start': 70.114, 'end': 70.194, 'score': 0.87}, {'word': 'this', 'start': 70.234, 'end': 70.375, 'score': 0.787}, {'word': 'technique', 'start': 70.415, 'end': 70.795, 'score': 0.903}, {'word': 'and', 'start': 71.455, 'end': 71.555, 'score': 0.686}, {'word': 'then', 'start': 71.615, 'end': 71.775, 'score': 0.824}, {'word': 'I', 'start': 71.855, 'end': 71.875, 'score': 0.989}, {'word': 'will', 'start': 71.915, 'end': 72.055, 'score': 0.314}, {'word': 'tell', 'start': 72.075, 'end': 72.235, 'score': 0.91}, {'word': 'you', 'start': 72.275, 'end': 72.396, 'score': 0.728}, {'word': 'the', 'start': 72.436, 'end': 72.496, 'score': 0.82}, {'word': 'more', 'start': 72.556, 'end': 72.736, 'score': 0.877}, {'word': 'secrets.', 'start': 72.796, 'end': 73.136, 'score': 0.942}]}, {'start': 73.456, 'end': 76.606, 'text': ' Okay, thank you for guiding me.', 'words': [{'word': 'Okay,', 'start': 73.456, 'end': 73.878, 'score': 0.335}, {'word': 'thank', 'start': 73.918, 'end': 74.319, 'score': 0.581}, {'word': 'you', 'start': 74.339, 'end': 74.399, 'score': 0.006}, {'word': 'for', 'start': 74.499, 'end': 75.081, 'score': 0.847}, {'word': 'guiding', 'start': 75.482, 'end': 75.743, 'score': 0.838}, {'word': 'me.', 'start': 75.763, 'end': 76.606, 'score': 0.908}]}, {'start': 76.626, 'end': 78.31, 'text': 'Thank you, Ahmad.', 'words': [{'word': 'Thank', 'start': 76.626, 'end': 77.929, 'score': 0.364}, {'word': 'you,', 'start': 77.949, 'end': 78.03, 'score': 0.709}, {'word': 'Ahmad.', 'start': 78.07, 'end': 78.31, 'score': 0.471}]}, {'start': 78.351, 'end': 78.672, 'text': 'Thank you.', 'words': [{'word': 'Thank', 'start': 78.351, 'end': 78.551, 'score': 0.922}, {'word': 'you.', 'start': 78.571, 'end': 78.672, 'score': 0.961}]}]\n",
      "                              segment label     speaker      start        end  \\\n",
      "0   [ 00:00:00.874 -->  00:00:22.419]     A  SPEAKER_00   0.874363  22.419355   \n",
      "1   [ 00:00:22.707 -->  00:00:29.176]     B  SPEAKER_01  22.707980  29.176570   \n",
      "2   [ 00:00:28.972 -->  00:00:32.707]     C  SPEAKER_00  28.972835  32.707980   \n",
      "3   [ 00:00:32.707 -->  00:00:38.005]     D  SPEAKER_01  32.707980  38.005093   \n",
      "4   [ 00:00:38.005 -->  00:00:43.743]     E  SPEAKER_00  38.005093  43.743633   \n",
      "5   [ 00:00:44.117 -->  00:00:44.337]     F  SPEAKER_01  44.117148  44.337861   \n",
      "6   [ 00:00:44.490 -->  00:01:02.334]     G  SPEAKER_01  44.490662  62.334465   \n",
      "7   [ 00:01:00.229 -->  00:01:00.823]     H  SPEAKER_00  60.229202  60.823430   \n",
      "8   [ 00:01:01.162 -->  00:01:01.230]     I  SPEAKER_00  61.162988  61.230900   \n",
      "9   [ 00:01:01.332 -->  00:01:01.349]     J  SPEAKER_00  61.332767  61.349745   \n",
      "10  [ 00:01:01.604 -->  00:01:08.718]     K  SPEAKER_00  61.604414  68.718166   \n",
      "11  [ 00:01:08.242 -->  00:01:13.268]     L  SPEAKER_01  68.242784  73.268251   \n",
      "12  [ 00:01:10.942 -->  00:01:11.247]     M  SPEAKER_00  70.942275  71.247878   \n",
      "13  [ 00:01:13.370 -->  00:01:18.870]     N  SPEAKER_00  73.370119  78.870968   \n",
      "14  [ 00:01:17.733 -->  00:01:18.056]     O  SPEAKER_01  77.733447  78.056027   \n",
      "\n",
      "    intersection      union  \n",
      "0     -56.151645  77.797637  \n",
      "1     -49.394430  55.964020  \n",
      "2     -45.863020  49.699165  \n",
      "3     -40.565907  45.964020  \n",
      "4     -34.827367  40.666907  \n",
      "5     -34.233139  34.554852  \n",
      "6     -16.236535  34.181338  \n",
      "7     -17.747570  18.442798  \n",
      "8     -17.340100  17.509012  \n",
      "9     -17.221255  17.339233  \n",
      "10     -9.852834  17.067586  \n",
      "11     -5.302749  10.429216  \n",
      "12     -7.323122   7.729725  \n",
      "13      0.101000   5.500849  \n",
      "14     -0.514973   0.938553  \n",
      "[{'start': 0.916, 'end': 2.117, 'text': ' Hello, how are you?', 'words': [{'word': 'Hello,', 'start': 0.916, 'end': 1.736, 'score': 0.511, 'speaker': 'SPEAKER_00'}, {'word': 'how', 'start': 1.776, 'end': 1.856, 'score': 0.826, 'speaker': 'SPEAKER_00'}, {'word': 'are', 'start': 1.896, 'end': 1.956, 'score': 0.43, 'speaker': 'SPEAKER_00'}, {'word': 'you?', 'start': 1.976, 'end': 2.117, 'score': 0.885, 'speaker': 'SPEAKER_00'}], 'speaker': 'SPEAKER_00'}, {'start': 2.777, 'end': 3.157, 'text': \"I'm fine.\", 'words': [{'word': \"I'm\", 'start': 2.777, 'end': 2.917, 'score': 0.826, 'speaker': 'SPEAKER_00'}, {'word': 'fine.', 'start': 2.977, 'end': 3.157, 'score': 0.85, 'speaker': 'SPEAKER_00'}], 'speaker': 'SPEAKER_00'}, {'start': 3.177, 'end': 4.297, 'text': 'How about you?', 'words': [{'word': 'How', 'start': 3.177, 'end': 3.477, 'score': 0.459, 'speaker': 'SPEAKER_00'}, {'word': 'about', 'start': 3.837, 'end': 4.137, 'score': 0.481, 'speaker': 'SPEAKER_00'}, {'word': 'you?', 'start': 4.177, 'end': 4.297, 'score': 0.884, 'speaker': 'SPEAKER_00'}], 'speaker': 'SPEAKER_00'}, {'start': 5.198, 'end': 6.538, 'text': \"I'm good.\", 'words': [{'word': \"I'm\", 'start': 5.198, 'end': 5.338, 'score': 0.82, 'speaker': 'SPEAKER_00'}, {'word': 'good.', 'start': 5.378, 'end': 6.538, 'score': 0.958, 'speaker': 'SPEAKER_00'}], 'speaker': 'SPEAKER_00'}, {'start': 6.558, 'end': 9.019, 'text': \"Let's talk about Fiverr success.\", 'words': [{'word': \"Let's\", 'start': 6.558, 'end': 6.698, 'score': 0.495, 'speaker': 'SPEAKER_00'}, {'word': 'talk', 'start': 6.738, 'end': 6.918, 'score': 0.536, 'speaker': 'SPEAKER_00'}, {'word': 'about', 'start': 6.959, 'end': 7.499, 'score': 0.826, 'speaker': 'SPEAKER_00'}, {'word': 'Fiverr', 'start': 7.999, 'end': 8.519, 'score': 0.643, 'speaker': 'SPEAKER_00'}, {'word': 'success.', 'start': 8.539, 'end': 9.019, 'score': 0.532, 'speaker': 'SPEAKER_00'}], 'speaker': 'SPEAKER_00'}, {'start': 9.159, 'end': 15.622, 'text': \"I'm recently created a count on Fiverr, but I have no success and can't get any order from there.\", 'words': [{'word': \"I'm\", 'start': 9.159, 'end': 9.279, 'score': 0.873, 'speaker': 'SPEAKER_00'}, {'word': 'recently', 'start': 9.319, 'end': 9.78, 'score': 0.715, 'speaker': 'SPEAKER_00'}, {'word': 'created', 'start': 10.12, 'end': 10.42, 'score': 0.414, 'speaker': 'SPEAKER_00'}, {'word': 'a', 'start': 10.46, 'end': 10.5, 'score': 0.748, 'speaker': 'SPEAKER_00'}, {'word': 'count', 'start': 10.54, 'end': 10.7, 'score': 0.35, 'speaker': 'SPEAKER_00'}, {'word': 'on', 'start': 10.72, 'end': 10.8, 'score': 0.386, 'speaker': 'SPEAKER_00'}, {'word': 'Fiverr,', 'start': 10.82, 'end': 11.1, 'score': 0.651, 'speaker': 'SPEAKER_00'}, {'word': 'but', 'start': 11.58, 'end': 11.821, 'score': 0.455, 'speaker': 'SPEAKER_00'}, {'word': 'I', 'start': 12.021, 'end': 12.061, 'score': 0.97, 'speaker': 'SPEAKER_00'}, {'word': 'have', 'start': 12.101, 'end': 12.201, 'score': 0.808, 'speaker': 'SPEAKER_00'}, {'word': 'no', 'start': 12.241, 'end': 12.341, 'score': 0.959, 'speaker': 'SPEAKER_00'}, {'word': 'success', 'start': 12.421, 'end': 12.961, 'score': 0.485, 'speaker': 'SPEAKER_00'}, {'word': 'and', 'start': 14.262, 'end': 14.422, 'score': 0.493, 'speaker': 'SPEAKER_00'}, {'word': \"can't\", 'start': 14.442, 'end': 14.642, 'score': 0.507, 'speaker': 'SPEAKER_00'}, {'word': 'get', 'start': 14.662, 'end': 14.842, 'score': 0.331, 'speaker': 'SPEAKER_00'}, {'word': 'any', 'start': 14.902, 'end': 15.042, 'score': 0.774, 'speaker': 'SPEAKER_00'}, {'word': 'order', 'start': 15.082, 'end': 15.262, 'score': 0.786, 'speaker': 'SPEAKER_00'}, {'word': 'from', 'start': 15.282, 'end': 15.402, 'score': 0.981, 'speaker': 'SPEAKER_00'}, {'word': 'there.', 'start': 15.442, 'end': 15.622, 'score': 0.68, 'speaker': 'SPEAKER_00'}], 'speaker': 'SPEAKER_00'}, {'start': 16.002, 'end': 22.305, 'text': 'So can you please tell me some guidance or some tips from how then I can succeed from there?', 'words': [{'word': 'So', 'start': 16.002, 'end': 16.102, 'score': 0.512, 'speaker': 'SPEAKER_00'}, {'word': 'can', 'start': 16.122, 'end': 16.242, 'score': 0.907, 'speaker': 'SPEAKER_00'}, {'word': 'you', 'start': 16.262, 'end': 16.362, 'score': 0.925, 'speaker': 'SPEAKER_00'}, {'word': 'please', 'start': 16.382, 'end': 16.883, 'score': 0.723, 'speaker': 'SPEAKER_00'}, {'word': 'tell', 'start': 16.923, 'end': 17.083, 'score': 0.852, 'speaker': 'SPEAKER_00'}, {'word': 'me', 'start': 17.103, 'end': 17.183, 'score': 0.98, 'speaker': 'SPEAKER_00'}, {'word': 'some', 'start': 17.223, 'end': 17.443, 'score': 0.888, 'speaker': 'SPEAKER_00'}, {'word': 'guidance', 'start': 18.463, 'end': 18.743, 'score': 0.303, 'speaker': 'SPEAKER_00'}, {'word': 'or', 'start': 18.803, 'end': 18.883, 'score': 0.574, 'speaker': 'SPEAKER_00'}, {'word': 'some', 'start': 18.963, 'end': 19.124, 'score': 0.554, 'speaker': 'SPEAKER_00'}, {'word': 'tips', 'start': 19.164, 'end': 19.324, 'score': 0.397, 'speaker': 'SPEAKER_00'}, {'word': 'from', 'start': 19.364, 'end': 19.624, 'score': 0.837, 'speaker': 'SPEAKER_00'}, {'word': 'how', 'start': 20.324, 'end': 20.744, 'score': 0.766, 'speaker': 'SPEAKER_00'}, {'word': 'then', 'start': 20.784, 'end': 21.204, 'score': 0.774, 'speaker': 'SPEAKER_00'}, {'word': 'I', 'start': 21.284, 'end': 21.344, 'score': 0.805, 'speaker': 'SPEAKER_00'}, {'word': 'can', 'start': 21.364, 'end': 21.545, 'score': 0.755, 'speaker': 'SPEAKER_00'}, {'word': 'succeed', 'start': 21.625, 'end': 21.985, 'score': 0.414, 'speaker': 'SPEAKER_00'}, {'word': 'from', 'start': 22.005, 'end': 22.145, 'score': 0.798, 'speaker': 'SPEAKER_00'}, {'word': 'there?', 'start': 22.165, 'end': 22.305, 'score': 0.688, 'speaker': 'SPEAKER_00'}], 'speaker': 'SPEAKER_00'}, {'start': 22.822, 'end': 29.008, 'text': ' Okay, before proceeding further, I want to ask you, what niche are you working in?', 'words': [{'word': 'Okay,', 'start': 22.822, 'end': 23.202, 'score': 0.745, 'speaker': 'SPEAKER_01'}, {'word': 'before', 'start': 23.242, 'end': 23.523, 'score': 0.734, 'speaker': 'SPEAKER_01'}, {'word': 'proceeding', 'start': 23.563, 'end': 23.923, 'score': 0.552, 'speaker': 'SPEAKER_01'}, {'word': 'further,', 'start': 23.943, 'end': 24.343, 'score': 0.749, 'speaker': 'SPEAKER_01'}, {'word': 'I', 'start': 24.524, 'end': 24.564, 'score': 0.993, 'speaker': 'SPEAKER_01'}, {'word': 'want', 'start': 24.604, 'end': 24.804, 'score': 0.65, 'speaker': 'SPEAKER_01'}, {'word': 'to', 'start': 24.864, 'end': 25.024, 'score': 0.758, 'speaker': 'SPEAKER_01'}, {'word': 'ask', 'start': 25.224, 'end': 25.424, 'score': 0.929, 'speaker': 'SPEAKER_01'}, {'word': 'you,', 'start': 25.465, 'end': 25.665, 'score': 0.862, 'speaker': 'SPEAKER_01'}, {'word': 'what', 'start': 26.746, 'end': 26.906, 'score': 0.92, 'speaker': 'SPEAKER_01'}, {'word': 'niche', 'start': 27.707, 'end': 27.927, 'score': 0.639, 'speaker': 'SPEAKER_01'}, {'word': 'are', 'start': 28.027, 'end': 28.127, 'score': 0.812, 'speaker': 'SPEAKER_01'}, {'word': 'you', 'start': 28.147, 'end': 28.367, 'score': 0.916, 'speaker': 'SPEAKER_01'}, {'word': 'working', 'start': 28.607, 'end': 28.908, 'score': 0.9, 'speaker': 'SPEAKER_01'}, {'word': 'in?', 'start': 28.948, 'end': 29.008, 'score': 0.548, 'speaker': 'SPEAKER_01'}], 'speaker': 'SPEAKER_01'}, {'start': 29.028, 'end': 32.691, 'text': 'Currently, I am providing my services on data sciences and artificial intelligence.', 'words': [{'word': 'Currently,', 'start': 29.028, 'end': 29.308, 'score': 0.328, 'speaker': 'SPEAKER_00'}, {'word': 'I', 'start': 29.348, 'end': 29.368, 'score': 0.931, 'speaker': 'SPEAKER_00'}, {'word': 'am', 'start': 29.388, 'end': 29.428, 'score': 0.0, 'speaker': 'SPEAKER_00'}, {'word': 'providing', 'start': 29.708, 'end': 30.049, 'score': 0.887, 'speaker': 'SPEAKER_00'}, {'word': 'my', 'start': 30.069, 'end': 30.149, 'score': 0.978, 'speaker': 'SPEAKER_00'}, {'word': 'services', 'start': 30.189, 'end': 30.549, 'score': 0.495, 'speaker': 'SPEAKER_00'}, {'word': 'on', 'start': 30.589, 'end': 30.669, 'score': 0.769, 'speaker': 'SPEAKER_00'}, {'word': 'data', 'start': 30.93, 'end': 31.15, 'score': 0.616, 'speaker': 'SPEAKER_00'}, {'word': 'sciences', 'start': 31.17, 'end': 31.55, 'score': 0.317, 'speaker': 'SPEAKER_00'}, {'word': 'and', 'start': 31.61, 'end': 31.67, 'score': 0.859, 'speaker': 'SPEAKER_00'}, {'word': 'artificial', 'start': 31.73, 'end': 32.171, 'score': 0.712, 'speaker': 'SPEAKER_00'}, {'word': 'intelligence.', 'start': 32.291, 'end': 32.691, 'score': 0.648, 'speaker': 'SPEAKER_00'}], 'speaker': 'SPEAKER_00'}, {'start': 32.811, 'end': 33.812, 'text': \"Wow, that's good.\", 'words': [{'word': 'Wow,', 'start': 32.811, 'end': 33.192, 'score': 0.522, 'speaker': 'SPEAKER_01'}, {'word': \"that's\", 'start': 33.272, 'end': 33.492, 'score': 0.869, 'speaker': 'SPEAKER_01'}, {'word': 'good.', 'start': 33.552, 'end': 33.812, 'score': 0.711, 'speaker': 'SPEAKER_01'}], 'speaker': 'SPEAKER_01'}, {'start': 34.493, 'end': 37.235, 'text': 'Okay, so you are not getting impressions or orders?', 'words': [{'word': 'Okay,', 'start': 34.493, 'end': 34.993, 'score': 0.82, 'speaker': 'SPEAKER_01'}, {'word': 'so', 'start': 35.153, 'end': 35.334, 'score': 0.876, 'speaker': 'SPEAKER_01'}, {'word': 'you', 'start': 35.374, 'end': 35.454, 'score': 0.882, 'speaker': 'SPEAKER_01'}, {'word': 'are', 'start': 35.494, 'end': 35.594, 'score': 0.872, 'speaker': 'SPEAKER_01'}, {'word': 'not', 'start': 35.634, 'end': 35.734, 'score': 0.913, 'speaker': 'SPEAKER_01'}, {'word': 'getting', 'start': 35.774, 'end': 35.994, 'score': 0.923, 'speaker': 'SPEAKER_01'}, {'word': 'impressions', 'start': 36.034, 'end': 36.495, 'score': 0.876, 'speaker': 'SPEAKER_01'}, {'word': 'or', 'start': 36.675, 'end': 36.795, 'score': 0.817, 'speaker': 'SPEAKER_01'}, {'word': 'orders?', 'start': 36.955, 'end': 37.235, 'score': 0.804, 'speaker': 'SPEAKER_01'}], 'speaker': 'SPEAKER_01'}, {'start': 38.136, 'end': 44.282, 'text': \"Both any pressures, I also can't get more impressions and the success rate is also not good.\", 'words': [{'word': 'Both', 'start': 38.136, 'end': 38.637, 'score': 0.881, 'speaker': 'SPEAKER_00'}, {'word': 'any', 'start': 38.977, 'end': 39.117, 'score': 0.744, 'speaker': 'SPEAKER_00'}, {'word': 'pressures,', 'start': 39.137, 'end': 39.457, 'score': 0.527, 'speaker': 'SPEAKER_00'}, {'word': 'I', 'start': 39.537, 'end': 39.658, 'score': 0.792, 'speaker': 'SPEAKER_00'}, {'word': 'also', 'start': 39.738, 'end': 40.058, 'score': 0.903, 'speaker': 'SPEAKER_00'}, {'word': \"can't\", 'start': 40.118, 'end': 40.358, 'score': 0.722, 'speaker': 'SPEAKER_00'}, {'word': 'get', 'start': 40.458, 'end': 40.799, 'score': 0.653, 'speaker': 'SPEAKER_00'}, {'word': 'more', 'start': 41.219, 'end': 41.359, 'score': 0.46, 'speaker': 'SPEAKER_00'}, {'word': 'impressions', 'start': 41.399, 'end': 41.78, 'score': 0.542, 'speaker': 'SPEAKER_00'}, {'word': 'and', 'start': 41.9, 'end': 42.06, 'score': 0.739, 'speaker': 'SPEAKER_00'}, {'word': 'the', 'start': 42.36, 'end': 42.48, 'score': 0.849, 'speaker': 'SPEAKER_00'}, {'word': 'success', 'start': 42.52, 'end': 42.901, 'score': 0.616, 'speaker': 'SPEAKER_00'}, {'word': 'rate', 'start': 42.941, 'end': 43.101, 'score': 0.388, 'speaker': 'SPEAKER_00'}, {'word': 'is', 'start': 43.161, 'end': 43.241, 'score': 0.604, 'speaker': 'SPEAKER_00'}, {'word': 'also', 'start': 43.301, 'end': 43.501, 'score': 0.932, 'speaker': 'SPEAKER_00'}, {'word': 'not', 'start': 43.541, 'end': 43.681, 'score': 0.827, 'speaker': 'SPEAKER_00'}, {'word': 'good.', 'start': 44.122, 'end': 44.282, 'score': 0.968, 'speaker': 'SPEAKER_01'}], 'speaker': 'SPEAKER_00'}, {'start': 44.602, 'end': 53.546, 'text': ' Okay, so I would advise you that you should go for sharing your five-hour profile in your WhatsApp group, Facebook groups.', 'words': [{'word': 'Okay,', 'start': 44.602, 'end': 44.942, 'score': 0.684, 'speaker': 'SPEAKER_01'}, {'word': 'so', 'start': 45.282, 'end': 45.643, 'score': 0.868, 'speaker': 'SPEAKER_01'}, {'word': 'I', 'start': 45.963, 'end': 46.023, 'score': 0.755, 'speaker': 'SPEAKER_01'}, {'word': 'would', 'start': 46.063, 'end': 46.403, 'score': 0.685, 'speaker': 'SPEAKER_01'}, {'word': 'advise', 'start': 46.603, 'end': 46.963, 'score': 0.897, 'speaker': 'SPEAKER_01'}, {'word': 'you', 'start': 47.023, 'end': 47.163, 'score': 0.959, 'speaker': 'SPEAKER_01'}, {'word': 'that', 'start': 47.203, 'end': 47.924, 'score': 0.848, 'speaker': 'SPEAKER_01'}, {'word': 'you', 'start': 47.984, 'end': 48.164, 'score': 0.948, 'speaker': 'SPEAKER_01'}, {'word': 'should', 'start': 48.204, 'end': 48.524, 'score': 0.803, 'speaker': 'SPEAKER_01'}, {'word': 'go', 'start': 49.504, 'end': 49.685, 'score': 0.903, 'speaker': 'SPEAKER_01'}, {'word': 'for', 'start': 49.745, 'end': 50.005, 'score': 0.769, 'speaker': 'SPEAKER_01'}, {'word': 'sharing', 'start': 50.745, 'end': 51.045, 'score': 0.702, 'speaker': 'SPEAKER_01'}, {'word': 'your', 'start': 51.085, 'end': 51.325, 'score': 0.757, 'speaker': 'SPEAKER_01'}, {'word': 'five-hour', 'start': 51.345, 'end': 51.645, 'score': 0.557, 'speaker': 'SPEAKER_01'}, {'word': 'profile', 'start': 51.665, 'end': 52.046, 'score': 0.551, 'speaker': 'SPEAKER_01'}, {'word': 'in', 'start': 52.106, 'end': 52.186, 'score': 0.898, 'speaker': 'SPEAKER_01'}, {'word': 'your', 'start': 52.206, 'end': 52.366, 'score': 0.753, 'speaker': 'SPEAKER_01'}, {'word': 'WhatsApp', 'start': 52.386, 'end': 52.706, 'score': 0.376, 'speaker': 'SPEAKER_01'}, {'word': 'group,', 'start': 52.726, 'end': 52.946, 'score': 0.585, 'speaker': 'SPEAKER_01'}, {'word': 'Facebook', 'start': 52.966, 'end': 53.306, 'score': 0.821, 'speaker': 'SPEAKER_01'}, {'word': 'groups.', 'start': 53.326, 'end': 53.546, 'score': 0.619, 'speaker': 'SPEAKER_01'}], 'speaker': 'SPEAKER_01'}, {'start': 54.187, 'end': 55.067, 'text': 'That is the first step.', 'words': [{'word': 'That', 'start': 54.187, 'end': 54.327, 'score': 0.985, 'speaker': 'SPEAKER_01'}, {'word': 'is', 'start': 54.407, 'end': 54.467, 'score': 0.863, 'speaker': 'SPEAKER_01'}, {'word': 'the', 'start': 54.507, 'end': 54.587, 'score': 0.978, 'speaker': 'SPEAKER_01'}, {'word': 'first', 'start': 54.627, 'end': 54.807, 'score': 0.83, 'speaker': 'SPEAKER_01'}, {'word': 'step.', 'start': 54.827, 'end': 55.067, 'score': 0.874, 'speaker': 'SPEAKER_01'}], 'speaker': 'SPEAKER_01'}, {'start': 55.507, 'end': 62.331, 'text': 'In our next call, I will tell you about the second tip that is all for today.', 'words': [{'word': 'In', 'start': 55.507, 'end': 55.747, 'score': 0.734, 'speaker': 'SPEAKER_01'}, {'word': 'our', 'start': 56.048, 'end': 56.208, 'score': 0.81, 'speaker': 'SPEAKER_01'}, {'word': 'next', 'start': 56.288, 'end': 56.748, 'score': 0.899, 'speaker': 'SPEAKER_01'}, {'word': 'call,', 'start': 57.328, 'end': 57.588, 'score': 0.927, 'speaker': 'SPEAKER_01'}, {'word': 'I', 'start': 57.808, 'end': 57.848, 'score': 0.982, 'speaker': 'SPEAKER_01'}, {'word': 'will', 'start': 57.869, 'end': 58.069, 'score': 0.965, 'speaker': 'SPEAKER_01'}, {'word': 'tell', 'start': 58.749, 'end': 58.889, 'score': 0.869, 'speaker': 'SPEAKER_01'}, {'word': 'you', 'start': 58.909, 'end': 59.009, 'score': 0.886, 'speaker': 'SPEAKER_01'}, {'word': 'about', 'start': 59.049, 'end': 59.269, 'score': 0.919, 'speaker': 'SPEAKER_01'}, {'word': 'the', 'start': 59.329, 'end': 59.509, 'score': 0.765, 'speaker': 'SPEAKER_01'}, {'word': 'second', 'start': 59.569, 'end': 59.889, 'score': 0.881, 'speaker': 'SPEAKER_01'}, {'word': 'tip', 'start': 60.47, 'end': 60.69, 'score': 0.882, 'speaker': 'SPEAKER_00'}, {'word': 'that', 'start': 61.33, 'end': 61.47, 'score': 0.975, 'speaker': 'SPEAKER_01'}, {'word': 'is', 'start': 61.53, 'end': 61.59, 'score': 0.753, 'speaker': 'SPEAKER_01'}, {'word': 'all', 'start': 61.65, 'end': 61.75, 'score': 0.78, 'speaker': 'SPEAKER_00'}, {'word': 'for', 'start': 61.81, 'end': 61.99, 'score': 0.618, 'speaker': 'SPEAKER_00'}, {'word': 'today.', 'start': 62.031, 'end': 62.331, 'score': 0.711, 'speaker': 'SPEAKER_00'}], 'speaker': 'SPEAKER_01'}, {'start': 62.451, 'end': 73.136, 'text': 'Is it feasible for me or I can attempt some more techniques like... No, for now, just focus on this technique and then I will tell you the more secrets.', 'words': [{'word': 'Is', 'start': 62.451, 'end': 62.511, 'score': 0.653, 'speaker': 'SPEAKER_00'}, {'word': 'it', 'start': 62.611, 'end': 62.671, 'score': 0.362, 'speaker': 'SPEAKER_00'}, {'word': 'feasible', 'start': 62.691, 'end': 63.231, 'score': 0.604, 'speaker': 'SPEAKER_00'}, {'word': 'for', 'start': 63.251, 'end': 63.411, 'score': 0.839, 'speaker': 'SPEAKER_00'}, {'word': 'me', 'start': 63.451, 'end': 63.731, 'score': 0.78, 'speaker': 'SPEAKER_00'}, {'word': 'or', 'start': 63.751, 'end': 63.791, 'score': 0.001, 'speaker': 'SPEAKER_00'}, {'word': 'I', 'start': 64.812, 'end': 64.872, 'score': 0.908, 'speaker': 'SPEAKER_00'}, {'word': 'can', 'start': 64.912, 'end': 65.172, 'score': 0.849, 'speaker': 'SPEAKER_00'}, {'word': 'attempt', 'start': 66.133, 'end': 66.393, 'score': 0.604, 'speaker': 'SPEAKER_00'}, {'word': 'some', 'start': 66.413, 'end': 66.573, 'score': 0.7, 'speaker': 'SPEAKER_00'}, {'word': 'more', 'start': 66.593, 'end': 66.893, 'score': 0.614, 'speaker': 'SPEAKER_00'}, {'word': 'techniques', 'start': 67.173, 'end': 67.553, 'score': 0.523, 'speaker': 'SPEAKER_00'}, {'word': 'like...', 'start': 67.633, 'end': 68.033, 'score': 0.929, 'speaker': 'SPEAKER_00'}, {'word': 'No,', 'start': 68.354, 'end': 68.474, 'score': 0.914, 'speaker': 'SPEAKER_00'}, {'word': 'for', 'start': 68.894, 'end': 69.034, 'score': 0.794, 'speaker': 'SPEAKER_01'}, {'word': 'now,', 'start': 69.094, 'end': 69.354, 'score': 0.706, 'speaker': 'SPEAKER_01'}, {'word': 'just', 'start': 69.514, 'end': 69.694, 'score': 0.945, 'speaker': 'SPEAKER_01'}, {'word': 'focus', 'start': 69.754, 'end': 70.054, 'score': 0.711, 'speaker': 'SPEAKER_01'}, {'word': 'on', 'start': 70.114, 'end': 70.194, 'score': 0.87, 'speaker': 'SPEAKER_01'}, {'word': 'this', 'start': 70.234, 'end': 70.375, 'score': 0.787, 'speaker': 'SPEAKER_01'}, {'word': 'technique', 'start': 70.415, 'end': 70.795, 'score': 0.903, 'speaker': 'SPEAKER_01'}, {'word': 'and', 'start': 71.455, 'end': 71.555, 'score': 0.686, 'speaker': 'SPEAKER_01'}, {'word': 'then', 'start': 71.615, 'end': 71.775, 'score': 0.824, 'speaker': 'SPEAKER_01'}, {'word': 'I', 'start': 71.855, 'end': 71.875, 'score': 0.989, 'speaker': 'SPEAKER_01'}, {'word': 'will', 'start': 71.915, 'end': 72.055, 'score': 0.314, 'speaker': 'SPEAKER_01'}, {'word': 'tell', 'start': 72.075, 'end': 72.235, 'score': 0.91, 'speaker': 'SPEAKER_01'}, {'word': 'you', 'start': 72.275, 'end': 72.396, 'score': 0.728, 'speaker': 'SPEAKER_01'}, {'word': 'the', 'start': 72.436, 'end': 72.496, 'score': 0.82, 'speaker': 'SPEAKER_01'}, {'word': 'more', 'start': 72.556, 'end': 72.736, 'score': 0.877, 'speaker': 'SPEAKER_01'}, {'word': 'secrets.', 'start': 72.796, 'end': 73.136, 'score': 0.942, 'speaker': 'SPEAKER_01'}], 'speaker': 'SPEAKER_00'}, {'start': 73.456, 'end': 76.606, 'text': ' Okay, thank you for guiding me.', 'words': [{'word': 'Okay,', 'start': 73.456, 'end': 73.878, 'score': 0.335, 'speaker': 'SPEAKER_00'}, {'word': 'thank', 'start': 73.918, 'end': 74.319, 'score': 0.581, 'speaker': 'SPEAKER_00'}, {'word': 'you', 'start': 74.339, 'end': 74.399, 'score': 0.006, 'speaker': 'SPEAKER_00'}, {'word': 'for', 'start': 74.499, 'end': 75.081, 'score': 0.847, 'speaker': 'SPEAKER_00'}, {'word': 'guiding', 'start': 75.482, 'end': 75.743, 'score': 0.838, 'speaker': 'SPEAKER_00'}, {'word': 'me.', 'start': 75.763, 'end': 76.606, 'score': 0.908, 'speaker': 'SPEAKER_00'}], 'speaker': 'SPEAKER_00'}, {'start': 76.626, 'end': 78.31, 'text': 'Thank you, Ahmad.', 'words': [{'word': 'Thank', 'start': 76.626, 'end': 77.929, 'score': 0.364, 'speaker': 'SPEAKER_00'}, {'word': 'you,', 'start': 77.949, 'end': 78.03, 'score': 0.709, 'speaker': 'SPEAKER_00'}, {'word': 'Ahmad.', 'start': 78.07, 'end': 78.31, 'score': 0.471, 'speaker': 'SPEAKER_00'}], 'speaker': 'SPEAKER_00'}, {'start': 78.351, 'end': 78.672, 'text': 'Thank you.', 'words': [{'word': 'Thank', 'start': 78.351, 'end': 78.551, 'score': 0.922, 'speaker': 'SPEAKER_00'}, {'word': 'you.', 'start': 78.571, 'end': 78.672, 'score': 0.961, 'speaker': 'SPEAKER_00'}], 'speaker': 'SPEAKER_00'}]\n"
     ]
    }
   ],
   "source": [
    "import requests\n",
    "import json\n",
    "\n",
    "# Load configuration from JSON file\n",
    "with open('credentials.json', 'r') as config_file:\n",
    "    config = json.load(config_file)\n",
    "\n",
    "read_api_key = config['read_api']['api_token']\n",
    "write_api_key =  config['write_api']['api_token']\n",
    "\n",
    "import whisperx\n",
    "import gc\n",
    "\n",
    "device = \"cpu\"\n",
    "audio_file = \"F&H/f&h_english.wav\"\n",
    "batch_size = 4 # reduce if low on GPU mem\n",
    "compute_type = \"int8\" # change to \"int8\" if low on GPU mem (may reduce accuracy)\n",
    "\n",
    "# 1. Transcribe with original whisper (batched)\n",
    "model_base = whisperx.load_model(\"base\", device, compute_type=compute_type)\n",
    "\n",
    "# save model to local path (optional)\n",
    "# model_dir = \"/path/\"\n",
    "# model_large = whisperx.load_model(\"large-v2\", device, compute_type=compute_type, download_root=model_dir)\n",
    "\n",
    "audio = whisperx.load_audio(audio_file)\n",
    "result1 = model_base.transcribe(audio, batch_size=batch_size)\n",
    "print(result1[\"segments\"]) # before alignment\n",
    "\n",
    "# delete model if low on GPU resources\n",
    "# import gc; gc.collect(); torch.cuda.empty_cache(); del model\n",
    "\n",
    "# 2. Align whisper output\n",
    "model_a, metadata = whisperx.load_align_model(language_code=result1[\"language\"], device=device)\n",
    "result2 = whisperx.align(result1[\"segments\"], model_a, metadata, audio, device, return_char_alignments=False)\n",
    "\n",
    "print(result2[\"segments\"]) # after alignment\n",
    "\n",
    "# delete model if low on GPU resources\n",
    "# import gc; gc.collect(); torch.cuda.empty_cache(); del model_a\n",
    "\n",
    "# 3. Assign speaker labels\n",
    "diarize_model = whisperx.DiarizationPipeline(use_auth_token=write_api_key, device=device)\n",
    "\n",
    "# add min/max number of speakers if known\n",
    "diarize_segments = diarize_model(audio)\n",
    "# diarize_model(audio, min_speakers=min_speakers, max_speakers=max_speakers)\n",
    "\n",
    "result3 = whisperx.assign_word_speakers(diarize_segments, result2)\n",
    "print(diarize_segments)\n",
    "print(result3[\"segments\"]) # segments are now assigned speaker IDs"
   ]
  },
  {
   "cell_type": "code",
   "execution_count": 39,
   "metadata": {},
   "outputs": [
    {
     "data": {
      "text/plain": [
       "'en'"
      ]
     },
     "execution_count": 39,
     "metadata": {},
     "output_type": "execute_result"
    }
   ],
   "source": [
    "result1[\"language\"]"
   ]
  },
  {
   "cell_type": "code",
   "execution_count": 6,
   "metadata": {},
   "outputs": [
    {
     "ename": "CouldntDecodeError",
     "evalue": "Decoding failed. ffmpeg returned error code: 3199971767\n\nOutput from ffmpeg/avlib:\n\nffmpeg version 6.1.1-essentials_build-www.gyan.dev Copyright (c) 2000-2023 the FFmpeg developers\r\n  built with gcc 12.2.0 (Rev10, Built by MSYS2 project)\r\n  configuration: --enable-gpl --enable-version3 --enable-static --pkg-config=pkgconf --disable-w32threads --disable-autodetect --enable-fontconfig --enable-iconv --enable-gnutls --enable-libxml2 --enable-gmp --enable-bzlib --enable-lzma --enable-zlib --enable-libsrt --enable-libssh --enable-libzmq --enable-avisynth --enable-sdl2 --enable-libwebp --enable-libx264 --enable-libx265 --enable-libxvid --enable-libaom --enable-libopenjpeg --enable-libvpx --enable-mediafoundation --enable-libass --enable-libfreetype --enable-libfribidi --enable-libharfbuzz --enable-libvidstab --enable-libvmaf --enable-libzimg --enable-amf --enable-cuda-llvm --enable-cuvid --enable-ffnvcodec --enable-nvdec --enable-nvenc --enable-dxva2 --enable-d3d11va --enable-libvpl --enable-libgme --enable-libopenmpt --enable-libopencore-amrwb --enable-libmp3lame --enable-libtheora --enable-libvo-amrwbenc --enable-libgsm --enable-libopencore-amrnb --enable-libopus --enable-libspeex --enable-libvorbis --enable-librubberband\r\n  libavutil      58. 29.100 / 58. 29.100\r\n  libavcodec     60. 31.102 / 60. 31.102\r\n  libavformat    60. 16.100 / 60. 16.100\r\n  libavdevice    60.  3.100 / 60.  3.100\r\n  libavfilter     9. 12.100 /  9. 12.100\r\n  libswscale      7.  5.100 /  7.  5.100\r\n  libswresample   4. 12.100 /  4. 12.100\r\n  libpostproc    57.  3.100 / 57.  3.100\r\n[wav @ 00000202cc9dbc40] invalid start code [0][0][0][28] in RIFF header\r\n[in#0 @ 00000202cc9dbac0] Error opening input: Invalid data found when processing input\r\nError opening input file E:\\Audios\\Nawal.wav.\r\nError opening input files: Invalid data found when processing input\r\n",
     "output_type": "error",
     "traceback": [
      "\u001b[1;31m---------------------------------------------------------------------------\u001b[0m",
      "\u001b[1;31mCouldntDecodeError\u001b[0m                        Traceback (most recent call last)",
      "Cell \u001b[1;32mIn[6], line 4\u001b[0m\n\u001b[0;32m      1\u001b[0m \u001b[38;5;28;01mfrom\u001b[39;00m \u001b[38;5;21;01mpydub\u001b[39;00m \u001b[38;5;28;01mimport\u001b[39;00m AudioSegment\n\u001b[0;32m      3\u001b[0m \u001b[38;5;66;03m# Load the WAV file\u001b[39;00m\n\u001b[1;32m----> 4\u001b[0m audio \u001b[38;5;241m=\u001b[39m \u001b[43mAudioSegment\u001b[49m\u001b[38;5;241;43m.\u001b[39;49m\u001b[43mfrom_wav\u001b[49m\u001b[43m(\u001b[49m\u001b[38;5;124;43m\"\u001b[39;49m\u001b[38;5;124;43mE:\u001b[39;49m\u001b[38;5;130;43;01m\\\\\u001b[39;49;00m\u001b[38;5;124;43mAudios\u001b[39;49m\u001b[38;5;130;43;01m\\\\\u001b[39;49;00m\u001b[38;5;124;43mNawal.wav\u001b[39;49m\u001b[38;5;124;43m\"\u001b[39;49m\u001b[43m)\u001b[49m\n\u001b[0;32m      6\u001b[0m \u001b[38;5;66;03m# Export the audio to WAV format again\u001b[39;00m\n\u001b[0;32m      7\u001b[0m audio\u001b[38;5;241m.\u001b[39mexport(\u001b[38;5;124m\"\u001b[39m\u001b[38;5;124mE:\u001b[39m\u001b[38;5;130;01m\\\\\u001b[39;00m\u001b[38;5;124mAudios\u001b[39m\u001b[38;5;130;01m\\\\\u001b[39;00m\u001b[38;5;124mNawal_fixed.wav\u001b[39m\u001b[38;5;124m\"\u001b[39m, \u001b[38;5;28mformat\u001b[39m\u001b[38;5;241m=\u001b[39m\u001b[38;5;124m\"\u001b[39m\u001b[38;5;124mwav\u001b[39m\u001b[38;5;124m\"\u001b[39m)\n",
      "File \u001b[1;32me:\\Habibi\\New_whisperX\\.venv\\lib\\site-packages\\pydub\\audio_segment.py:808\u001b[0m, in \u001b[0;36mAudioSegment.from_wav\u001b[1;34m(cls, file, parameters)\u001b[0m\n\u001b[0;32m    806\u001b[0m \u001b[38;5;129m@classmethod\u001b[39m\n\u001b[0;32m    807\u001b[0m \u001b[38;5;28;01mdef\u001b[39;00m \u001b[38;5;21mfrom_wav\u001b[39m(\u001b[38;5;28mcls\u001b[39m, file, parameters\u001b[38;5;241m=\u001b[39m\u001b[38;5;28;01mNone\u001b[39;00m):\n\u001b[1;32m--> 808\u001b[0m     \u001b[38;5;28;01mreturn\u001b[39;00m \u001b[38;5;28;43mcls\u001b[39;49m\u001b[38;5;241;43m.\u001b[39;49m\u001b[43mfrom_file\u001b[49m\u001b[43m(\u001b[49m\u001b[43mfile\u001b[49m\u001b[43m,\u001b[49m\u001b[43m \u001b[49m\u001b[38;5;124;43m'\u001b[39;49m\u001b[38;5;124;43mwav\u001b[39;49m\u001b[38;5;124;43m'\u001b[39;49m\u001b[43m,\u001b[49m\u001b[43m \u001b[49m\u001b[43mparameters\u001b[49m\u001b[38;5;241;43m=\u001b[39;49m\u001b[43mparameters\u001b[49m\u001b[43m)\u001b[49m\n",
      "File \u001b[1;32me:\\Habibi\\New_whisperX\\.venv\\lib\\site-packages\\pydub\\audio_segment.py:773\u001b[0m, in \u001b[0;36mAudioSegment.from_file\u001b[1;34m(cls, file, format, codec, parameters, start_second, duration, **kwargs)\u001b[0m\n\u001b[0;32m    771\u001b[0m     \u001b[38;5;28;01mif\u001b[39;00m close_file:\n\u001b[0;32m    772\u001b[0m         file\u001b[38;5;241m.\u001b[39mclose()\n\u001b[1;32m--> 773\u001b[0m     \u001b[38;5;28;01mraise\u001b[39;00m CouldntDecodeError(\n\u001b[0;32m    774\u001b[0m         \u001b[38;5;124m\"\u001b[39m\u001b[38;5;124mDecoding failed. ffmpeg returned error code: \u001b[39m\u001b[38;5;132;01m{0}\u001b[39;00m\u001b[38;5;130;01m\\n\u001b[39;00m\u001b[38;5;130;01m\\n\u001b[39;00m\u001b[38;5;124mOutput from ffmpeg/avlib:\u001b[39m\u001b[38;5;130;01m\\n\u001b[39;00m\u001b[38;5;130;01m\\n\u001b[39;00m\u001b[38;5;132;01m{1}\u001b[39;00m\u001b[38;5;124m\"\u001b[39m\u001b[38;5;241m.\u001b[39mformat(\n\u001b[0;32m    775\u001b[0m             p\u001b[38;5;241m.\u001b[39mreturncode, p_err\u001b[38;5;241m.\u001b[39mdecode(errors\u001b[38;5;241m=\u001b[39m\u001b[38;5;124m'\u001b[39m\u001b[38;5;124mignore\u001b[39m\u001b[38;5;124m'\u001b[39m) ))\n\u001b[0;32m    777\u001b[0m p_out \u001b[38;5;241m=\u001b[39m \u001b[38;5;28mbytearray\u001b[39m(p_out)\n\u001b[0;32m    778\u001b[0m fix_wav_headers(p_out)\n",
      "\u001b[1;31mCouldntDecodeError\u001b[0m: Decoding failed. ffmpeg returned error code: 3199971767\n\nOutput from ffmpeg/avlib:\n\nffmpeg version 6.1.1-essentials_build-www.gyan.dev Copyright (c) 2000-2023 the FFmpeg developers\r\n  built with gcc 12.2.0 (Rev10, Built by MSYS2 project)\r\n  configuration: --enable-gpl --enable-version3 --enable-static --pkg-config=pkgconf --disable-w32threads --disable-autodetect --enable-fontconfig --enable-iconv --enable-gnutls --enable-libxml2 --enable-gmp --enable-bzlib --enable-lzma --enable-zlib --enable-libsrt --enable-libssh --enable-libzmq --enable-avisynth --enable-sdl2 --enable-libwebp --enable-libx264 --enable-libx265 --enable-libxvid --enable-libaom --enable-libopenjpeg --enable-libvpx --enable-mediafoundation --enable-libass --enable-libfreetype --enable-libfribidi --enable-libharfbuzz --enable-libvidstab --enable-libvmaf --enable-libzimg --enable-amf --enable-cuda-llvm --enable-cuvid --enable-ffnvcodec --enable-nvdec --enable-nvenc --enable-dxva2 --enable-d3d11va --enable-libvpl --enable-libgme --enable-libopenmpt --enable-libopencore-amrwb --enable-libmp3lame --enable-libtheora --enable-libvo-amrwbenc --enable-libgsm --enable-libopencore-amrnb --enable-libopus --enable-libspeex --enable-libvorbis --enable-librubberband\r\n  libavutil      58. 29.100 / 58. 29.100\r\n  libavcodec     60. 31.102 / 60. 31.102\r\n  libavformat    60. 16.100 / 60. 16.100\r\n  libavdevice    60.  3.100 / 60.  3.100\r\n  libavfilter     9. 12.100 /  9. 12.100\r\n  libswscale      7.  5.100 /  7.  5.100\r\n  libswresample   4. 12.100 /  4. 12.100\r\n  libpostproc    57.  3.100 / 57.  3.100\r\n[wav @ 00000202cc9dbc40] invalid start code [0][0][0][28] in RIFF header\r\n[in#0 @ 00000202cc9dbac0] Error opening input: Invalid data found when processing input\r\nError opening input file E:\\Audios\\Nawal.wav.\r\nError opening input files: Invalid data found when processing input\r\n"
     ]
    }
   ],
   "source": [
    "from pydub import AudioSegment\n",
    "\n",
    "# Load the WAV file\n",
    "audio = AudioSegment.from_wav(\"E:\\\\Audios\\\\Nawal.wav\")\n",
    "\n",
    "# Export the audio to WAV format again\n",
    "audio.export(\"E:\\\\Audios\\\\Nawal_fixed.wav\", format=\"wav\")"
   ]
  },
  {
   "cell_type": "code",
   "execution_count": 8,
   "metadata": {},
   "outputs": [
    {
     "name": "stdout",
     "output_type": "stream",
     "text": [
      "Transcription(text='السلام علیکم میں حبیبینک کا نمائندہ ہوں ہم آپ کو کارڈ لینے کی تجویز کریں گے کیا آپ انڈسٹر ہیں؟ وعلیکم سلام جی ضرور پلیس بتائیے آپ کے پاس کون سے کریڈ کارڈز اویلیبل ہیں؟ ہمارے کریڈ کارڈ میں کافی آسانیاں ہیں رقم نکروانے سے لے کر اور بھی بہت سی ایسی خاصوصیت ہیں جو دوسرے بینک کے کارڈ سے ہمیں الگ بناتی ہیں اچھا یہ تو بہت اچھی بات ہے پلیس کیا آپ ڈیٹیئر شیئر کر سکتے ہیں تاکہ میں اس کو دیکھ سکوں؟ ٹھیک ہے آپ ہمارے ویب سائٹ پر فارم فل کر دیں اس کے بعد ساری ڈیٹیئر آپ کو مل جائیں گے بہت شکریہ تو کیا میں آپ کو پرسنلی میسج کر سکتا ہوں؟ نہیں بالکل نہیں آپ ہمارے ویب سائٹ پر جا کے فارم فل کریں ٹھیک ہے میں ویب سائٹ پر جا کے کرتا ہوں تینکیو', task='transcribe', language='urdu', duration=41.130001068115234, segments=[{'id': 0, 'seek': 0, 'start': 1.059999942779541, 'end': 7.960000038146973, 'text': ' السلام علیکم میں حبیبینک کا نمائندہ ہوں ہم آپ کو کارڈ لینے کی تجویز کریں گے کیا آپ انڈسٹر ہیں؟', 'tokens': [50364, 21136, 37440, 11203, 29325, 2304, 27875, 11331, 3555, 4135, 3555, 32151, 6007, 39893, 8717, 2304, 16373, 41260, 6354, 12138, 31320, 12138, 2304, 46201, 31561, 7565, 9640, 150, 230, 5296, 32151, 7369, 23180, 6055, 7435, 2407, 4135, 11622, 29688, 14768, 28697, 7369, 23180, 995, 46201, 16472, 150, 230, 3794, 37130, 2288, 38904, 22807, 50714], 'temperature': 0.0, 'avg_logprob': -0.2608333230018616, 'compression_ratio': 2.040372610092163, 'no_speech_prob': 0.16992607712745667}, {'id': 1, 'seek': 0, 'start': 7.960000038146973, 'end': 13.100000381469727, 'text': ' وعلیکم سلام جی ضرور پلیس بتائیے آپ کے پاس کون سے کریڈ کارڈز اویلیبل ہیں؟', 'tokens': [50714, 4032, 30241, 29325, 2304, 8608, 37440, 10874, 4135, 48812, 2288, 13063, 21453, 1211, 4135, 3794, 39894, 16373, 4135, 7369, 46201, 24049, 21453, 32277, 7565, 11536, 34190, 29688, 4135, 150, 230, 7565, 9640, 150, 230, 11622, 1975, 2407, 4135, 1211, 4135, 36150, 38904, 22807, 50964], 'temperature': 0.0, 'avg_logprob': -0.2608333230018616, 'compression_ratio': 2.040372610092163, 'no_speech_prob': 0.16992607712745667}, {'id': 2, 'seek': 0, 'start': 13.100000381469727, 'end': 20.420000076293945, 'text': ' ہمارے کریڈ کارڈ میں کافی آسانیاں ہیں رقم نکروانے سے لے کر اور بھی بہت سی ایسی خاصوصیت ہیں جو دوسرے بینک کے کارڈ سے ہمیں الگ بناتی ہیں', 'tokens': [50964, 12138, 2304, 9640, 7369, 29688, 4135, 150, 230, 7565, 9640, 150, 230, 27875, 7565, 31845, 4135, 19753, 3794, 7649, 38849, 11616, 38904, 12602, 4587, 2304, 8717, 6007, 2288, 2407, 7649, 7369, 34190, 5296, 7369, 29688, 32930, 4724, 36078, 4724, 6354, 2655, 8608, 4135, 1975, 4135, 3794, 4135, 16490, 33546, 2407, 9381, 4135, 2655, 38904, 10874, 2407, 11778, 41779, 2288, 7369, 4724, 32151, 6007, 24049, 7565, 9640, 150, 230, 34190, 12138, 2304, 14768, 2423, 16761, 4724, 8315, 2655, 4135, 38904, 51364], 'temperature': 0.0, 'avg_logprob': -0.2608333230018616, 'compression_ratio': 2.040372610092163, 'no_speech_prob': 0.16992607712745667}, {'id': 3, 'seek': 2042, 'start': 20.420000076293945, 'end': 26.200000762939453, 'text': ' اچھا یہ تو بہت اچھی بات ہے پلیس کیا آپ ڈیٹیئر شیئر کر سکتے ہیں تاکہ میں اس کو دیکھ سکوں؟', 'tokens': [50364, 1975, 24061, 14268, 995, 35324, 33427, 4724, 6354, 2655, 1975, 24061, 36078, 4724, 9307, 23905, 21453, 1211, 4135, 3794, 23180, 995, 46201, 220, 150, 230, 4135, 37130, 4135, 19986, 2288, 13412, 4135, 19986, 2288, 29688, 8608, 6007, 2655, 7369, 38904, 6055, 995, 6007, 6354, 27875, 24525, 31561, 11778, 29325, 14268, 8608, 6007, 31320, 22807, 50614], 'temperature': 0.0, 'avg_logprob': -0.20399244129657745, 'compression_ratio': 2.309237003326416, 'no_speech_prob': 0.3303148150444031}, {'id': 4, 'seek': 2042, 'start': 26.200000762939453, 'end': 32.279998779296875, 'text': ' ٹھیک ہے آپ ہمارے ویب سائٹ پر فارم فل کر دیں اس کے بعد ساری ڈیٹیئر آپ کو مل جائیں گے بہت شکریہ', 'tokens': [50614, 1447, 117, 14268, 29325, 23905, 46201, 12138, 2304, 9640, 7369, 4032, 4135, 3555, 8608, 16373, 37130, 21453, 2288, 6156, 9640, 2304, 6156, 1211, 29688, 11778, 14768, 24525, 24049, 39182, 8608, 9640, 4135, 220, 150, 230, 4135, 37130, 4135, 19986, 2288, 46201, 31561, 3714, 1211, 10874, 16373, 14768, 28697, 7369, 4724, 6354, 2655, 13412, 6007, 44823, 6354, 50914], 'temperature': 0.0, 'avg_logprob': -0.20399244129657745, 'compression_ratio': 2.309237003326416, 'no_speech_prob': 0.3303148150444031}, {'id': 5, 'seek': 2042, 'start': 32.279998779296875, 'end': 35.779998779296875, 'text': ' تو کیا میں آپ کو پرسنلی میسج کر سکتا ہوں؟', 'tokens': [50914, 33427, 23180, 995, 27875, 46201, 31561, 21453, 2288, 3794, 1863, 1211, 4135, 3714, 4135, 3794, 7435, 29688, 8608, 6007, 2655, 995, 12138, 31320, 22807, 51064], 'temperature': 0.0, 'avg_logprob': -0.20399244129657745, 'compression_ratio': 2.309237003326416, 'no_speech_prob': 0.3303148150444031}, {'id': 6, 'seek': 2042, 'start': 35.779998779296875, 'end': 39.29999923706055, 'text': ' نہیں بالکل نہیں آپ ہمارے ویب سائٹ پر جا کے فارم فل کریں', 'tokens': [51064, 50194, 20666, 6007, 1211, 50194, 46201, 12138, 2304, 9640, 7369, 4032, 4135, 3555, 8608, 16373, 37130, 21453, 2288, 10874, 995, 24049, 6156, 9640, 2304, 6156, 1211, 29688, 14768, 51264], 'temperature': 0.0, 'avg_logprob': -0.20399244129657745, 'compression_ratio': 2.309237003326416, 'no_speech_prob': 0.3303148150444031}, {'id': 7, 'seek': 2042, 'start': 39.29999923706055, 'end': 40.599998474121094, 'text': ' ٹھیک ہے میں ویب سائٹ پر جا کے کرتا ہوں تینکیو', 'tokens': [51264, 1447, 117, 14268, 29325, 23905, 27875, 4032, 4135, 3555, 8608, 16373, 37130, 21453, 2288, 10874, 995, 24049, 29688, 2655, 995, 12138, 31320, 6055, 32151, 6007, 4135, 2407, 51414], 'temperature': 0.0, 'avg_logprob': -0.20399244129657745, 'compression_ratio': 2.309237003326416, 'no_speech_prob': 0.3303148150444031}], words=[{'word': 'السلام', 'start': 1.059999942779541, 'end': 1.5800000429153442}, {'word': 'علیکم', 'start': 1.5800000429153442, 'end': 1.899999976158142}, {'word': 'میں', 'start': 1.899999976158142, 'end': 2.0999999046325684}, {'word': 'حبیبینک', 'start': 2.0999999046325684, 'end': 2.700000047683716}, {'word': 'کا', 'start': 2.700000047683716, 'end': 2.819999933242798}, {'word': 'نمائندہ', 'start': 2.819999933242798, 'end': 3.4600000381469727}, {'word': 'ہوں', 'start': 3.4600000381469727, 'end': 3.4600000381469727}, {'word': 'ہم', 'start': 3.4600000381469727, 'end': 3.759999990463257}, {'word': 'آپ', 'start': 3.759999990463257, 'end': 3.9000000953674316}, {'word': 'کو', 'start': 3.9000000953674316, 'end': 4.059999942779541}, {'word': 'کارڈ', 'start': 4.059999942779541, 'end': 4.239999771118164}, {'word': 'لینے', 'start': 4.239999771118164, 'end': 4.440000057220459}, {'word': 'کی', 'start': 4.440000057220459, 'end': 4.619999885559082}, {'word': 'تجویز', 'start': 4.619999885559082, 'end': 4.900000095367432}, {'word': 'کریں', 'start': 4.900000095367432, 'end': 5.300000190734863}, {'word': 'گے', 'start': 5.300000190734863, 'end': 5.619999885559082}, {'word': 'کیا', 'start': 5.619999885559082, 'end': 6.0}, {'word': 'آپ', 'start': 6.0, 'end': 6.139999866485596}, {'word': 'انڈسٹر', 'start': 6.139999866485596, 'end': 6.619999885559082}, {'word': 'ہیں؟', 'start': 6.619999885559082, 'end': 7.739999771118164}, {'word': 'وعلیکم', 'start': 7.739999771118164, 'end': 7.960000038146973}, {'word': 'سلام', 'start': 7.960000038146973, 'end': 8.359999656677246}, {'word': 'جی', 'start': 8.359999656677246, 'end': 8.65999984741211}, {'word': 'ضرور', 'start': 8.65999984741211, 'end': 9.079999923706055}, {'word': 'پلیس', 'start': 9.079999923706055, 'end': 9.699999809265137}, {'word': 'بتائیے', 'start': 9.699999809265137, 'end': 10.180000305175781}, {'word': 'آپ', 'start': 10.180000305175781, 'end': 10.260000228881836}, {'word': 'کے', 'start': 10.260000228881836, 'end': 10.380000114440918}, {'word': 'پاس', 'start': 10.380000114440918, 'end': 10.600000381469727}, {'word': 'کون', 'start': 10.600000381469727, 'end': 10.880000114440918}, {'word': 'سے', 'start': 10.880000114440918, 'end': 11.039999961853027}, {'word': 'کریڈ', 'start': 11.039999961853027, 'end': 11.260000228881836}, {'word': 'کارڈز', 'start': 11.260000228881836, 'end': 11.760000228881836}, {'word': 'اویلیبل', 'start': 11.760000228881836, 'end': 12.039999961853027}, {'word': 'ہیں؟', 'start': 12.039999961853027, 'end': 12.859999656677246}, {'word': 'ہمارے', 'start': 12.859999656677246, 'end': 13.100000381469727}, {'word': 'کریڈ', 'start': 13.100000381469727, 'end': 13.380000114440918}, {'word': 'کارڈ', 'start': 13.380000114440918, 'end': 13.5600004196167}, {'word': 'میں', 'start': 13.5600004196167, 'end': 13.699999809265137}, {'word': 'کافی', 'start': 13.699999809265137, 'end': 13.960000038146973}, {'word': 'آسانیاں', 'start': 13.960000038146973, 'end': 15.119999885559082}, {'word': 'ہیں', 'start': 15.119999885559082, 'end': 15.119999885559082}, {'word': 'رقم', 'start': 15.119999885559082, 'end': 15.5}, {'word': 'نکروانے', 'start': 15.5, 'end': 15.920000076293945}, {'word': 'سے', 'start': 15.920000076293945, 'end': 16.059999465942383}, {'word': 'لے', 'start': 16.059999465942383, 'end': 16.219999313354492}, {'word': 'کر', 'start': 16.219999313354492, 'end': 16.3799991607666}, {'word': 'اور', 'start': 16.3799991607666, 'end': 16.700000762939453}, {'word': 'بھی', 'start': 16.700000762939453, 'end': 16.799999237060547}, {'word': 'بہت', 'start': 16.799999237060547, 'end': 17.139999389648438}, {'word': 'سی', 'start': 17.139999389648438, 'end': 17.139999389648438}, {'word': 'ایسی', 'start': 17.139999389648438, 'end': 17.360000610351562}, {'word': 'خاصوصیت', 'start': 17.360000610351562, 'end': 17.860000610351562}, {'word': 'ہیں', 'start': 17.860000610351562, 'end': 18.020000457763672}, {'word': 'جو', 'start': 18.020000457763672, 'end': 18.18000030517578}, {'word': 'دوسرے', 'start': 18.18000030517578, 'end': 18.459999084472656}, {'word': 'بینک', 'start': 18.459999084472656, 'end': 18.65999984741211}, {'word': 'کے', 'start': 18.65999984741211, 'end': 18.81999969482422}, {'word': 'کارڈ', 'start': 18.81999969482422, 'end': 19.040000915527344}, {'word': 'سے', 'start': 19.040000915527344, 'end': 19.18000030517578}, {'word': 'ہمیں', 'start': 19.18000030517578, 'end': 19.3799991607666}, {'word': 'الگ', 'start': 19.3799991607666, 'end': 19.520000457763672}, {'word': 'بناتی', 'start': 19.520000457763672, 'end': 19.920000076293945}, {'word': 'ہیں', 'start': 19.920000076293945, 'end': 20.420000076293945}, {'word': 'اچھا', 'start': 20.420000076293945, 'end': 20.84000015258789}, {'word': 'یہ', 'start': 20.84000015258789, 'end': 21.020000457763672}, {'word': 'تو', 'start': 21.020000457763672, 'end': 21.18000030517578}, {'word': 'بہت', 'start': 21.18000030517578, 'end': 21.360000610351562}, {'word': 'اچھی', 'start': 21.360000610351562, 'end': 21.6200008392334}, {'word': 'بات', 'start': 21.6200008392334, 'end': 21.860000610351562}, {'word': 'ہے', 'start': 21.860000610351562, 'end': 22.079999923706055}, {'word': 'پلیس', 'start': 22.079999923706055, 'end': 22.5}, {'word': 'کیا', 'start': 22.5, 'end': 22.700000762939453}, {'word': 'آپ', 'start': 22.700000762939453, 'end': 23.059999465942383}, {'word': 'ڈیٹیئر', 'start': 23.059999465942383, 'end': 23.299999237060547}, {'word': 'شیئر', 'start': 23.299999237060547, 'end': 23.520000457763672}, {'word': 'کر', 'start': 23.520000457763672, 'end': 23.739999771118164}, {'word': 'سکتے', 'start': 23.739999771118164, 'end': 24.0}, {'word': 'ہیں', 'start': 24.0, 'end': 24.079999923706055}, {'word': 'تاکہ', 'start': 24.079999923706055, 'end': 24.299999237060547}, {'word': 'میں', 'start': 24.299999237060547, 'end': 24.479999542236328}, {'word': 'اس', 'start': 24.479999542236328, 'end': 24.600000381469727}, {'word': 'کو', 'start': 24.600000381469727, 'end': 24.81999969482422}, {'word': 'دیکھ', 'start': 24.81999969482422, 'end': 25.219999313354492}, {'word': 'سکوں؟', 'start': 25.219999313354492, 'end': 26.020000457763672}, {'word': 'ٹھیک', 'start': 26.020000457763672, 'end': 26.200000762939453}, {'word': 'ہے', 'start': 26.200000762939453, 'end': 26.299999237060547}, {'word': 'آپ', 'start': 26.299999237060547, 'end': 26.520000457763672}, {'word': 'ہمارے', 'start': 26.520000457763672, 'end': 26.799999237060547}, {'word': 'ویب', 'start': 26.799999237060547, 'end': 27.059999465942383}, {'word': 'سائٹ', 'start': 27.059999465942383, 'end': 27.079999923706055}, {'word': 'پر', 'start': 27.079999923706055, 'end': 27.280000686645508}, {'word': 'فارم', 'start': 27.280000686645508, 'end': 27.540000915527344}, {'word': 'فل', 'start': 27.540000915527344, 'end': 27.68000030517578}, {'word': 'کر', 'start': 27.68000030517578, 'end': 27.860000610351562}, {'word': 'دیں', 'start': 27.860000610351562, 'end': 28.0}, {'word': 'اس', 'start': 28.0, 'end': 28.219999313354492}, {'word': 'کے', 'start': 28.219999313354492, 'end': 28.280000686645508}, {'word': 'بعد', 'start': 28.280000686645508, 'end': 28.459999084472656}, {'word': 'ساری', 'start': 28.459999084472656, 'end': 28.719999313354492}, {'word': 'ڈیٹیئر', 'start': 28.719999313354492, 'end': 29.079999923706055}, {'word': 'آپ', 'start': 29.079999923706055, 'end': 29.34000015258789}, {'word': 'کو', 'start': 29.34000015258789, 'end': 29.479999542236328}, {'word': 'مل', 'start': 29.479999542236328, 'end': 29.899999618530273}, {'word': 'جائیں', 'start': 29.899999618530273, 'end': 30.15999984741211}, {'word': 'گے', 'start': 30.15999984741211, 'end': 30.360000610351562}, {'word': 'بہت', 'start': 30.360000610351562, 'end': 30.579999923706055}, {'word': 'شکریہ', 'start': 30.579999923706055, 'end': 31.020000457763672}, {'word': 'تو', 'start': 31.020000457763672, 'end': 31.5}, {'word': 'کیا', 'start': 31.5, 'end': 31.81999969482422}, {'word': 'میں', 'start': 31.81999969482422, 'end': 32.279998779296875}, {'word': 'آپ', 'start': 32.279998779296875, 'end': 32.459999084472656}, {'word': 'کو', 'start': 32.459999084472656, 'end': 32.70000076293945}, {'word': 'پرسنلی', 'start': 32.70000076293945, 'end': 33.099998474121094}, {'word': 'میسج', 'start': 33.099998474121094, 'end': 33.2400016784668}, {'word': 'کر', 'start': 33.2400016784668, 'end': 33.540000915527344}, {'word': 'سکتا', 'start': 33.540000915527344, 'end': 33.81999969482422}, {'word': 'ہوں؟', 'start': 33.81999969482422, 'end': 34.58000183105469}, {'word': 'نہیں', 'start': 34.58000183105469, 'end': 34.619998931884766}, {'word': 'بالکل', 'start': 34.619998931884766, 'end': 34.939998626708984}, {'word': 'نہیں', 'start': 34.939998626708984, 'end': 35.560001373291016}, {'word': 'آپ', 'start': 35.560001373291016, 'end': 35.779998779296875}, {'word': 'ہمارے', 'start': 35.779998779296875, 'end': 36.060001373291016}, {'word': 'ویب', 'start': 36.060001373291016, 'end': 36.880001068115234}, {'word': 'سائٹ', 'start': 36.880001068115234, 'end': 37.02000045776367}, {'word': 'پر', 'start': 37.02000045776367, 'end': 37.13999938964844}, {'word': 'جا', 'start': 37.13999938964844, 'end': 37.2599983215332}, {'word': 'کے', 'start': 37.2599983215332, 'end': 37.34000015258789}, {'word': 'فارم', 'start': 37.34000015258789, 'end': 37.560001373291016}, {'word': 'فل', 'start': 37.560001373291016, 'end': 37.720001220703125}, {'word': 'کریں', 'start': 37.720001220703125, 'end': 38.040000915527344}, {'word': 'ٹھیک', 'start': 38.040000915527344, 'end': 38.70000076293945}, {'word': 'ہے', 'start': 38.70000076293945, 'end': 38.84000015258789}, {'word': 'میں', 'start': 38.84000015258789, 'end': 39.08000183105469}, {'word': 'ویب', 'start': 39.08000183105469, 'end': 39.29999923706055}, {'word': 'سائٹ', 'start': 39.29999923706055, 'end': 39.5}, {'word': 'پر', 'start': 39.5, 'end': 39.599998474121094}, {'word': 'جا', 'start': 39.599998474121094, 'end': 39.779998779296875}, {'word': 'کے', 'start': 39.779998779296875, 'end': 39.86000061035156}, {'word': 'کرتا', 'start': 39.86000061035156, 'end': 40.18000030517578}, {'word': 'ہوں', 'start': 40.18000030517578, 'end': 40.2400016784668}, {'word': 'تینکیو', 'start': 40.2400016784668, 'end': 40.599998474121094}])\n"
     ]
    }
   ],
   "source": [
    "from openai import OpenAI\n",
    "\n",
    "client = OpenAI()\n",
    "\n",
    "audio_file = open(r\"E:\\\\Audios\\\\urdu audio.mp3\", \"rb\")\n",
    "transcript2 = client.audio.transcriptions.create(\n",
    "  file=audio_file,\n",
    "  model=\"whisper-1\",\n",
    "  response_format=\"verbose_json\",\n",
    "  timestamp_granularities=[\"word\",\"segment\"],\n",
    "  language='ur'\n",
    ")\n",
    "\n",
    "print(transcript2)"
   ]
  },
  {
   "cell_type": "code",
   "execution_count": 10,
   "metadata": {},
   "outputs": [
    {
     "name": "stdout",
     "output_type": "stream",
     "text": [
      "urdu\n",
      "[{'id': 0, 'seek': 0, 'start': 1.2400000095367432, 'end': 4.679999828338623, 'text': ' Hi Sir, How are you?', 'tokens': [50364, 2421, 6144, 11, 1012, 366, 291, 30, 50514], 'temperature': 0.0, 'avg_logprob': -0.3140413165092468, 'compression_ratio': 1.4324324131011963, 'no_speech_prob': 0.2907930910587311}, {'id': 1, 'seek': 0, 'start': 4.940000057220459, 'end': 8.979999542236328, 'text': ' Hello, May I know who is speaking?', 'tokens': [50514, 2425, 11, 1891, 286, 458, 567, 307, 4124, 30, 50714], 'temperature': 0.0, 'avg_logprob': -0.3140413165092468, 'compression_ratio': 1.4324324131011963, 'no_speech_prob': 0.2907930910587311}, {'id': 2, 'seek': 0, 'start': 8.979999542236328, 'end': 12.180000305175781, 'text': ' I am speaking from the youth bank.', 'tokens': [50714, 286, 669, 4124, 490, 264, 7503, 3765, 13, 50864], 'temperature': 0.0, 'avg_logprob': -0.3140413165092468, 'compression_ratio': 1.4324324131011963, 'no_speech_prob': 0.2907930910587311}, {'id': 3, 'seek': 0, 'start': 12.180000305175781, 'end': 16.780000686645508, 'text': ' Just wanted to tell you that recently we have started a credit card scheme.', 'tokens': [50864, 1449, 1415, 281, 980, 291, 300, 3938, 321, 362, 1409, 257, 5397, 2920, 12232, 13, 51114], 'temperature': 0.0, 'avg_logprob': -0.3140413165092468, 'compression_ratio': 1.4324324131011963, 'no_speech_prob': 0.2907930910587311}, {'id': 4, 'seek': 0, 'start': 17.459999084472656, 'end': 20.940000534057617, 'text': ' Let me know if you need one.', 'tokens': [51114, 961, 385, 458, 498, 291, 643, 472, 13, 51214], 'temperature': 0.0, 'avg_logprob': -0.3140413165092468, 'compression_ratio': 1.4324324131011963, 'no_speech_prob': 0.2907930910587311}, {'id': 5, 'seek': 0, 'start': 20.940000534057617, 'end': 22.739999771118164, 'text': ' Yes, I am interested in debit card.', 'tokens': [51214, 1079, 11, 286, 669, 3102, 294, 39709, 2920, 13, 51364], 'temperature': 0.0, 'avg_logprob': -0.3140413165092468, 'compression_ratio': 1.4324324131011963, 'no_speech_prob': 0.2907930910587311}, {'id': 6, 'seek': 0, 'start': 20.0, 'end': 23.0, 'text': ' Please share the details in Urdu.', 'tokens': [51364, 2555, 2073, 264, 4365, 294, 9533, 769, 13, 51514], 'temperature': 0.0, 'avg_logprob': -0.3140413165092468, 'compression_ratio': 1.4324324131011963, 'no_speech_prob': 0.2907930910587311}, {'id': 7, 'seek': 2274, 'start': 23.200000762939453, 'end': 31.440000534057617, 'text': ' Our debit cards are very cheap compared to others and we also give 30 days money back guarantee.', 'tokens': [50364, 2621, 39709, 5632, 366, 588, 7084, 5347, 281, 2357, 293, 321, 611, 976, 2217, 1708, 1460, 646, 10815, 13, 50714], 'temperature': 0.0, 'avg_logprob': -0.4440946877002716, 'compression_ratio': 1.5288889408111572, 'no_speech_prob': 0.7178195714950562}, {'id': 8, 'seek': 2274, 'start': 31.700000762939453, 'end': 36.959999084472656, 'text': ' Okay, so what is the process of taking debit card?', 'tokens': [50714, 1033, 11, 370, 437, 307, 264, 1399, 295, 1940, 39709, 2920, 30, 50964], 'temperature': 0.0, 'avg_logprob': -0.4440946877002716, 'compression_ratio': 1.5288889408111572, 'no_speech_prob': 0.7178195714950562}, {'id': 9, 'seek': 2274, 'start': 37.380001068115234, 'end': 37.900001525878906, 'text': ' You have two options.', 'tokens': [50964, 509, 362, 732, 3956, 13, 51064], 'temperature': 0.0, 'avg_logprob': -0.4440946877002716, 'compression_ratio': 1.5288889408111572, 'no_speech_prob': 0.7178195714950562}, {'id': 10, 'seek': 2274, 'start': 37.900001525878906, 'end': 46.13999938964844, 'text': \" Either you can fill the form on the bank's website and apply for the debit card.\", 'tokens': [51064, 13746, 291, 393, 2836, 264, 1254, 322, 264, 3765, 311, 3144, 293, 3079, 337, 264, 39709, 2920, 13, 51364], 'temperature': 0.0, 'avg_logprob': -0.4440946877002716, 'compression_ratio': 1.5288889408111572, 'no_speech_prob': 0.7178195714950562}, {'id': 11, 'seek': 2274, 'start': 46.13999938964844, 'end': 48.099998474121094, 'text': ' But it has more charges.', 'tokens': [51364, 583, 309, 575, 544, 12235, 13, 51464], 'temperature': 0.0, 'avg_logprob': -0.4440946877002716, 'compression_ratio': 1.5288889408111572, 'no_speech_prob': 0.7178195714950562}, {'id': 12, 'seek': 2274, 'start': 48.099998474121094, 'end': 49.29999923706055, 'text': ' And if you take it directly from me, then you will have to pay less.', 'tokens': [51464, 400, 498, 291, 747, 309, 3838, 490, 385, 11, 550, 291, 486, 362, 281, 1689, 1570, 13, 51714], 'temperature': 0.0, 'avg_logprob': -0.4440946877002716, 'compression_ratio': 1.5288889408111572, 'no_speech_prob': 0.7178195714950562}, {'id': 13, 'seek': 4930, 'start': 49.7599983215332, 'end': 55.720001220703125, 'text': ' Okay, so what should I do to take it from you?', 'tokens': [50364, 1033, 11, 370, 437, 820, 286, 360, 281, 747, 309, 490, 291, 30, 50614], 'temperature': 0.0, 'avg_logprob': -0.4018261432647705, 'compression_ratio': 1.2436975240707397, 'no_speech_prob': 0.2168140411376953}, {'id': 14, 'seek': 4930, 'start': 55.720001220703125, 'end': 60.41999816894531, 'text': ' You can send me your details on the number.', 'tokens': [50614, 509, 393, 2845, 385, 428, 4365, 322, 264, 1230, 13, 50814], 'temperature': 0.0, 'avg_logprob': -0.4018261432647705, 'compression_ratio': 1.2436975240707397, 'no_speech_prob': 0.2168140411376953}, {'id': 15, 'seek': 4930, 'start': 60.41999816894531, 'end': 64.22000122070312, 'text': ' Okay, I will send you the details on WhatsApp.', 'tokens': [50814, 1033, 11, 286, 486, 2845, 291, 264, 4365, 322, 30513, 13, 51014], 'temperature': 0.0, 'avg_logprob': -0.4018261432647705, 'compression_ratio': 1.2436975240707397, 'no_speech_prob': 0.2168140411376953}, {'id': 16, 'seek': 4930, 'start': 62.29999923706055, 'end': 64.30000305175781, 'text': ' Thank you.', 'tokens': [51014, 1044, 291, 13, 51114], 'temperature': 0.0, 'avg_logprob': -0.4018261432647705, 'compression_ratio': 1.2436975240707397, 'no_speech_prob': 0.2168140411376953}]\n",
      "Hi Sir, How are you? Hello, May I know who is speaking? I am speaking from the youth bank. Just wanted to tell you that recently we have started a credit card scheme. Let me know if you need one. Yes, I am interested in debit card. Please share the details in Urdu. Our debit cards are very cheap compared to others and we also give 30 days money back guarantee. Okay, so what is the process of taking debit card? You have two options. Either you can fill the form on the bank's website and apply for the debit card. But it has more charges. And if you take it directly from me, then you will have to pay less. Okay, so what should I do to take it from you? You can send me your details on the number. Okay, I will send you the details on WhatsApp. Thank you.\n"
     ]
    }
   ],
   "source": [
    "print(transcript2.language)\n",
    "print(transcript2.segments)\n",
    "print(transcript2.text)"
   ]
  },
  {
   "cell_type": "code",
   "execution_count": 4,
   "metadata": {},
   "outputs": [
    {
     "data": {
      "text/plain": [
       "{'id': 0,\n",
       " 'seek': 0,\n",
       " 'start': 0.0,\n",
       " 'end': 2.0,\n",
       " 'text': ' I want to know why Loki let us take him.',\n",
       " 'tokens': [50364,\n",
       "  286,\n",
       "  528,\n",
       "  281,\n",
       "  458,\n",
       "  983,\n",
       "  37940,\n",
       "  718,\n",
       "  505,\n",
       "  747,\n",
       "  796,\n",
       "  13,\n",
       "  50464],\n",
       " 'temperature': 0.0,\n",
       " 'avg_logprob': -0.23701393604278564,\n",
       " 'compression_ratio': 1.4493391513824463,\n",
       " 'no_speech_prob': 0.1352676898241043}"
      ]
     },
     "execution_count": 4,
     "metadata": {},
     "output_type": "execute_result"
    }
   ],
   "source": [
    "transcript2.segments[0]"
   ]
  },
  {
   "cell_type": "code",
   "execution_count": 5,
   "metadata": {},
   "outputs": [
    {
     "name": "stdout",
     "output_type": "stream",
     "text": [
      "(' I want to know why Loki let us take him.', '(', 0.0, '-', 2.0, ')')\n",
      "(\" He's not leading an army from here.\", '(', 2.0, '-', 3.5, ')')\n",
      "(\" I don't think we should be focusing on Loki.\", '(', 3.5, '-', 5.0, ')')\n",
      "(\" That guy's brain is a bag full of cats.\", '(', 5.0, '-', 7.0, ')')\n",
      "(' You could smell crazy on him.', '(', 7.0, '-', 8.5, ')')\n",
      "(\" I've care how you speak.\", '(', 8.5, '-', 11.0, ')')\n",
      "(' Loki is beyond reason, but he is of Asgard.', '(', 11.0, '-', 13.5, ')')\n",
      "(' And he is my brother.', '(', 13.5, '-', 15.0, ')')\n",
      "(' He killed 80 people in two days.', '(', 15.0, '-', 17.5, ')')\n",
      "(\" He's adopted?\", '(', 17.5, '-', 19.0, ')')\n"
     ]
    }
   ],
   "source": [
    "for i in range(len(transcript2.segments)):\n",
    "    text = transcript2.segments[i]['text']\n",
    "    start = transcript2.segments[i]['start']\n",
    "    end = transcript2.segments[i]['end']\n",
    "    combine = text, \"(\" , start, \"-\" , end, \")\"\n",
    "    print(combine)"
   ]
  },
  {
   "cell_type": "code",
   "execution_count": 13,
   "metadata": {},
   "outputs": [
    {
     "name": "stdout",
     "output_type": "stream",
     "text": [
      "{'id': 0, 'seek': 0, 'start': 0.0, 'end': 2.0, 'text': ' I want to know why Loki let us take him.', 'tokens': [50364, 286, 528, 281, 458, 983, 37940, 718, 505, 747, 796, 13, 50464], 'temperature': 0.0, 'avg_logprob': -0.23701393604278564, 'compression_ratio': 1.4493391513824463, 'no_speech_prob': 0.1352676898241043}\n",
      "----------\n",
      "10\n"
     ]
    }
   ],
   "source": [
    "for i in range(len(transcript2.segments)):\n",
    "    data = transcript2.segments[0]\n",
    "\n",
    "print(data)\n",
    "print(\"----------\")\n",
    "print(len(data))"
   ]
  },
  {
   "cell_type": "code",
   "execution_count": 32,
   "metadata": {},
   "outputs": [
    {
     "name": "stdout",
     "output_type": "stream",
     "text": [
      "{'text': ' I want to know why Loki let us take him.', 'start': 0.0, 'end': 2.0}\n",
      "{'text': \" He's not leading an army from here.\", 'start': 2.0, 'end': 3.5}\n",
      "{'text': \" I don't think we should be focusing on Loki.\", 'start': 3.5, 'end': 5.0}\n",
      "{'text': \" That guy's brain is a bag full of cats.\", 'start': 5.0, 'end': 7.0}\n",
      "{'text': ' You could smell crazy on him.', 'start': 7.0, 'end': 8.5}\n",
      "{'text': \" I've care how you speak.\", 'start': 8.5, 'end': 11.0}\n",
      "{'text': ' Loki is beyond reason, but he is of Asgard.', 'start': 11.0, 'end': 13.5}\n",
      "{'text': ' And he is my brother.', 'start': 13.5, 'end': 15.0}\n",
      "{'text': ' He killed 80 people in two days.', 'start': 15.0, 'end': 17.5}\n",
      "{'text': \" He's adopted?\", 'start': 17.5, 'end': 19.0}\n"
     ]
    }
   ],
   "source": [
    "filtered_segments = []\n",
    "\n",
    "for i in range(len(transcript2.segments)):\n",
    "    data = transcript2.segments[i]  # Access the current segment within the loop\n",
    "\n",
    "    # Extract only 'text', 'start', and 'end'\n",
    "    filtered_data = {'text': data['text'], 'start': data['start'], 'end': data['end']}\n",
    "    \n",
    "    # Append the filtered data to the list\n",
    "    filtered_segments.append(filtered_data)\n",
    "\n",
    "# Print the filtered segments\n",
    "for segment in filtered_segments:\n",
    "    print(segment)\n"
   ]
  },
  {
   "cell_type": "code",
   "execution_count": 34,
   "metadata": {},
   "outputs": [
    {
     "data": {
      "text/plain": [
       "[{'text': ' I want to know why Loki let us take him.',\n",
       "  'start': 0.0,\n",
       "  'end': 2.0},\n",
       " {'text': \" He's not leading an army from here.\", 'start': 2.0, 'end': 3.5},\n",
       " {'text': \" I don't think we should be focusing on Loki.\",\n",
       "  'start': 3.5,\n",
       "  'end': 5.0},\n",
       " {'text': \" That guy's brain is a bag full of cats.\",\n",
       "  'start': 5.0,\n",
       "  'end': 7.0},\n",
       " {'text': ' You could smell crazy on him.', 'start': 7.0, 'end': 8.5},\n",
       " {'text': \" I've care how you speak.\", 'start': 8.5, 'end': 11.0},\n",
       " {'text': ' Loki is beyond reason, but he is of Asgard.',\n",
       "  'start': 11.0,\n",
       "  'end': 13.5},\n",
       " {'text': ' And he is my brother.', 'start': 13.5, 'end': 15.0},\n",
       " {'text': ' He killed 80 people in two days.', 'start': 15.0, 'end': 17.5},\n",
       " {'text': \" He's adopted?\", 'start': 17.5, 'end': 19.0}]"
      ]
     },
     "execution_count": 34,
     "metadata": {},
     "output_type": "execute_result"
    }
   ],
   "source": [
    "filtered_segments"
   ]
  },
  {
   "cell_type": "code",
   "execution_count": 26,
   "metadata": {},
   "outputs": [
    {
     "name": "stdout",
     "output_type": "stream",
     "text": [
      "text\n",
      "start\n",
      "end\n"
     ]
    }
   ],
   "source": [
    "for i in filtered_data:\n",
    "    print(i)"
   ]
  },
  {
   "cell_type": "code",
   "execution_count": 17,
   "metadata": {},
   "outputs": [
    {
     "name": "stdout",
     "output_type": "stream",
     "text": [
      " I want to know why Loki let us take him. (0.0-2.0)\n",
      " He's not leading an army from here. (2.0-3.5)\n",
      " I don't think we should be focusing on Loki. (3.5-5.0)\n",
      " That guy's brain is a bag full of cats. (5.0-7.0)\n",
      " You could smell crazy on him. (7.0-8.5)\n",
      " I've care how you speak. (8.5-11.0)\n",
      " Loki is beyond reason, but he is of Asgard. (11.0-13.5)\n",
      " And he is my brother. (13.5-15.0)\n",
      " He killed 80 people in two days. (15.0-17.5)\n",
      " He's adopted? (17.5-19.0)\n"
     ]
    }
   ],
   "source": [
    "for i in range(len(transcript2.segments)):\n",
    "    data = transcript2.segments[i]  # Access the current segment within the loop\n",
    "# Extract required data\n",
    "    text = data['text']\n",
    "    start = data['start']\n",
    "    end = data['end']\n",
    "    \n",
    "    # Format and print the segment information\n",
    "    print(f\"{text} ({start}-{end})\")"
   ]
  },
  {
   "cell_type": "code",
   "execution_count": 18,
   "metadata": {},
   "outputs": [
    {
     "name": "stdout",
     "output_type": "stream",
     "text": [
      " I want to know why Loki let us take him. (0.0-2.0)\n",
      " He's not leading an army from here. (2.0-3.5)\n",
      " I don't think we should be focusing on Loki. (3.5-5.0)\n",
      " That guy's brain is a bag full of cats. (5.0-7.0)\n",
      " You could smell crazy on him. (7.0-8.5)\n",
      " I've care how you speak. (8.5-11.0)\n",
      " Loki is beyond reason, but he is of Asgard. (11.0-13.5)\n",
      " And he is my brother. (13.5-15.0)\n",
      " He killed 80 people in two days. (15.0-17.5)\n",
      " He's adopted? (17.5-19.0)\n"
     ]
    }
   ],
   "source": [
    "formatted_segments = []\n",
    "\n",
    "for i in range(len(transcript2.segments)):\n",
    "    data = transcript2.segments[i]  # Access the current segment within the loop\n",
    "    \n",
    "    # Extract required data\n",
    "    text = data['text']\n",
    "    start = data['start']\n",
    "    end = data['end']\n",
    "    \n",
    "    # Format the segment information\n",
    "    formatted_segment = f\"{text} ({start}-{end})\"\n",
    "    \n",
    "    # Append the formatted string to the list\n",
    "    formatted_segments.append(formatted_segment)\n",
    "\n",
    "# Print the formatted segments\n",
    "for segment in formatted_segments:\n",
    "    print(segment)"
   ]
  },
  {
   "cell_type": "code",
   "execution_count": 19,
   "metadata": {},
   "outputs": [
    {
     "data": {
      "text/plain": [
       "\" He's adopted? (17.5-19.0)\""
      ]
     },
     "execution_count": 19,
     "metadata": {},
     "output_type": "execute_result"
    }
   ],
   "source": [
    "formatted_segment"
   ]
  },
  {
   "cell_type": "code",
   "execution_count": 31,
   "metadata": {},
   "outputs": [
    {
     "ename": "AttributeError",
     "evalue": "'list' object has no attribute 'items'",
     "output_type": "error",
     "traceback": [
      "\u001b[1;31m---------------------------------------------------------------------------\u001b[0m",
      "\u001b[1;31mAttributeError\u001b[0m                            Traceback (most recent call last)",
      "Cell \u001b[1;32mIn[31], line 5\u001b[0m\n\u001b[0;32m      2\u001b[0m exclude_keys \u001b[38;5;241m=\u001b[39m [\u001b[38;5;124m'\u001b[39m\u001b[38;5;124mid\u001b[39m\u001b[38;5;124m'\u001b[39m, \u001b[38;5;124m'\u001b[39m\u001b[38;5;124mseek\u001b[39m\u001b[38;5;124m'\u001b[39m, \u001b[38;5;124m'\u001b[39m\u001b[38;5;124mtokens\u001b[39m\u001b[38;5;124m'\u001b[39m, \u001b[38;5;124m'\u001b[39m\u001b[38;5;124mtemperature\u001b[39m\u001b[38;5;124m'\u001b[39m, \u001b[38;5;124m'\u001b[39m\u001b[38;5;124mavg_logprob\u001b[39m\u001b[38;5;124m'\u001b[39m, \u001b[38;5;124m'\u001b[39m\u001b[38;5;124mcompression_ratio\u001b[39m\u001b[38;5;124m'\u001b[39m, \u001b[38;5;124m'\u001b[39m\u001b[38;5;124mno_speech_prob\u001b[39m\u001b[38;5;124m'\u001b[39m]\n\u001b[0;32m      4\u001b[0m \u001b[38;5;66;03m# Filter out unwanted keys\u001b[39;00m\n\u001b[1;32m----> 5\u001b[0m filtered_data \u001b[38;5;241m=\u001b[39m {key: value \u001b[38;5;28;01mfor\u001b[39;00m key, value \u001b[38;5;129;01min\u001b[39;00m \u001b[43mfiltered_segments\u001b[49m\u001b[38;5;241;43m.\u001b[39;49m\u001b[43mitems\u001b[49m() \u001b[38;5;28;01mif\u001b[39;00m key \u001b[38;5;129;01mnot\u001b[39;00m \u001b[38;5;129;01min\u001b[39;00m exclude_keys}\n\u001b[0;32m      6\u001b[0m \u001b[38;5;28mprint\u001b[39m(filtered_data)\n",
      "\u001b[1;31mAttributeError\u001b[0m: 'list' object has no attribute 'items'"
     ]
    }
   ],
   "source": [
    "# Keys to exclude\n",
    "exclude_keys = ['id', 'seek', 'tokens', 'temperature', 'avg_logprob', 'compression_ratio', 'no_speech_prob']\n",
    "\n",
    "# Filter out unwanted keys\n",
    "filtered_data = {key: value for key, value in filtered_segments.items() if key not in exclude_keys}\n",
    "print(filtered_data)"
   ]
  },
  {
   "cell_type": "code",
   "execution_count": 23,
   "metadata": {},
   "outputs": [
    {
     "name": "stdout",
     "output_type": "stream",
     "text": [
      "start\n",
      "end\n",
      "text\n"
     ]
    }
   ],
   "source": [
    "# Print the formatted segments\n",
    "for i in filtered_data:\n",
    "    print(i)"
   ]
  },
  {
   "cell_type": "code",
   "execution_count": 1,
   "metadata": {},
   "outputs": [
    {
     "name": "stdout",
     "output_type": "stream",
     "text": [
      "{'start': 0.0, 'end': 2.0, 'text': ' I want to know why Loki let us take him.'}\n"
     ]
    }
   ],
   "source": [
    "data = {\n",
    "    'id': 0,\n",
    "    'seek': 0,\n",
    "    'start': 0.0,\n",
    "    'end': 2.0,\n",
    "    'text': ' I want to know why Loki let us take him.',\n",
    "    'tokens': [50364, 286, 528, 281, 458, 983, 37940, 718, 505, 747, 796, 13, 50464],\n",
    "    'temperature': 0.0,\n",
    "    'avg_logprob': -0.23701393604278564,\n",
    "    'compression_ratio': 1.4493391513824463,\n",
    "    'no_speech_prob': 0.1352676898241043\n",
    "}\n",
    "\n",
    "# Keys to exclude\n",
    "exclude_keys = ['id', 'seek', 'tokens', 'temperature', 'avg_logprob', 'compression_ratio', 'no_speech_prob']\n",
    "\n",
    "# Filter out unwanted keys\n",
    "filtered_data = {key: value for key, value in data.items() if key not in exclude_keys}\n",
    "\n",
    "print(filtered_data)"
   ]
  },
  {
   "cell_type": "code",
   "execution_count": 26,
   "metadata": {},
   "outputs": [
    {
     "name": "stdout",
     "output_type": "stream",
     "text": [
      "SPEAKER_00:  यह लाजा तो मेरे ले ले ले ले ले ले ले ले ले ले ले ले ले\n"
     ]
    }
   ],
   "source": [
    "def extract_data(json_data):\n",
    "    for segment in json_data:\n",
    "       output = print(segment['speaker'] + \": \" + segment['text'])\n",
    "    return output\n",
    "\n",
    "extract_data(result['segments'])"
   ]
  },
  {
   "cell_type": "code",
   "execution_count": 2,
   "metadata": {},
   "outputs": [
    {
     "name": "stderr",
     "output_type": "stream",
     "text": [
      "Lightning automatically upgraded your loaded checkpoint from v1.5.4 to v2.2.1. To apply the upgrade to your files permanently, run `python -m pytorch_lightning.utilities.upgrade_checkpoint C:\\Users\\User\\.cache\\torch\\whisperx-vad-segmentation.bin`\n"
     ]
    },
    {
     "name": "stdout",
     "output_type": "stream",
     "text": [
      "No language specified, language will be first be detected for each audio file (increases inference time).\n",
      "Model was trained with pyannote.audio 0.0.1, yours is 3.1.1. Bad things might happen unless you revert pyannote.audio to 0.x.\n",
      "Model was trained with torch 1.10.0+cu102, yours is 2.2.1+cpu. Bad things might happen unless you revert torch to 1.x.\n",
      "Detected language: en (0.99) in first 30s of audio...\n",
      "[{'text': \" Give yourself some credit. Please. Stark Tower is your baby. Give yourself 12% credit. 12%? An argument can be made for 15. 12%? Well, I did do all the heavy lifting. Literally, I lifted the heavy things. And sorry, but the security snafu, that was on you. Oh. My part of the elevator. You mean our elevator? It was teaming with sweaty workmen. I'm going to pay for that comment about percentages in some sort of way later, aren't I?\", 'start': 0.009, 'end': 29.462}, {'text': ' Not gonna be that subtle.', 'start': 30.196, 'end': 31.476}]\n",
      "[{'start': 0.569, 'end': 1.39, 'text': ' Give yourself some credit.', 'words': [{'word': 'Give', 'start': 0.569, 'end': 0.689, 'score': 0.906}, {'word': 'yourself', 'start': 0.709, 'end': 0.949, 'score': 0.891}, {'word': 'some', 'start': 0.969, 'end': 1.109, 'score': 0.974}, {'word': 'credit.', 'start': 1.15, 'end': 1.39, 'score': 0.901}]}, {'start': 1.93, 'end': 2.21, 'text': 'Please.', 'words': [{'word': 'Please.', 'start': 1.93, 'end': 2.21, 'score': 0.849}]}, {'start': 2.95, 'end': 4.831, 'text': 'Stark Tower is your baby.', 'words': [{'word': 'Stark', 'start': 2.95, 'end': 3.29, 'score': 0.908}, {'word': 'Tower', 'start': 3.33, 'end': 3.631, 'score': 0.9}, {'word': 'is', 'start': 4.131, 'end': 4.231, 'score': 0.843}, {'word': 'your', 'start': 4.291, 'end': 4.491, 'score': 0.778}, {'word': 'baby.', 'start': 4.551, 'end': 4.831, 'score': 0.874}]}, {'start': 4.891, 'end': 8.573, 'text': 'Give yourself 12% credit.', 'words': [{'word': 'Give', 'start': 4.891, 'end': 5.011, 'score': 0.877}, {'word': 'yourself', 'start': 5.031, 'end': 5.311, 'score': 0.778}, {'word': '12%'}, {'word': 'credit.', 'start': 6.432, 'end': 8.573, 'score': 0.773}]}, {'start': 8.993, 'end': 8.573, 'text': '12%?', 'words': [{'word': '12%?'}]}, {'start': 9.033, 'end': 9.833, 'text': 'An argument can be made for 15.', 'words': [{'word': 'An', 'start': 9.033, 'end': 9.093, 'score': 0.836}, {'word': 'argument', 'start': 9.133, 'end': 9.393, 'score': 0.825}, {'word': 'can', 'start': 9.413, 'end': 9.473, 'score': 0.353}, {'word': 'be', 'start': 9.493, 'end': 9.573, 'score': 0.266}, {'word': 'made', 'start': 9.593, 'end': 9.713, 'score': 0.562}, {'word': 'for', 'start': 9.733, 'end': 9.833, 'score': 0.709}, {'word': '15.'}]}, {'start': 10.173, 'end': 9.833, 'text': '12%?', 'words': [{'word': '12%?'}]}, {'start': 11.314, 'end': 13.915, 'text': 'Well, I did do all the heavy lifting.', 'words': [{'word': 'Well,', 'start': 11.314, 'end': 11.454, 'score': 0.89}, {'word': 'I', 'start': 11.794, 'end': 11.934, 'score': 0.839}, {'word': 'did', 'start': 11.974, 'end': 12.374, 'score': 0.756}, {'word': 'do', 'start': 12.414, 'end': 12.595, 'score': 0.684}, {'word': 'all', 'start': 12.815, 'end': 12.935, 'score': 0.851}, {'word': 'the', 'start': 12.955, 'end': 13.055, 'score': 0.644}, {'word': 'heavy', 'start': 13.435, 'end': 13.635, 'score': 0.676}, {'word': 'lifting.', 'start': 13.675, 'end': 13.915, 'score': 0.802}]}, {'start': 13.955, 'end': 15.776, 'text': 'Literally, I lifted the heavy things.', 'words': [{'word': 'Literally,', 'start': 13.955, 'end': 14.295, 'score': 0.845}, {'word': 'I', 'start': 14.435, 'end': 14.535, 'score': 0.979}, {'word': 'lifted', 'start': 14.615, 'end': 14.916, 'score': 0.811}, {'word': 'the', 'start': 15.296, 'end': 15.376, 'score': 0.929}, {'word': 'heavy', 'start': 15.396, 'end': 15.556, 'score': 0.989}, {'word': 'things.', 'start': 15.596, 'end': 15.776, 'score': 0.763}]}, {'start': 16.096, 'end': 19.217, 'text': 'And sorry, but the security snafu, that was on you.', 'words': [{'word': 'And', 'start': 16.096, 'end': 16.196, 'score': 0.851}, {'word': 'sorry,', 'start': 16.436, 'end': 16.636, 'score': 0.559}, {'word': 'but', 'start': 16.676, 'end': 16.796, 'score': 0.758}, {'word': 'the', 'start': 16.836, 'end': 16.916, 'score': 0.947}, {'word': 'security', 'start': 16.956, 'end': 17.397, 'score': 0.849}, {'word': 'snafu,', 'start': 17.617, 'end': 18.077, 'score': 0.849}, {'word': 'that', 'start': 18.477, 'end': 18.597, 'score': 0.977}, {'word': 'was', 'start': 18.637, 'end': 18.757, 'score': 0.686}, {'word': 'on', 'start': 18.837, 'end': 18.917, 'score': 0.872}, {'word': 'you.', 'start': 18.977, 'end': 19.217, 'score': 0.765}]}, {'start': 19.638, 'end': 19.818, 'text': 'Oh.', 'words': [{'word': 'Oh.', 'start': 19.638, 'end': 19.818, 'score': 0.722}]}, {'start': 20.078, 'end': 20.738, 'text': 'My part of the elevator.', 'words': [{'word': 'My', 'start': 20.078, 'end': 20.178, 'score': 0.971}, {'word': 'part', 'start': 20.198, 'end': 20.338, 'score': 0.763}, {'word': 'of', 'start': 20.358, 'end': 20.398, 'score': 0.07}, {'word': 'the', 'start': 20.418, 'end': 20.478, 'score': 0.281}, {'word': 'elevator.', 'start': 20.498, 'end': 20.738, 'score': 0.281}]}, {'start': 20.758, 'end': 21.799, 'text': 'You mean our elevator?', 'words': [{'word': 'You', 'start': 20.758, 'end': 20.838, 'score': 0.779}, {'word': 'mean', 'start': 20.858, 'end': 21.038, 'score': 0.799}, {'word': 'our', 'start': 21.158, 'end': 21.278, 'score': 0.655}, {'word': 'elevator?', 'start': 21.338, 'end': 21.799, 'score': 0.9}]}, {'start': 21.999, 'end': 24.14, 'text': 'It was teaming with sweaty workmen.', 'words': [{'word': 'It', 'start': 21.999, 'end': 22.059, 'score': 0.98}, {'word': 'was', 'start': 22.099, 'end': 22.219, 'score': 0.842}, {'word': 'teaming', 'start': 22.379, 'end': 22.719, 'score': 0.834}, {'word': 'with', 'start': 23.099, 'end': 23.319, 'score': 0.751}, {'word': 'sweaty', 'start': 23.519, 'end': 23.8, 'score': 0.868}, {'word': 'workmen.', 'start': 23.82, 'end': 24.14, 'score': 0.826}]}, {'start': 25.18, 'end': 29.202, 'text': \"I'm going to pay for that comment about percentages in some sort of way later, aren't I?\", 'words': [{'word': \"I'm\", 'start': 25.18, 'end': 25.3, 'score': 0.44}, {'word': 'going', 'start': 25.32, 'end': 25.44, 'score': 0.899}, {'word': 'to', 'start': 25.46, 'end': 25.52, 'score': 0.749}, {'word': 'pay', 'start': 25.54, 'end': 25.64, 'score': 0.677}, {'word': 'for', 'start': 25.7, 'end': 25.8, 'score': 0.844}, {'word': 'that', 'start': 25.82, 'end': 25.96, 'score': 0.865}, {'word': 'comment', 'start': 26.561, 'end': 26.881, 'score': 0.868}, {'word': 'about', 'start': 26.941, 'end': 27.121, 'score': 0.495}, {'word': 'percentages', 'start': 27.141, 'end': 27.721, 'score': 0.756}, {'word': 'in', 'start': 27.781, 'end': 27.861, 'score': 0.52}, {'word': 'some', 'start': 27.941, 'end': 28.161, 'score': 0.927}, {'word': 'sort', 'start': 28.342, 'end': 28.522, 'score': 0.688}, {'word': 'of', 'start': 28.542, 'end': 28.582, 'score': 0.01}, {'word': 'way', 'start': 28.602, 'end': 28.722, 'score': 0.864}, {'word': 'later,', 'start': 28.762, 'end': 28.942, 'score': 0.946}, {'word': \"aren't\", 'start': 28.982, 'end': 29.102, 'score': 0.799}, {'word': 'I?', 'start': 29.182, 'end': 29.202, 'score': 0.896}]}, {'start': 30.216, 'end': 31.171, 'text': ' Not gonna be that subtle.', 'words': [{'word': 'Not', 'start': 30.216, 'end': 30.338, 'score': 0.386}, {'word': 'gonna', 'start': 30.359, 'end': 30.521, 'score': 0.494}, {'word': 'be', 'start': 30.562, 'end': 30.663, 'score': 0.645}, {'word': 'that', 'start': 30.684, 'end': 30.866, 'score': 0.762}, {'word': 'subtle.', 'start': 30.907, 'end': 31.171, 'score': 0.958}]}]\n",
      "                              segment label     speaker      start        end  \\\n",
      "0   [ 00:00:00.568 -->  00:00:01.383]     A  SPEAKER_00   0.568761   1.383701   \n",
      "1   [ 00:00:01.893 -->  00:00:02.232]     B  SPEAKER_00   1.893039   2.232598   \n",
      "2   [ 00:00:02.792 -->  00:00:03.658]     C  SPEAKER_00   2.792869   3.658744   \n",
      "3   [ 00:00:03.998 -->  00:00:05.356]     D  SPEAKER_00   3.998302   5.356537   \n",
      "4   [ 00:00:05.848 -->  00:00:07.207]     E  SPEAKER_00   5.848896   7.207131   \n",
      "5   [ 00:00:08.225 -->  00:00:08.938]     F  SPEAKER_01   8.225806   8.938879   \n",
      "6   [ 00:00:08.938 -->  00:00:10.449]     G  SPEAKER_00   8.938879  10.449915   \n",
      "7   [ 00:00:10.382 -->  00:00:12.300]     H  SPEAKER_01  10.382003  12.300509   \n",
      "8   [ 00:00:11.247 -->  00:00:11.757]     I  SPEAKER_00  11.247878  11.757216   \n",
      "9   [ 00:00:12.096 -->  00:00:19.465]     J  SPEAKER_00  12.096774  19.465195   \n",
      "10  [ 00:00:18.938 -->  00:00:19.838]     K  SPEAKER_02  18.938879  19.838710   \n",
      "11  [ 00:00:19.838 -->  00:00:20.857]     L  SPEAKER_00  19.838710  20.857385   \n",
      "12  [ 00:00:20.687 -->  00:00:21.893]     M  SPEAKER_02  20.687606  21.893039   \n",
      "13  [ 00:00:21.587 -->  00:00:24.235]     N  SPEAKER_00  21.587436  24.235993   \n",
      "14  [ 00:00:25.118 -->  00:00:26.086]     O  SPEAKER_00  25.118846  26.086587   \n",
      "15  [ 00:00:26.477 -->  00:00:29.295]     P  SPEAKER_00  26.477080  29.295416   \n",
      "16  [ 00:00:30.144 -->  00:00:31.230]     Q  SPEAKER_02  30.144312  31.230900   \n",
      "\n",
      "    intersection      union  \n",
      "0     -29.523299  30.602239  \n",
      "1     -28.674402  29.277961  \n",
      "2     -27.248256  28.378131  \n",
      "3     -25.550463  27.172698  \n",
      "4     -23.699869  25.322104  \n",
      "5     -21.968121  22.945194  \n",
      "6     -20.457085  22.232121  \n",
      "7     -18.606491  20.788997  \n",
      "8     -19.149784  19.923122  \n",
      "9     -11.441805  19.074226  \n",
      "10    -11.068290  12.232121  \n",
      "11    -10.049615  11.332290  \n",
      "12     -9.013961  10.483394  \n",
      "13     -6.671007   9.583564  \n",
      "14     -4.820413   6.052154  \n",
      "15     -1.611584   4.693920  \n",
      "16      0.264000   1.086587  \n",
      "[{'start': 0.569, 'end': 1.39, 'text': ' Give yourself some credit.', 'words': [{'word': 'Give', 'start': 0.569, 'end': 0.689, 'score': 0.906, 'speaker': 'SPEAKER_00'}, {'word': 'yourself', 'start': 0.709, 'end': 0.949, 'score': 0.891, 'speaker': 'SPEAKER_00'}, {'word': 'some', 'start': 0.969, 'end': 1.109, 'score': 0.974, 'speaker': 'SPEAKER_00'}, {'word': 'credit.', 'start': 1.15, 'end': 1.39, 'score': 0.901, 'speaker': 'SPEAKER_00'}], 'speaker': 'SPEAKER_00'}, {'start': 1.93, 'end': 2.21, 'text': 'Please.', 'words': [{'word': 'Please.', 'start': 1.93, 'end': 2.21, 'score': 0.849, 'speaker': 'SPEAKER_00'}], 'speaker': 'SPEAKER_00'}, {'start': 2.95, 'end': 4.831, 'text': 'Stark Tower is your baby.', 'words': [{'word': 'Stark', 'start': 2.95, 'end': 3.29, 'score': 0.908, 'speaker': 'SPEAKER_00'}, {'word': 'Tower', 'start': 3.33, 'end': 3.631, 'score': 0.9, 'speaker': 'SPEAKER_00'}, {'word': 'is', 'start': 4.131, 'end': 4.231, 'score': 0.843, 'speaker': 'SPEAKER_00'}, {'word': 'your', 'start': 4.291, 'end': 4.491, 'score': 0.778, 'speaker': 'SPEAKER_00'}, {'word': 'baby.', 'start': 4.551, 'end': 4.831, 'score': 0.874, 'speaker': 'SPEAKER_00'}], 'speaker': 'SPEAKER_00'}, {'start': 4.891, 'end': 8.573, 'text': 'Give yourself 12% credit.', 'words': [{'word': 'Give', 'start': 4.891, 'end': 5.011, 'score': 0.877, 'speaker': 'SPEAKER_00'}, {'word': 'yourself', 'start': 5.031, 'end': 5.311, 'score': 0.778, 'speaker': 'SPEAKER_00'}, {'word': '12%'}, {'word': 'credit.', 'start': 6.432, 'end': 8.573, 'score': 0.773, 'speaker': 'SPEAKER_00'}], 'speaker': 'SPEAKER_00'}, {'start': 8.993, 'end': 8.573, 'text': '12%?', 'words': [{'word': '12%?'}]}, {'start': 9.033, 'end': 9.833, 'text': 'An argument can be made for 15.', 'words': [{'word': 'An', 'start': 9.033, 'end': 9.093, 'score': 0.836, 'speaker': 'SPEAKER_00'}, {'word': 'argument', 'start': 9.133, 'end': 9.393, 'score': 0.825, 'speaker': 'SPEAKER_00'}, {'word': 'can', 'start': 9.413, 'end': 9.473, 'score': 0.353, 'speaker': 'SPEAKER_00'}, {'word': 'be', 'start': 9.493, 'end': 9.573, 'score': 0.266, 'speaker': 'SPEAKER_00'}, {'word': 'made', 'start': 9.593, 'end': 9.713, 'score': 0.562, 'speaker': 'SPEAKER_00'}, {'word': 'for', 'start': 9.733, 'end': 9.833, 'score': 0.709, 'speaker': 'SPEAKER_00'}, {'word': '15.'}], 'speaker': 'SPEAKER_00'}, {'start': 10.173, 'end': 9.833, 'text': '12%?', 'words': [{'word': '12%?'}]}, {'start': 11.314, 'end': 13.915, 'text': 'Well, I did do all the heavy lifting.', 'words': [{'word': 'Well,', 'start': 11.314, 'end': 11.454, 'score': 0.89, 'speaker': 'SPEAKER_00'}, {'word': 'I', 'start': 11.794, 'end': 11.934, 'score': 0.839, 'speaker': 'SPEAKER_01'}, {'word': 'did', 'start': 11.974, 'end': 12.374, 'score': 0.756, 'speaker': 'SPEAKER_01'}, {'word': 'do', 'start': 12.414, 'end': 12.595, 'score': 0.684, 'speaker': 'SPEAKER_00'}, {'word': 'all', 'start': 12.815, 'end': 12.935, 'score': 0.851, 'speaker': 'SPEAKER_00'}, {'word': 'the', 'start': 12.955, 'end': 13.055, 'score': 0.644, 'speaker': 'SPEAKER_00'}, {'word': 'heavy', 'start': 13.435, 'end': 13.635, 'score': 0.676, 'speaker': 'SPEAKER_00'}, {'word': 'lifting.', 'start': 13.675, 'end': 13.915, 'score': 0.802, 'speaker': 'SPEAKER_00'}], 'speaker': 'SPEAKER_00'}, {'start': 13.955, 'end': 15.776, 'text': 'Literally, I lifted the heavy things.', 'words': [{'word': 'Literally,', 'start': 13.955, 'end': 14.295, 'score': 0.845, 'speaker': 'SPEAKER_00'}, {'word': 'I', 'start': 14.435, 'end': 14.535, 'score': 0.979, 'speaker': 'SPEAKER_00'}, {'word': 'lifted', 'start': 14.615, 'end': 14.916, 'score': 0.811, 'speaker': 'SPEAKER_00'}, {'word': 'the', 'start': 15.296, 'end': 15.376, 'score': 0.929, 'speaker': 'SPEAKER_00'}, {'word': 'heavy', 'start': 15.396, 'end': 15.556, 'score': 0.989, 'speaker': 'SPEAKER_00'}, {'word': 'things.', 'start': 15.596, 'end': 15.776, 'score': 0.763, 'speaker': 'SPEAKER_00'}], 'speaker': 'SPEAKER_00'}, {'start': 16.096, 'end': 19.217, 'text': 'And sorry, but the security snafu, that was on you.', 'words': [{'word': 'And', 'start': 16.096, 'end': 16.196, 'score': 0.851, 'speaker': 'SPEAKER_00'}, {'word': 'sorry,', 'start': 16.436, 'end': 16.636, 'score': 0.559, 'speaker': 'SPEAKER_00'}, {'word': 'but', 'start': 16.676, 'end': 16.796, 'score': 0.758, 'speaker': 'SPEAKER_00'}, {'word': 'the', 'start': 16.836, 'end': 16.916, 'score': 0.947, 'speaker': 'SPEAKER_00'}, {'word': 'security', 'start': 16.956, 'end': 17.397, 'score': 0.849, 'speaker': 'SPEAKER_00'}, {'word': 'snafu,', 'start': 17.617, 'end': 18.077, 'score': 0.849, 'speaker': 'SPEAKER_00'}, {'word': 'that', 'start': 18.477, 'end': 18.597, 'score': 0.977, 'speaker': 'SPEAKER_00'}, {'word': 'was', 'start': 18.637, 'end': 18.757, 'score': 0.686, 'speaker': 'SPEAKER_00'}, {'word': 'on', 'start': 18.837, 'end': 18.917, 'score': 0.872, 'speaker': 'SPEAKER_00'}, {'word': 'you.', 'start': 18.977, 'end': 19.217, 'score': 0.765, 'speaker': 'SPEAKER_00'}], 'speaker': 'SPEAKER_00'}, {'start': 19.638, 'end': 19.818, 'text': 'Oh.', 'words': [{'word': 'Oh.', 'start': 19.638, 'end': 19.818, 'score': 0.722, 'speaker': 'SPEAKER_02'}], 'speaker': 'SPEAKER_02'}, {'start': 20.078, 'end': 20.738, 'text': 'My part of the elevator.', 'words': [{'word': 'My', 'start': 20.078, 'end': 20.178, 'score': 0.971, 'speaker': 'SPEAKER_00'}, {'word': 'part', 'start': 20.198, 'end': 20.338, 'score': 0.763, 'speaker': 'SPEAKER_00'}, {'word': 'of', 'start': 20.358, 'end': 20.398, 'score': 0.07, 'speaker': 'SPEAKER_00'}, {'word': 'the', 'start': 20.418, 'end': 20.478, 'score': 0.281, 'speaker': 'SPEAKER_00'}, {'word': 'elevator.', 'start': 20.498, 'end': 20.738, 'score': 0.281, 'speaker': 'SPEAKER_00'}], 'speaker': 'SPEAKER_00'}, {'start': 20.758, 'end': 21.799, 'text': 'You mean our elevator?', 'words': [{'word': 'You', 'start': 20.758, 'end': 20.838, 'score': 0.779, 'speaker': 'SPEAKER_00'}, {'word': 'mean', 'start': 20.858, 'end': 21.038, 'score': 0.799, 'speaker': 'SPEAKER_02'}, {'word': 'our', 'start': 21.158, 'end': 21.278, 'score': 0.655, 'speaker': 'SPEAKER_02'}, {'word': 'elevator?', 'start': 21.338, 'end': 21.799, 'score': 0.9, 'speaker': 'SPEAKER_02'}], 'speaker': 'SPEAKER_02'}, {'start': 21.999, 'end': 24.14, 'text': 'It was teaming with sweaty workmen.', 'words': [{'word': 'It', 'start': 21.999, 'end': 22.059, 'score': 0.98, 'speaker': 'SPEAKER_00'}, {'word': 'was', 'start': 22.099, 'end': 22.219, 'score': 0.842, 'speaker': 'SPEAKER_00'}, {'word': 'teaming', 'start': 22.379, 'end': 22.719, 'score': 0.834, 'speaker': 'SPEAKER_00'}, {'word': 'with', 'start': 23.099, 'end': 23.319, 'score': 0.751, 'speaker': 'SPEAKER_00'}, {'word': 'sweaty', 'start': 23.519, 'end': 23.8, 'score': 0.868, 'speaker': 'SPEAKER_00'}, {'word': 'workmen.', 'start': 23.82, 'end': 24.14, 'score': 0.826, 'speaker': 'SPEAKER_00'}], 'speaker': 'SPEAKER_00'}, {'start': 25.18, 'end': 29.202, 'text': \"I'm going to pay for that comment about percentages in some sort of way later, aren't I?\", 'words': [{'word': \"I'm\", 'start': 25.18, 'end': 25.3, 'score': 0.44, 'speaker': 'SPEAKER_00'}, {'word': 'going', 'start': 25.32, 'end': 25.44, 'score': 0.899, 'speaker': 'SPEAKER_00'}, {'word': 'to', 'start': 25.46, 'end': 25.52, 'score': 0.749, 'speaker': 'SPEAKER_00'}, {'word': 'pay', 'start': 25.54, 'end': 25.64, 'score': 0.677, 'speaker': 'SPEAKER_00'}, {'word': 'for', 'start': 25.7, 'end': 25.8, 'score': 0.844, 'speaker': 'SPEAKER_00'}, {'word': 'that', 'start': 25.82, 'end': 25.96, 'score': 0.865, 'speaker': 'SPEAKER_00'}, {'word': 'comment', 'start': 26.561, 'end': 26.881, 'score': 0.868, 'speaker': 'SPEAKER_00'}, {'word': 'about', 'start': 26.941, 'end': 27.121, 'score': 0.495, 'speaker': 'SPEAKER_00'}, {'word': 'percentages', 'start': 27.141, 'end': 27.721, 'score': 0.756, 'speaker': 'SPEAKER_00'}, {'word': 'in', 'start': 27.781, 'end': 27.861, 'score': 0.52, 'speaker': 'SPEAKER_00'}, {'word': 'some', 'start': 27.941, 'end': 28.161, 'score': 0.927, 'speaker': 'SPEAKER_00'}, {'word': 'sort', 'start': 28.342, 'end': 28.522, 'score': 0.688, 'speaker': 'SPEAKER_00'}, {'word': 'of', 'start': 28.542, 'end': 28.582, 'score': 0.01, 'speaker': 'SPEAKER_00'}, {'word': 'way', 'start': 28.602, 'end': 28.722, 'score': 0.864, 'speaker': 'SPEAKER_00'}, {'word': 'later,', 'start': 28.762, 'end': 28.942, 'score': 0.946, 'speaker': 'SPEAKER_00'}, {'word': \"aren't\", 'start': 28.982, 'end': 29.102, 'score': 0.799, 'speaker': 'SPEAKER_00'}, {'word': 'I?', 'start': 29.182, 'end': 29.202, 'score': 0.896, 'speaker': 'SPEAKER_00'}], 'speaker': 'SPEAKER_00'}, {'start': 30.216, 'end': 31.171, 'text': ' Not gonna be that subtle.', 'words': [{'word': 'Not', 'start': 30.216, 'end': 30.338, 'score': 0.386, 'speaker': 'SPEAKER_02'}, {'word': 'gonna', 'start': 30.359, 'end': 30.521, 'score': 0.494, 'speaker': 'SPEAKER_02'}, {'word': 'be', 'start': 30.562, 'end': 30.663, 'score': 0.645, 'speaker': 'SPEAKER_02'}, {'word': 'that', 'start': 30.684, 'end': 30.866, 'score': 0.762, 'speaker': 'SPEAKER_02'}, {'word': 'subtle.', 'start': 30.907, 'end': 31.171, 'score': 0.958, 'speaker': 'SPEAKER_02'}], 'speaker': 'SPEAKER_02'}]\n"
     ]
    }
   ],
   "source": [
    "# 1. Transcribe with original whisper (batched)\n",
    "model_base = whisperx.load_model(\"base\", device, compute_type=compute_type)\n",
    "\n",
    "audio = whisperx.load_audio(\"hassan/two.wav\")\n",
    "result = model_base.transcribe(audio, batch_size=batch_size)\n",
    "print(result[\"segments\"]) # before alignment\n",
    "\n",
    "# delete model if low on GPU resources\n",
    "# import gc; gc.collect(); torch.cuda.empty_cache(); del model\n",
    "\n",
    "# 2. Align whisper output\n",
    "model_a, metadata = whisperx.load_align_model(language_code=result[\"language\"], device=device)\n",
    "result = whisperx.align(result[\"segments\"], model_a, metadata, audio, device, return_char_alignments=False)\n",
    "\n",
    "print(result[\"segments\"]) # after alignment\n",
    "\n",
    "# delete model if low on GPU resources\n",
    "# import gc; gc.collect(); torch.cuda.empty_cache(); del model_a\n",
    "\n",
    "# 3. Assign speaker labels\n",
    "diarize_model = whisperx.DiarizationPipeline(use_auth_token=write_api_key, device=device)\n",
    "\n",
    "# add min/max number of speakers if known\n",
    "diarize_segments = diarize_model(audio)\n",
    "# diarize_model(audio, min_speakers=min_speakers, max_speakers=max_speakers)\n",
    "\n",
    "result = whisperx.assign_word_speakers(diarize_segments, result)\n",
    "print(diarize_segments)\n",
    "print(result[\"segments\"]) # segments are now assigned speaker IDs"
   ]
  },
  {
   "cell_type": "code",
   "execution_count": 16,
   "metadata": {},
   "outputs": [
    {
     "name": "stdout",
     "output_type": "stream",
     "text": [
      "SPEAKER_00:  Give yourself some credit.\n",
      "SPEAKER_00: Please.\n",
      "SPEAKER_00: Stark Tower is your baby.\n",
      "SPEAKER_00: Give yourself 12% credit.\n",
      "12%?\n",
      "An argument can be made for 15.\n",
      "12%?\n",
      "Well, I did do all the heavy lifting.\n",
      "Literally, I lifted the heavy things.\n",
      "And sorry, but the security snafu, that was on you.\n",
      "Oh.\n",
      "My part of the elevator.\n",
      "You mean our elevator?\n",
      "It was teaming with sweaty workmen.\n",
      "I'm going to pay for that comment about percentages in some sort of way later, aren't I?\n",
      " Not gonna be that subtle.\n"
     ]
    }
   ],
   "source": [
    "print(result['segments'][0]['speaker'] + \": \" + result['segments'][0]['text'])\n",
    "print(result['segments'][1]['speaker'] + \": \" + result['segments'][1]['text'])\n",
    "print(result['segments'][2]['speaker'] + \": \" + result['segments'][2]['text'])\n",
    "print(result['segments'][3]['speaker'] + \": \" + result['segments'][3]['text'])\n",
    "print(result['segments'][4]['text'])\n",
    "print(result['segments'][5]['text'])\n",
    "print(result['segments'][6]['text'])\n",
    "print(result['segments'][7]['text'])\n",
    "print(result['segments'][8]['text'])\n",
    "print(result['segments'][9]['text'])\n",
    "print(result['segments'][10]['text'])\n",
    "print(result['segments'][11]['text'])\n",
    "print(result['segments'][12]['text'])\n",
    "print(result['segments'][13]['text'])\n",
    "print(result['segments'][14]['text'])\n",
    "print(result['segments'][15]['text'])"
   ]
  },
  {
   "cell_type": "code",
   "execution_count": 13,
   "metadata": {},
   "outputs": [
    {
     "name": "stdout",
     "output_type": "stream",
     "text": [
      " Give yourself some credit.\n",
      "Please.\n",
      "Stark Tower is your baby.\n",
      "Give yourself 12% credit.\n",
      "12%?\n",
      "An argument can be made for 15.\n",
      "12%?\n",
      "Well, I did do all the heavy lifting.\n",
      "Literally, I lifted the heavy things.\n",
      "And sorry, but the security snafu, that was on you.\n",
      "Oh.\n",
      "My part of the elevator.\n",
      "You mean our elevator?\n",
      "It was teaming with sweaty workmen.\n",
      "I'm going to pay for that comment about percentages in some sort of way later, aren't I?\n",
      " Not gonna be that subtle.\n"
     ]
    }
   ],
   "source": [
    "def extract_data(json_data):\n",
    "    for segment in json_data:\n",
    "       output = print(segment['text'])\n",
    "    return output\n",
    "\n",
    "extract_data(result['segments'])"
   ]
  },
  {
   "cell_type": "code",
   "execution_count": 17,
   "metadata": {},
   "outputs": [
    {
     "name": "stderr",
     "output_type": "stream",
     "text": [
      "Lightning automatically upgraded your loaded checkpoint from v1.5.4 to v2.2.1. To apply the upgrade to your files permanently, run `python -m pytorch_lightning.utilities.upgrade_checkpoint C:\\Users\\User\\.cache\\torch\\whisperx-vad-segmentation.bin`\n"
     ]
    },
    {
     "name": "stdout",
     "output_type": "stream",
     "text": [
      "No language specified, language will be first be detected for each audio file (increases inference time).\n",
      "Model was trained with pyannote.audio 0.0.1, yours is 3.1.1. Bad things might happen unless you revert pyannote.audio to 0.x.\n",
      "Model was trained with torch 1.10.0+cu102, yours is 2.2.1+cpu. Bad things might happen unless you revert torch to 1.x.\n",
      "Warning: audio is shorter than 30s, language detection may be inaccurate.\n",
      "Detected language: en (0.98) in first 30s of audio...\n",
      "[{'text': \" How do we know we can trust him? He said he knows the form. He's a beaver. He shouldn't be saying anything.\", 'start': 0.009, 'end': 9.241}]\n",
      "[{'start': 0.67, 'end': 2.192, 'text': ' How do we know we can trust him?', 'words': [{'word': 'How', 'start': 0.67, 'end': 0.81, 'score': 0.976}, {'word': 'do', 'start': 0.85, 'end': 0.99, 'score': 0.911}, {'word': 'we', 'start': 1.01, 'end': 1.09, 'score': 0.996}, {'word': 'know', 'start': 1.13, 'end': 1.291, 'score': 0.848}, {'word': 'we', 'start': 1.331, 'end': 1.431, 'score': 0.912}, {'word': 'can', 'start': 1.451, 'end': 1.591, 'score': 0.979}, {'word': 'trust', 'start': 1.651, 'end': 1.972, 'score': 0.835}, {'word': 'him?', 'start': 2.032, 'end': 2.192, 'score': 0.885}]}, {'start': 3.333, 'end': 4.415, 'text': 'He said he knows the form.', 'words': [{'word': 'He', 'start': 3.333, 'end': 3.453, 'score': 0.905}, {'word': 'said', 'start': 3.494, 'end': 3.634, 'score': 0.993}, {'word': 'he', 'start': 3.674, 'end': 3.734, 'score': 0.747}, {'word': 'knows', 'start': 3.754, 'end': 3.934, 'score': 0.801}, {'word': 'the', 'start': 3.974, 'end': 4.054, 'score': 0.831}, {'word': 'form.', 'start': 4.094, 'end': 4.415, 'score': 0.914}]}, {'start': 5.396, 'end': 6.157, 'text': \"He's a beaver.\", 'words': [{'word': \"He's\", 'start': 5.396, 'end': 5.576, 'score': 0.701}, {'word': 'a', 'start': 5.616, 'end': 5.656, 'score': 0.486}, {'word': 'beaver.', 'start': 5.736, 'end': 6.157, 'score': 0.944}]}, {'start': 6.638, 'end': 8.64, 'text': \"He shouldn't be saying anything.\", 'words': [{'word': 'He', 'start': 6.638, 'end': 6.718, 'score': 0.996}, {'word': \"shouldn't\", 'start': 6.758, 'end': 7.098, 'score': 0.787}, {'word': 'be', 'start': 7.138, 'end': 7.258, 'score': 0.931}, {'word': 'saying', 'start': 7.399, 'end': 7.859, 'score': 0.87}, {'word': 'anything.', 'start': 8.14, 'end': 8.64, 'score': 0.952}]}]\n",
      "                             segment label     speaker     start       end  \\\n",
      "0  [ 00:00:00.432 -->  00:00:02.232]     A  SPEAKER_01  0.432937  2.232598   \n",
      "1  [ 00:00:03.370 -->  00:00:04.117]     B  SPEAKER_01  3.370119  4.117148   \n",
      "2  [ 00:00:04.117 -->  00:00:04.473]     C  SPEAKER_00  4.117148  4.473684   \n",
      "3  [ 00:00:05.407 -->  00:00:06.273]     D  SPEAKER_01  5.407470  6.273345   \n",
      "4  [ 00:00:06.578 -->  00:00:09.074]     E  SPEAKER_01  6.578947  9.074703   \n",
      "5  [ 00:00:09.074 -->  00:00:09.108]     F  SPEAKER_00  9.074703  9.108659   \n",
      "\n",
      "   intersection     union  \n",
      "0     -5.907402  8.207063  \n",
      "1     -4.022852  5.269881  \n",
      "2     -3.666316  4.522852  \n",
      "3     -1.866655  3.232530  \n",
      "4      0.500000  2.495756  \n",
      "5     -0.434703  0.968659  \n",
      "[{'start': 0.67, 'end': 2.192, 'text': ' How do we know we can trust him?', 'words': [{'word': 'How', 'start': 0.67, 'end': 0.81, 'score': 0.976, 'speaker': 'SPEAKER_01'}, {'word': 'do', 'start': 0.85, 'end': 0.99, 'score': 0.911, 'speaker': 'SPEAKER_01'}, {'word': 'we', 'start': 1.01, 'end': 1.09, 'score': 0.996, 'speaker': 'SPEAKER_01'}, {'word': 'know', 'start': 1.13, 'end': 1.291, 'score': 0.848, 'speaker': 'SPEAKER_01'}, {'word': 'we', 'start': 1.331, 'end': 1.431, 'score': 0.912, 'speaker': 'SPEAKER_01'}, {'word': 'can', 'start': 1.451, 'end': 1.591, 'score': 0.979, 'speaker': 'SPEAKER_01'}, {'word': 'trust', 'start': 1.651, 'end': 1.972, 'score': 0.835, 'speaker': 'SPEAKER_01'}, {'word': 'him?', 'start': 2.032, 'end': 2.192, 'score': 0.885, 'speaker': 'SPEAKER_01'}], 'speaker': 'SPEAKER_01'}, {'start': 3.333, 'end': 4.415, 'text': 'He said he knows the form.', 'words': [{'word': 'He', 'start': 3.333, 'end': 3.453, 'score': 0.905, 'speaker': 'SPEAKER_01'}, {'word': 'said', 'start': 3.494, 'end': 3.634, 'score': 0.993, 'speaker': 'SPEAKER_01'}, {'word': 'he', 'start': 3.674, 'end': 3.734, 'score': 0.747, 'speaker': 'SPEAKER_01'}, {'word': 'knows', 'start': 3.754, 'end': 3.934, 'score': 0.801, 'speaker': 'SPEAKER_01'}, {'word': 'the', 'start': 3.974, 'end': 4.054, 'score': 0.831, 'speaker': 'SPEAKER_01'}, {'word': 'form.', 'start': 4.094, 'end': 4.415, 'score': 0.914, 'speaker': 'SPEAKER_00'}], 'speaker': 'SPEAKER_01'}, {'start': 5.396, 'end': 6.157, 'text': \"He's a beaver.\", 'words': [{'word': \"He's\", 'start': 5.396, 'end': 5.576, 'score': 0.701, 'speaker': 'SPEAKER_01'}, {'word': 'a', 'start': 5.616, 'end': 5.656, 'score': 0.486, 'speaker': 'SPEAKER_01'}, {'word': 'beaver.', 'start': 5.736, 'end': 6.157, 'score': 0.944, 'speaker': 'SPEAKER_01'}], 'speaker': 'SPEAKER_01'}, {'start': 6.638, 'end': 8.64, 'text': \"He shouldn't be saying anything.\", 'words': [{'word': 'He', 'start': 6.638, 'end': 6.718, 'score': 0.996, 'speaker': 'SPEAKER_01'}, {'word': \"shouldn't\", 'start': 6.758, 'end': 7.098, 'score': 0.787, 'speaker': 'SPEAKER_01'}, {'word': 'be', 'start': 7.138, 'end': 7.258, 'score': 0.931, 'speaker': 'SPEAKER_01'}, {'word': 'saying', 'start': 7.399, 'end': 7.859, 'score': 0.87, 'speaker': 'SPEAKER_01'}, {'word': 'anything.', 'start': 8.14, 'end': 8.64, 'score': 0.952, 'speaker': 'SPEAKER_01'}], 'speaker': 'SPEAKER_01'}]\n"
     ]
    }
   ],
   "source": [
    "# 1. Transcribe with original whisper (batched)\n",
    "model_base = whisperx.load_model(\"base\", device, compute_type=compute_type)\n",
    "\n",
    "audio = whisperx.load_audio(\"hassan/three.wav\")\n",
    "result = model_base.transcribe(audio, batch_size=batch_size)\n",
    "print(result[\"segments\"]) # before alignment\n",
    "\n",
    "# delete model if low on GPU resources\n",
    "# import gc; gc.collect(); torch.cuda.empty_cache(); del model\n",
    "\n",
    "# 2. Align whisper output\n",
    "model_a, metadata = whisperx.load_align_model(language_code=result[\"language\"], device=device)\n",
    "result = whisperx.align(result[\"segments\"], model_a, metadata, audio, device, return_char_alignments=False)\n",
    "\n",
    "print(result[\"segments\"]) # after alignment\n",
    "\n",
    "# delete model if low on GPU resources\n",
    "# import gc; gc.collect(); torch.cuda.empty_cache(); del model_a\n",
    "\n",
    "# 3. Assign speaker labels\n",
    "diarize_model = whisperx.DiarizationPipeline(use_auth_token=write_api_key, device=device)\n",
    "\n",
    "# add min/max number of speakers if known\n",
    "diarize_segments = diarize_model(audio)\n",
    "# diarize_model(audio, min_speakers=min_speakers, max_speakers=max_speakers)\n",
    "\n",
    "result = whisperx.assign_word_speakers(diarize_segments, result)\n",
    "print(diarize_segments)\n",
    "print(result[\"segments\"]) # segments are now assigned speaker IDs"
   ]
  },
  {
   "cell_type": "code",
   "execution_count": 19,
   "metadata": {},
   "outputs": [
    {
     "name": "stdout",
     "output_type": "stream",
     "text": [
      "SPEAKER_01:  How do we know we can trust him?\n",
      "SPEAKER_01: He said he knows the form.\n",
      "SPEAKER_01: He's a beaver.\n",
      "SPEAKER_01: He shouldn't be saying anything.\n"
     ]
    }
   ],
   "source": [
    "def extract_data(json_data):\n",
    "    for segment in json_data:\n",
    "       output = print(segment['speaker'] + \": \" + segment['text'])\n",
    "    return output\n",
    "\n",
    "extract_data(result['segments'])"
   ]
  },
  {
   "cell_type": "code",
   "execution_count": 20,
   "metadata": {},
   "outputs": [
    {
     "name": "stderr",
     "output_type": "stream",
     "text": [
      "Lightning automatically upgraded your loaded checkpoint from v1.5.4 to v2.2.1. To apply the upgrade to your files permanently, run `python -m pytorch_lightning.utilities.upgrade_checkpoint C:\\Users\\User\\.cache\\torch\\whisperx-vad-segmentation.bin`\n"
     ]
    },
    {
     "name": "stdout",
     "output_type": "stream",
     "text": [
      "No language specified, language will be first be detected for each audio file (increases inference time).\n",
      "Model was trained with pyannote.audio 0.0.1, yours is 3.1.1. Bad things might happen unless you revert pyannote.audio to 0.x.\n",
      "Model was trained with torch 1.10.0+cu102, yours is 2.2.1+cpu. Bad things might happen unless you revert torch to 1.x.\n",
      "Warning: audio is shorter than 30s, language detection may be inaccurate.\n",
      "Detected language: en (0.97) in first 30s of audio...\n",
      "[{'text': \" I want to know why Loki let us take him. He's not leading an army from here. I don't think we should be focusing on Loki. That guy's brain is a bag full of cats. He gets smell crazy on him. I've cared how you speak. Loki is beyond reason, but he is a vows god, and he is my brother. He killed 80 people in two days. He's adopted?\", 'start': 0.009, 'end': 18.507}]\n",
      "[{'start': 0.089, 'end': 1.591, 'text': ' I want to know why Loki let us take him.', 'words': [{'word': 'I', 'start': 0.089, 'end': 0.149, 'score': 0.581}, {'word': 'want', 'start': 0.169, 'end': 0.309, 'score': 0.318}, {'word': 'to', 'start': 0.329, 'end': 0.389, 'score': 0.123}, {'word': 'know', 'start': 0.409, 'end': 0.509, 'score': 0.271}, {'word': 'why', 'start': 0.53, 'end': 0.63, 'score': 0.32}, {'word': 'Loki', 'start': 0.67, 'end': 0.93, 'score': 0.854}, {'word': 'let', 'start': 0.95, 'end': 1.07, 'score': 0.895}, {'word': 'us', 'start': 1.11, 'end': 1.19, 'score': 0.672}, {'word': 'take', 'start': 1.25, 'end': 1.45, 'score': 0.936}, {'word': 'him.', 'start': 1.51, 'end': 1.591, 'score': 0.666}]}, {'start': 2.331, 'end': 3.432, 'text': \"He's not leading an army from here.\", 'words': [{'word': \"He's\", 'start': 2.331, 'end': 2.471, 'score': 0.834}, {'word': 'not', 'start': 2.491, 'end': 2.592, 'score': 0.881}, {'word': 'leading', 'start': 2.612, 'end': 2.792, 'score': 0.926}, {'word': 'an', 'start': 2.812, 'end': 2.852, 'score': 0.962}, {'word': 'army', 'start': 2.912, 'end': 3.092, 'score': 0.916}, {'word': 'from', 'start': 3.132, 'end': 3.232, 'score': 0.995}, {'word': 'here.', 'start': 3.292, 'end': 3.432, 'score': 0.95}]}, {'start': 3.472, 'end': 5.054, 'text': \"I don't think we should be focusing on Loki.\", 'words': [{'word': 'I', 'start': 3.472, 'end': 3.512, 'score': 0.56}, {'word': \"don't\", 'start': 3.532, 'end': 3.653, 'score': 0.884}, {'word': 'think', 'start': 3.673, 'end': 3.773, 'score': 1.0}, {'word': 'we', 'start': 3.813, 'end': 3.873, 'score': 0.79}, {'word': 'should', 'start': 3.893, 'end': 4.013, 'score': 0.919}, {'word': 'be', 'start': 4.033, 'end': 4.093, 'score': 0.747}, {'word': 'focusing', 'start': 4.133, 'end': 4.573, 'score': 0.792}, {'word': 'on', 'start': 4.613, 'end': 4.674, 'score': 0.312}, {'word': 'Loki.', 'start': 4.714, 'end': 5.054, 'score': 0.879}]}, {'start': 5.394, 'end': 7.236, 'text': \"That guy's brain is a bag full of cats.\", 'words': [{'word': 'That', 'start': 5.394, 'end': 5.534, 'score': 0.254}, {'word': \"guy's\", 'start': 5.554, 'end': 5.755, 'score': 0.565}, {'word': 'brain', 'start': 5.795, 'end': 6.055, 'score': 0.869}, {'word': 'is', 'start': 6.095, 'end': 6.175, 'score': 0.552}, {'word': 'a', 'start': 6.215, 'end': 6.255, 'score': 0.495}, {'word': 'bag', 'start': 6.295, 'end': 6.535, 'score': 0.999}, {'word': 'full', 'start': 6.575, 'end': 6.736, 'score': 0.877}, {'word': 'of', 'start': 6.756, 'end': 6.816, 'score': 0.748}, {'word': 'cats.', 'start': 6.896, 'end': 7.236, 'score': 0.857}]}, {'start': 7.256, 'end': 8.657, 'text': 'He gets smell crazy on him.', 'words': [{'word': 'He', 'start': 7.256, 'end': 7.396, 'score': 0.108}, {'word': 'gets', 'start': 7.416, 'end': 7.576, 'score': 0.282}, {'word': 'smell', 'start': 7.636, 'end': 7.917, 'score': 0.849}, {'word': 'crazy', 'start': 7.997, 'end': 8.357, 'score': 0.924}, {'word': 'on', 'start': 8.417, 'end': 8.517, 'score': 0.655}, {'word': 'him.', 'start': 8.557, 'end': 8.657, 'score': 0.907}]}, {'start': 8.778, 'end': 9.959, 'text': \"I've cared how you speak.\", 'words': [{'word': \"I've\", 'start': 8.778, 'end': 8.918, 'score': 0.69}, {'word': 'cared', 'start': 8.958, 'end': 9.238, 'score': 0.716}, {'word': 'how', 'start': 9.278, 'end': 9.398, 'score': 0.88}, {'word': 'you', 'start': 9.418, 'end': 9.578, 'score': 0.814}, {'word': 'speak.', 'start': 9.638, 'end': 9.959, 'score': 0.986}]}, {'start': 11.18, 'end': 14.563, 'text': 'Loki is beyond reason, but he is a vows god, and he is my brother.', 'words': [{'word': 'Loki', 'start': 11.18, 'end': 11.44, 'score': 0.721}, {'word': 'is', 'start': 11.48, 'end': 11.54, 'score': 0.735}, {'word': 'beyond', 'start': 11.58, 'end': 11.841, 'score': 0.75}, {'word': 'reason,', 'start': 11.941, 'end': 12.221, 'score': 0.878}, {'word': 'but', 'start': 12.241, 'end': 12.361, 'score': 0.918}, {'word': 'he', 'start': 12.381, 'end': 12.441, 'score': 0.759}, {'word': 'is', 'start': 12.481, 'end': 12.561, 'score': 0.667}, {'word': 'a', 'start': 12.601, 'end': 12.641, 'score': 0.745}, {'word': 'vows', 'start': 12.661, 'end': 12.882, 'score': 0.728}, {'word': 'god,', 'start': 12.902, 'end': 13.182, 'score': 0.858}, {'word': 'and', 'start': 13.782, 'end': 13.862, 'score': 0.851}, {'word': 'he', 'start': 13.903, 'end': 13.963, 'score': 0.982}, {'word': 'is', 'start': 14.003, 'end': 14.063, 'score': 0.674}, {'word': 'my', 'start': 14.123, 'end': 14.243, 'score': 0.949}, {'word': 'brother.', 'start': 14.283, 'end': 14.563, 'score': 0.879}]}, {'start': 15.084, 'end': 16.725, 'text': 'He killed 80 people in two days.', 'words': [{'word': 'He', 'start': 15.084, 'end': 15.184, 'score': 0.832}, {'word': 'killed', 'start': 15.204, 'end': 15.444, 'score': 0.812}, {'word': '80'}, {'word': 'people', 'start': 15.784, 'end': 16.105, 'score': 0.829}, {'word': 'in', 'start': 16.165, 'end': 16.245, 'score': 0.798}, {'word': 'two', 'start': 16.285, 'end': 16.425, 'score': 0.887}, {'word': 'days.', 'start': 16.445, 'end': 16.725, 'score': 0.837}]}, {'start': 17.786, 'end': 18.347, 'text': \"He's adopted?\", 'words': [{'word': \"He's\", 'start': 17.786, 'end': 17.946, 'score': 0.666}, {'word': 'adopted?', 'start': 17.986, 'end': 18.347, 'score': 0.902}]}]\n",
      "                              segment label     speaker      start        end  \\\n",
      "0   [ 00:00:00.008 -->  00:00:00.025]     A  SPEAKER_02   0.008489   0.025467   \n",
      "1   [ 00:00:00.059 -->  00:00:00.195]     B  SPEAKER_02   0.059423   0.195246   \n",
      "2   [ 00:00:00.195 -->  00:00:00.212]     C  SPEAKER_00   0.195246   0.212224   \n",
      "3   [ 00:00:00.212 -->  00:00:01.366]     D  SPEAKER_02   0.212224   1.366723   \n",
      "4   [ 00:00:01.366 -->  00:00:01.570]     E  SPEAKER_00   1.366723   1.570458   \n",
      "5   [ 00:00:02.351 -->  00:00:03.183]     F  SPEAKER_02   2.351443   3.183362   \n",
      "6   [ 00:00:03.234 -->  00:00:04.949]     G  SPEAKER_00   3.234295   4.949066   \n",
      "7   [ 00:00:05.356 -->  00:00:08.684]     H  SPEAKER_00   5.356537   8.684211   \n",
      "8   [ 00:00:08.684 -->  00:00:10.076]     I  SPEAKER_02   8.684211  10.076401   \n",
      "9   [ 00:00:11.078 -->  00:00:13.234]     J  SPEAKER_02  11.078098  13.234295   \n",
      "10  [ 00:00:13.743 -->  00:00:14.660]     K  SPEAKER_02  13.743633  14.660441   \n",
      "11  [ 00:00:15.033 -->  00:00:16.918]     L  SPEAKER_01  15.033956  16.918506   \n",
      "12  [ 00:00:17.716 -->  00:00:18.446]     M  SPEAKER_02  17.716469  18.446520   \n",
      "\n",
      "    intersection      union  \n",
      "0     -17.960533  18.338511  \n",
      "1     -17.790754  18.287577  \n",
      "2     -17.773776  18.151754  \n",
      "3     -16.619277  18.134776  \n",
      "4     -16.415542  16.980277  \n",
      "5     -14.802638  15.995557  \n",
      "6     -13.036934  15.112705  \n",
      "7      -9.301789  12.990463  \n",
      "8      -7.909599   9.662789  \n",
      "9      -4.751705   7.268902  \n",
      "10     -3.325559   4.603367  \n",
      "11     -1.067494   3.313044  \n",
      "12      0.361000   0.730051  \n",
      "[{'start': 0.089, 'end': 1.591, 'text': ' I want to know why Loki let us take him.', 'words': [{'word': 'I', 'start': 0.089, 'end': 0.149, 'score': 0.581, 'speaker': 'SPEAKER_02'}, {'word': 'want', 'start': 0.169, 'end': 0.309, 'score': 0.318, 'speaker': 'SPEAKER_02'}, {'word': 'to', 'start': 0.329, 'end': 0.389, 'score': 0.123, 'speaker': 'SPEAKER_02'}, {'word': 'know', 'start': 0.409, 'end': 0.509, 'score': 0.271, 'speaker': 'SPEAKER_02'}, {'word': 'why', 'start': 0.53, 'end': 0.63, 'score': 0.32, 'speaker': 'SPEAKER_02'}, {'word': 'Loki', 'start': 0.67, 'end': 0.93, 'score': 0.854, 'speaker': 'SPEAKER_02'}, {'word': 'let', 'start': 0.95, 'end': 1.07, 'score': 0.895, 'speaker': 'SPEAKER_02'}, {'word': 'us', 'start': 1.11, 'end': 1.19, 'score': 0.672, 'speaker': 'SPEAKER_02'}, {'word': 'take', 'start': 1.25, 'end': 1.45, 'score': 0.936, 'speaker': 'SPEAKER_02'}, {'word': 'him.', 'start': 1.51, 'end': 1.591, 'score': 0.666, 'speaker': 'SPEAKER_00'}], 'speaker': 'SPEAKER_02'}, {'start': 2.331, 'end': 3.432, 'text': \"He's not leading an army from here.\", 'words': [{'word': \"He's\", 'start': 2.331, 'end': 2.471, 'score': 0.834, 'speaker': 'SPEAKER_02'}, {'word': 'not', 'start': 2.491, 'end': 2.592, 'score': 0.881, 'speaker': 'SPEAKER_02'}, {'word': 'leading', 'start': 2.612, 'end': 2.792, 'score': 0.926, 'speaker': 'SPEAKER_02'}, {'word': 'an', 'start': 2.812, 'end': 2.852, 'score': 0.962, 'speaker': 'SPEAKER_02'}, {'word': 'army', 'start': 2.912, 'end': 3.092, 'score': 0.916, 'speaker': 'SPEAKER_02'}, {'word': 'from', 'start': 3.132, 'end': 3.232, 'score': 0.995, 'speaker': 'SPEAKER_02'}, {'word': 'here.', 'start': 3.292, 'end': 3.432, 'score': 0.95, 'speaker': 'SPEAKER_00'}], 'speaker': 'SPEAKER_02'}, {'start': 3.472, 'end': 5.054, 'text': \"I don't think we should be focusing on Loki.\", 'words': [{'word': 'I', 'start': 3.472, 'end': 3.512, 'score': 0.56, 'speaker': 'SPEAKER_00'}, {'word': \"don't\", 'start': 3.532, 'end': 3.653, 'score': 0.884, 'speaker': 'SPEAKER_00'}, {'word': 'think', 'start': 3.673, 'end': 3.773, 'score': 1.0, 'speaker': 'SPEAKER_00'}, {'word': 'we', 'start': 3.813, 'end': 3.873, 'score': 0.79, 'speaker': 'SPEAKER_00'}, {'word': 'should', 'start': 3.893, 'end': 4.013, 'score': 0.919, 'speaker': 'SPEAKER_00'}, {'word': 'be', 'start': 4.033, 'end': 4.093, 'score': 0.747, 'speaker': 'SPEAKER_00'}, {'word': 'focusing', 'start': 4.133, 'end': 4.573, 'score': 0.792, 'speaker': 'SPEAKER_00'}, {'word': 'on', 'start': 4.613, 'end': 4.674, 'score': 0.312, 'speaker': 'SPEAKER_00'}, {'word': 'Loki.', 'start': 4.714, 'end': 5.054, 'score': 0.879, 'speaker': 'SPEAKER_00'}], 'speaker': 'SPEAKER_00'}, {'start': 5.394, 'end': 7.236, 'text': \"That guy's brain is a bag full of cats.\", 'words': [{'word': 'That', 'start': 5.394, 'end': 5.534, 'score': 0.254, 'speaker': 'SPEAKER_00'}, {'word': \"guy's\", 'start': 5.554, 'end': 5.755, 'score': 0.565, 'speaker': 'SPEAKER_00'}, {'word': 'brain', 'start': 5.795, 'end': 6.055, 'score': 0.869, 'speaker': 'SPEAKER_00'}, {'word': 'is', 'start': 6.095, 'end': 6.175, 'score': 0.552, 'speaker': 'SPEAKER_00'}, {'word': 'a', 'start': 6.215, 'end': 6.255, 'score': 0.495, 'speaker': 'SPEAKER_00'}, {'word': 'bag', 'start': 6.295, 'end': 6.535, 'score': 0.999, 'speaker': 'SPEAKER_00'}, {'word': 'full', 'start': 6.575, 'end': 6.736, 'score': 0.877, 'speaker': 'SPEAKER_00'}, {'word': 'of', 'start': 6.756, 'end': 6.816, 'score': 0.748, 'speaker': 'SPEAKER_00'}, {'word': 'cats.', 'start': 6.896, 'end': 7.236, 'score': 0.857, 'speaker': 'SPEAKER_00'}], 'speaker': 'SPEAKER_00'}, {'start': 7.256, 'end': 8.657, 'text': 'He gets smell crazy on him.', 'words': [{'word': 'He', 'start': 7.256, 'end': 7.396, 'score': 0.108, 'speaker': 'SPEAKER_00'}, {'word': 'gets', 'start': 7.416, 'end': 7.576, 'score': 0.282, 'speaker': 'SPEAKER_00'}, {'word': 'smell', 'start': 7.636, 'end': 7.917, 'score': 0.849, 'speaker': 'SPEAKER_00'}, {'word': 'crazy', 'start': 7.997, 'end': 8.357, 'score': 0.924, 'speaker': 'SPEAKER_00'}, {'word': 'on', 'start': 8.417, 'end': 8.517, 'score': 0.655, 'speaker': 'SPEAKER_00'}, {'word': 'him.', 'start': 8.557, 'end': 8.657, 'score': 0.907, 'speaker': 'SPEAKER_00'}], 'speaker': 'SPEAKER_00'}, {'start': 8.778, 'end': 9.959, 'text': \"I've cared how you speak.\", 'words': [{'word': \"I've\", 'start': 8.778, 'end': 8.918, 'score': 0.69, 'speaker': 'SPEAKER_02'}, {'word': 'cared', 'start': 8.958, 'end': 9.238, 'score': 0.716, 'speaker': 'SPEAKER_02'}, {'word': 'how', 'start': 9.278, 'end': 9.398, 'score': 0.88, 'speaker': 'SPEAKER_02'}, {'word': 'you', 'start': 9.418, 'end': 9.578, 'score': 0.814, 'speaker': 'SPEAKER_02'}, {'word': 'speak.', 'start': 9.638, 'end': 9.959, 'score': 0.986, 'speaker': 'SPEAKER_02'}], 'speaker': 'SPEAKER_02'}, {'start': 11.18, 'end': 14.563, 'text': 'Loki is beyond reason, but he is a vows god, and he is my brother.', 'words': [{'word': 'Loki', 'start': 11.18, 'end': 11.44, 'score': 0.721, 'speaker': 'SPEAKER_02'}, {'word': 'is', 'start': 11.48, 'end': 11.54, 'score': 0.735, 'speaker': 'SPEAKER_02'}, {'word': 'beyond', 'start': 11.58, 'end': 11.841, 'score': 0.75, 'speaker': 'SPEAKER_02'}, {'word': 'reason,', 'start': 11.941, 'end': 12.221, 'score': 0.878, 'speaker': 'SPEAKER_02'}, {'word': 'but', 'start': 12.241, 'end': 12.361, 'score': 0.918, 'speaker': 'SPEAKER_02'}, {'word': 'he', 'start': 12.381, 'end': 12.441, 'score': 0.759, 'speaker': 'SPEAKER_02'}, {'word': 'is', 'start': 12.481, 'end': 12.561, 'score': 0.667, 'speaker': 'SPEAKER_02'}, {'word': 'a', 'start': 12.601, 'end': 12.641, 'score': 0.745, 'speaker': 'SPEAKER_02'}, {'word': 'vows', 'start': 12.661, 'end': 12.882, 'score': 0.728, 'speaker': 'SPEAKER_02'}, {'word': 'god,', 'start': 12.902, 'end': 13.182, 'score': 0.858, 'speaker': 'SPEAKER_02'}, {'word': 'and', 'start': 13.782, 'end': 13.862, 'score': 0.851, 'speaker': 'SPEAKER_02'}, {'word': 'he', 'start': 13.903, 'end': 13.963, 'score': 0.982, 'speaker': 'SPEAKER_02'}, {'word': 'is', 'start': 14.003, 'end': 14.063, 'score': 0.674, 'speaker': 'SPEAKER_02'}, {'word': 'my', 'start': 14.123, 'end': 14.243, 'score': 0.949, 'speaker': 'SPEAKER_02'}, {'word': 'brother.', 'start': 14.283, 'end': 14.563, 'score': 0.879, 'speaker': 'SPEAKER_02'}], 'speaker': 'SPEAKER_02'}, {'start': 15.084, 'end': 16.725, 'text': 'He killed 80 people in two days.', 'words': [{'word': 'He', 'start': 15.084, 'end': 15.184, 'score': 0.832, 'speaker': 'SPEAKER_01'}, {'word': 'killed', 'start': 15.204, 'end': 15.444, 'score': 0.812, 'speaker': 'SPEAKER_01'}, {'word': '80'}, {'word': 'people', 'start': 15.784, 'end': 16.105, 'score': 0.829, 'speaker': 'SPEAKER_01'}, {'word': 'in', 'start': 16.165, 'end': 16.245, 'score': 0.798, 'speaker': 'SPEAKER_01'}, {'word': 'two', 'start': 16.285, 'end': 16.425, 'score': 0.887, 'speaker': 'SPEAKER_01'}, {'word': 'days.', 'start': 16.445, 'end': 16.725, 'score': 0.837, 'speaker': 'SPEAKER_01'}], 'speaker': 'SPEAKER_01'}, {'start': 17.786, 'end': 18.347, 'text': \"He's adopted?\", 'words': [{'word': \"He's\", 'start': 17.786, 'end': 17.946, 'score': 0.666, 'speaker': 'SPEAKER_02'}, {'word': 'adopted?', 'start': 17.986, 'end': 18.347, 'score': 0.902, 'speaker': 'SPEAKER_02'}], 'speaker': 'SPEAKER_02'}]\n"
     ]
    }
   ],
   "source": [
    "# 1. Transcribe with original whisper (batched)\n",
    "model_base = whisperx.load_model(\"base\", device, compute_type=compute_type)\n",
    "\n",
    "audio = whisperx.load_audio(\"hassan/four.wav\")\n",
    "result = model_base.transcribe(audio, batch_size=batch_size)\n",
    "print(result[\"segments\"]) # before alignment\n",
    "\n",
    "# delete model if low on GPU resources\n",
    "# import gc; gc.collect(); torch.cuda.empty_cache(); del model\n",
    "\n",
    "# 2. Align whisper output\n",
    "model_a, metadata = whisperx.load_align_model(language_code=result[\"language\"], device=device)\n",
    "result = whisperx.align(result[\"segments\"], model_a, metadata, audio, device, return_char_alignments=False)\n",
    "\n",
    "print(result[\"segments\"]) # after alignment\n",
    "\n",
    "# delete model if low on GPU resources\n",
    "# import gc; gc.collect(); torch.cuda.empty_cache(); del model_a\n",
    "\n",
    "# 3. Assign speaker labels\n",
    "diarize_model = whisperx.DiarizationPipeline(use_auth_token=write_api_key, device=device)\n",
    "\n",
    "# add min/max number of speakers if known\n",
    "diarize_segments = diarize_model(audio)\n",
    "# diarize_model(audio, min_speakers=min_speakers, max_speakers=max_speakers)\n",
    "\n",
    "result = whisperx.assign_word_speakers(diarize_segments, result)\n",
    "print(diarize_segments)\n",
    "print(result[\"segments\"]) # segments are now assigned speaker IDs"
   ]
  },
  {
   "cell_type": "code",
   "execution_count": 21,
   "metadata": {},
   "outputs": [
    {
     "name": "stdout",
     "output_type": "stream",
     "text": [
      "SPEAKER_02:  I want to know why Loki let us take him.\n",
      "SPEAKER_02: He's not leading an army from here.\n",
      "SPEAKER_00: I don't think we should be focusing on Loki.\n",
      "SPEAKER_00: That guy's brain is a bag full of cats.\n",
      "SPEAKER_00: He gets smell crazy on him.\n",
      "SPEAKER_02: I've cared how you speak.\n",
      "SPEAKER_02: Loki is beyond reason, but he is a vows god, and he is my brother.\n",
      "SPEAKER_01: He killed 80 people in two days.\n",
      "SPEAKER_02: He's adopted?\n"
     ]
    }
   ],
   "source": [
    "def extract_data(json_data):\n",
    "    for segment in json_data:\n",
    "       output = print(segment['speaker'] + \": \" + segment['text'])\n",
    "    return output\n",
    "\n",
    "extract_data(result['segments'])"
   ]
  },
  {
   "cell_type": "code",
   "execution_count": 22,
   "metadata": {},
   "outputs": [
    {
     "name": "stdout",
     "output_type": "stream",
     "text": [
      " I want to know why Loki let us take him.\n",
      "He's not leading an army from here.\n",
      "I don't think we should be focusing on Loki.\n",
      "That guy's brain is a bag full of cats.\n",
      "He gets smell crazy on him.\n",
      "I've cared how you speak.\n",
      "Loki is beyond reason, but he is a vows god, and he is my brother.\n",
      "He killed 80 people in two days.\n",
      "He's adopted?\n"
     ]
    }
   ],
   "source": [
    "for segment in result['segments']:\n",
    "    print(segment['text'])"
   ]
  },
  {
   "cell_type": "code",
   "execution_count": 57,
   "metadata": {},
   "outputs": [
    {
     "name": "stdout",
     "output_type": "stream",
     "text": [
      "Detected language: pl (0.95) in first 30s of audio...\n",
      "[{'text': ' I co? Mają otwarte?', 'start': 6.493, 'end': 16.698}, {'text': ' Nie, nie, nie, nie, nie, nie, nie, nie, nie, nie, nie, nie, nie, nie, nie, nie, nie, nie, nie, nie, nie, nie, nie, nie, nie, nie, nie, nie, nie, nie, nie, nie, nie, nie, nie, nie, nie, nie, nie, nie, nie, nie, nie, nie, nie, nie, nie, nie, nie, nie, nie, nie, nie, nie, nie, nie, nie, nie, nie, nie, nie, nie, nie, nie, nie, nie, nie, nie, nie, nie, nie, nie, nie, nie, nie, nie, nie, nie, nie, nie, nie, nie, nie, nie, nie, nie, nie, nie, nie, nie, nie, nie, nie, nie, nie, nie, nie, nie, nie, nie, nie, nie, nie, nie, nie, nie, nie, nie, nie, nie, nie, nie,', 'start': 17.824, 'end': 45.998}, {'text': ' Dzień dobry, ale dźwięk zostanie.', 'start': 46.493, 'end': 68.848}]\n"
     ]
    }
   ],
   "source": [
    "audio = whisperx.load_audio(\"talking-people-6368.mp3\")\n",
    "transcribe_result = model_base.transcribe(audio, batch_size=batch_size)\n",
    "print(transcribe_result[\"segments\"])"
   ]
  },
  {
   "cell_type": "code",
   "execution_count": 59,
   "metadata": {},
   "outputs": [
    {
     "name": "stdout",
     "output_type": "stream",
     "text": [
      " I co? Mają otwarte?\n",
      " Nie, nie, nie, nie, nie, nie, nie, nie, nie, nie, nie, nie, nie, nie, nie, nie, nie, nie, nie, nie, nie, nie, nie, nie, nie, nie, nie, nie, nie, nie, nie, nie, nie, nie, nie, nie, nie, nie, nie, nie, nie, nie, nie, nie, nie, nie, nie, nie, nie, nie, nie, nie, nie, nie, nie, nie, nie, nie, nie, nie, nie, nie, nie, nie, nie, nie, nie, nie, nie, nie, nie, nie, nie, nie, nie, nie, nie, nie, nie, nie, nie, nie, nie, nie, nie, nie, nie, nie, nie, nie, nie, nie, nie, nie, nie, nie, nie, nie, nie, nie, nie, nie, nie, nie, nie, nie, nie, nie, nie, nie, nie, nie,\n",
      " Dzień dobry, ale dźwięk zostanie.\n"
     ]
    }
   ],
   "source": [
    "print(transcribe_result[\"segments\"][0]['text'])\n",
    "print(transcribe_result[\"segments\"][1]['text'])\n",
    "print(transcribe_result[\"segments\"][2]['text'])"
   ]
  },
  {
   "cell_type": "code",
   "execution_count": 64,
   "metadata": {},
   "outputs": [
    {
     "name": "stderr",
     "output_type": "stream",
     "text": [
      "Some weights of the model checkpoint at jonatasgrosman/wav2vec2-large-xlsr-53-polish were not used when initializing Wav2Vec2ForCTC: ['wav2vec2.encoder.pos_conv_embed.conv.weight_g', 'wav2vec2.encoder.pos_conv_embed.conv.weight_v']\n",
      "- This IS expected if you are initializing Wav2Vec2ForCTC from the checkpoint of a model trained on another task or with another architecture (e.g. initializing a BertForSequenceClassification model from a BertForPreTraining model).\n",
      "- This IS NOT expected if you are initializing Wav2Vec2ForCTC from the checkpoint of a model that you expect to be exactly identical (initializing a BertForSequenceClassification model from a BertForSequenceClassification model).\n",
      "Some weights of Wav2Vec2ForCTC were not initialized from the model checkpoint at jonatasgrosman/wav2vec2-large-xlsr-53-polish and are newly initialized: ['wav2vec2.encoder.pos_conv_embed.conv.parametrizations.weight.original0', 'wav2vec2.encoder.pos_conv_embed.conv.parametrizations.weight.original1']\n",
      "You should probably TRAIN this model on a down-stream task to be able to use it for predictions and inference.\n"
     ]
    },
    {
     "name": "stdout",
     "output_type": "stream",
     "text": [
      "[{'start': 11.616, 'end': 12.136, 'text': ' I co?', 'words': [{'word': 'I', 'start': 11.616, 'end': 11.716, 'score': 0.8}, {'word': 'co?', 'start': 12.056, 'end': 12.136, 'score': 0.395}]}, {'start': 12.176, 'end': 13.236, 'text': 'Mają otwarte?', 'words': [{'word': 'Mają', 'start': 12.176, 'end': 12.456, 'score': 0.956}, {'word': 'otwarte?', 'start': 12.476, 'end': 13.236, 'score': 0.654}]}, {'start': 18.284, 'end': 45.998, 'text': ' Nie, nie, nie, nie, nie, nie, nie, nie, nie, nie, nie, nie, nie, nie, nie, nie, nie, nie, nie, nie, nie, nie, nie, nie, nie, nie, nie, nie, nie, nie, nie, nie, nie, nie, nie, nie, nie, nie, nie, nie, nie, nie, nie, nie, nie, nie, nie, nie, nie, nie, nie, nie, nie, nie, nie, nie, nie, nie, nie, nie, nie, nie, nie, nie, nie, nie, nie, nie, nie, nie, nie, nie, nie, nie, nie, nie, nie, nie, nie, nie, nie, nie, nie, nie, nie, nie, nie, nie, nie, nie, nie, nie, nie, nie, nie, nie, nie, nie, nie, nie, nie, nie, nie, nie, nie, nie, nie, nie, nie, nie, nie, nie,', 'words': [{'word': 'Nie,', 'start': 18.284, 'end': 18.364, 'score': 0.167}, {'word': 'nie,', 'start': 18.404, 'end': 18.544, 'score': 0.267}, {'word': 'nie,', 'start': 18.564, 'end': 18.644, 'score': 0.167}, {'word': 'nie,', 'start': 18.664, 'end': 18.724, 'score': 0.0}, {'word': 'nie,', 'start': 18.744, 'end': 18.804, 'score': 0.0}, {'word': 'nie,', 'start': 18.824, 'end': 18.885, 'score': 0.0}, {'word': 'nie,', 'start': 18.905, 'end': 18.965, 'score': 0.0}, {'word': 'nie,', 'start': 18.985, 'end': 19.045, 'score': 0.0}, {'word': 'nie,', 'start': 19.065, 'end': 19.125, 'score': 0.0}, {'word': 'nie,', 'start': 19.145, 'end': 19.205, 'score': 0.0}, {'word': 'nie,', 'start': 19.225, 'end': 19.305, 'score': 0.167}, {'word': 'nie,', 'start': 19.345, 'end': 19.405, 'score': 0.0}, {'word': 'nie,', 'start': 19.425, 'end': 19.505, 'score': 0.173}, {'word': 'nie,', 'start': 19.525, 'end': 19.585, 'score': 0.0}, {'word': 'nie,', 'start': 19.625, 'end': 19.685, 'score': 0.0}, {'word': 'nie,', 'start': 19.705, 'end': 19.765, 'score': 0.0}, {'word': 'nie,', 'start': 19.785, 'end': 19.845, 'score': 0.0}, {'word': 'nie,', 'start': 19.865, 'end': 19.925, 'score': 0.0}, {'word': 'nie,', 'start': 19.945, 'end': 20.005, 'score': 0.023}, {'word': 'nie,', 'start': 20.025, 'end': 20.085, 'score': 0.0}, {'word': 'nie,', 'start': 20.105, 'end': 20.165, 'score': 0.004}, {'word': 'nie,', 'start': 20.185, 'end': 20.245, 'score': 0.0}, {'word': 'nie,', 'start': 20.265, 'end': 20.325, 'score': 0.006}, {'word': 'nie,', 'start': 20.345, 'end': 20.405, 'score': 0.003}, {'word': 'nie,', 'start': 20.425, 'end': 20.485, 'score': 0.0}, {'word': 'nie,', 'start': 20.505, 'end': 20.565, 'score': 0.0}, {'word': 'nie,', 'start': 20.585, 'end': 20.645, 'score': 0.0}, {'word': 'nie,', 'start': 20.665, 'end': 20.725, 'score': 0.001}, {'word': 'nie,', 'start': 20.745, 'end': 20.805, 'score': 0.0}, {'word': 'nie,', 'start': 20.825, 'end': 20.886, 'score': 0.003}, {'word': 'nie,', 'start': 20.906, 'end': 20.966, 'score': 0.0}, {'word': 'nie,', 'start': 20.986, 'end': 21.046, 'score': 0.0}, {'word': 'nie,', 'start': 21.066, 'end': 21.126, 'score': 0.086}, {'word': 'nie,', 'start': 21.146, 'end': 21.206, 'score': 0.0}, {'word': 'nie,', 'start': 21.226, 'end': 21.286, 'score': 0.011}, {'word': 'nie,', 'start': 21.306, 'end': 21.366, 'score': 0.0}, {'word': 'nie,', 'start': 21.386, 'end': 21.466, 'score': 0.268}, {'word': 'nie,', 'start': 21.506, 'end': 21.566, 'score': 0.049}, {'word': 'nie,', 'start': 21.586, 'end': 21.646, 'score': 0.001}, {'word': 'nie,', 'start': 21.666, 'end': 21.726, 'score': 0.075}, {'word': 'nie,', 'start': 21.746, 'end': 21.806, 'score': 0.0}, {'word': 'nie,', 'start': 21.826, 'end': 21.906, 'score': 0.191}, {'word': 'nie,', 'start': 21.926, 'end': 21.986, 'score': 0.001}, {'word': 'nie,', 'start': 22.006, 'end': 22.066, 'score': 0.0}, {'word': 'nie,', 'start': 22.086, 'end': 22.186, 'score': 0.231}, {'word': 'nie,', 'start': 22.206, 'end': 22.266, 'score': 0.002}, {'word': 'nie,', 'start': 22.286, 'end': 22.346, 'score': 0.001}, {'word': 'nie,', 'start': 22.366, 'end': 22.426, 'score': 0.0}, {'word': 'nie,', 'start': 22.446, 'end': 22.506, 'score': 0.002}, {'word': 'nie,', 'start': 22.526, 'end': 22.586, 'score': 0.003}, {'word': 'nie,', 'start': 22.606, 'end': 22.666, 'score': 0.002}, {'word': 'nie,', 'start': 22.686, 'end': 22.746, 'score': 0.0}, {'word': 'nie,', 'start': 22.766, 'end': 22.826, 'score': 0.035}, {'word': 'nie,', 'start': 22.846, 'end': 22.907, 'score': 0.0}, {'word': 'nie,', 'start': 22.927, 'end': 22.987, 'score': 0.14}, {'word': 'nie,', 'start': 23.007, 'end': 23.067, 'score': 0.0}, {'word': 'nie,', 'start': 23.087, 'end': 23.147, 'score': 0.002}, {'word': 'nie,', 'start': 23.187, 'end': 23.247, 'score': 0.048}, {'word': 'nie,', 'start': 23.267, 'end': 23.327, 'score': 0.0}, {'word': 'nie,', 'start': 23.347, 'end': 23.407, 'score': 0.006}, {'word': 'nie,', 'start': 23.427, 'end': 23.487, 'score': 0.005}, {'word': 'nie,', 'start': 23.507, 'end': 23.567, 'score': 0.003}, {'word': 'nie,', 'start': 23.587, 'end': 23.647, 'score': 0.0}, {'word': 'nie,', 'start': 23.667, 'end': 23.787, 'score': 0.25}, {'word': 'nie,', 'start': 23.827, 'end': 24.127, 'score': 0.472}, {'word': 'nie,', 'start': 24.227, 'end': 24.327, 'score': 0.222}, {'word': 'nie,', 'start': 24.407, 'end': 24.527, 'score': 0.389}, {'word': 'nie,', 'start': 24.587, 'end': 24.747, 'score': 0.433}, {'word': 'nie,', 'start': 24.807, 'end': 25.148, 'score': 0.476}, {'word': 'nie,', 'start': 25.228, 'end': 25.348, 'score': 0.25}, {'word': 'nie,', 'start': 25.428, 'end': 26.428, 'score': 0.854}, {'word': 'nie,', 'start': 26.708, 'end': 26.768, 'score': 0.0}, {'word': 'nie,', 'start': 26.788, 'end': 26.848, 'score': 0.0}, {'word': 'nie,', 'start': 26.868, 'end': 26.929, 'score': 0.0}, {'word': 'nie,', 'start': 26.949, 'end': 27.009, 'score': 0.001}, {'word': 'nie,', 'start': 27.029, 'end': 27.109, 'score': 0.17}, {'word': 'nie,', 'start': 27.129, 'end': 27.189, 'score': 0.0}, {'word': 'nie,', 'start': 27.209, 'end': 27.269, 'score': 0.001}, {'word': 'nie,', 'start': 27.289, 'end': 27.349, 'score': 0.008}, {'word': 'nie,', 'start': 27.369, 'end': 27.429, 'score': 0.0}, {'word': 'nie,', 'start': 27.449, 'end': 27.509, 'score': 0.0}, {'word': 'nie,', 'start': 27.529, 'end': 27.589, 'score': 0.002}, {'word': 'nie,', 'start': 27.609, 'end': 27.669, 'score': 0.0}, {'word': 'nie,', 'start': 27.689, 'end': 27.789, 'score': 0.333}, {'word': 'nie,', 'start': 27.829, 'end': 27.949, 'score': 0.389}, {'word': 'nie,', 'start': 28.009, 'end': 28.129, 'score': 0.389}, {'word': 'nie,', 'start': 28.189, 'end': 28.309, 'score': 0.389}, {'word': 'nie,', 'start': 28.329, 'end': 28.429, 'score': 0.333}, {'word': 'nie,', 'start': 28.509, 'end': 33.092, 'score': 0.931}, {'word': 'nie,', 'start': 33.272, 'end': 33.592, 'score': 0.577}, {'word': 'nie,', 'start': 33.652, 'end': 33.812, 'score': 0.583}, {'word': 'nie,', 'start': 33.832, 'end': 33.892, 'score': 0.0}, {'word': 'nie,', 'start': 33.912, 'end': 34.052, 'score': 0.556}, {'word': 'nie,', 'start': 34.132, 'end': 34.212, 'score': 0.167}, {'word': 'nie,', 'start': 34.252, 'end': 34.372, 'score': 0.5}, {'word': 'nie,', 'start': 34.472, 'end': 34.592, 'score': 0.25}, {'word': 'nie,', 'start': 34.652, 'end': 34.973, 'score': 0.474}, {'word': 'nie,', 'start': 35.353, 'end': 36.033, 'score': 0.545}, {'word': 'nie,', 'start': 36.053, 'end': 36.153, 'score': 0.222}, {'word': 'nie,', 'start': 36.173, 'end': 36.273, 'score': 0.222}, {'word': 'nie,', 'start': 36.333, 'end': 36.413, 'score': 0.167}, {'word': 'nie,', 'start': 36.453, 'end': 36.553, 'score': 0.222}, {'word': 'nie,', 'start': 36.573, 'end': 36.633, 'score': 0.013}, {'word': 'nie,', 'start': 36.653, 'end': 36.713, 'score': 0.0}, {'word': 'nie,', 'start': 36.733, 'end': 36.793, 'score': 0.0}, {'word': 'nie,', 'start': 36.853, 'end': 36.954, 'score': 0.222}, {'word': 'nie,', 'start': 37.014, 'end': 37.094, 'score': 0.167}, {'word': 'nie,', 'start': 37.174, 'end': 37.234, 'score': 0.003}, {'word': 'nie,', 'start': 37.254, 'end': 37.334, 'score': 0.167}, {'word': 'nie,', 'start': 37.374, 'end': 37.434, 'score': 0.0}, {'word': 'nie,', 'start': 37.494, 'end': 37.694, 'score': 0.667}, {'word': 'nie,', 'start': 38.094, 'end': 45.998, 'score': 0.663}]}, {'start': 47.314, 'end': 68.848, 'text': ' Dzień dobry, ale dźwięk zostanie.', 'words': [{'word': 'Dzień', 'start': 47.314, 'end': 48.054, 'score': 0.394}, {'word': 'dobry,', 'start': 48.354, 'end': 49.455, 'score': 0.761}, {'word': 'ale', 'start': 50.836, 'end': 56.36, 'score': 0.919}, {'word': 'dźwięk', 'start': 56.46, 'end': 61.783, 'score': 0.904}, {'word': 'zostanie.', 'start': 61.883, 'end': 68.848, 'score': 0.666}]}]\n"
     ]
    }
   ],
   "source": [
    "# 2. Align whisper output\n",
    "model_a, metadata = whisperx.load_align_model(language_code=transcribe_result[\"language\"], device=device)\n",
    "aligned_result = whisperx.align(transcribe_result[\"segments\"], model_a, metadata, audio, device, return_char_alignments=False)\n",
    "\n",
    "print(aligned_result[\"segments\"])"
   ]
  },
  {
   "cell_type": "code",
   "execution_count": 70,
   "metadata": {},
   "outputs": [
    {
     "name": "stdout",
     "output_type": "stream",
     "text": [
      " I co?\n",
      "Mają otwarte?\n",
      " Nie, nie, nie, nie, nie, nie, nie, nie, nie, nie, nie, nie, nie, nie, nie, nie, nie, nie, nie, nie, nie, nie, nie, nie, nie, nie, nie, nie, nie, nie, nie, nie, nie, nie, nie, nie, nie, nie, nie, nie, nie, nie, nie, nie, nie, nie, nie, nie, nie, nie, nie, nie, nie, nie, nie, nie, nie, nie, nie, nie, nie, nie, nie, nie, nie, nie, nie, nie, nie, nie, nie, nie, nie, nie, nie, nie, nie, nie, nie, nie, nie, nie, nie, nie, nie, nie, nie, nie, nie, nie, nie, nie, nie, nie, nie, nie, nie, nie, nie, nie, nie, nie, nie, nie, nie, nie, nie, nie, nie, nie, nie, nie,\n",
      " Dzień dobry, ale dźwięk zostanie.\n"
     ]
    }
   ],
   "source": [
    "print(aligned_result['segments'][0]['text'])\n",
    "print(aligned_result['segments'][1]['text'])\n",
    "print(aligned_result['segments'][2]['text'])\n",
    "print(aligned_result['segments'][3]['text'])"
   ]
  },
  {
   "cell_type": "code",
   "execution_count": 67,
   "metadata": {},
   "outputs": [
    {
     "name": "stdout",
     "output_type": "stream",
     "text": [
      " I co?\n",
      "Mają otwarte?\n",
      " Nie, nie, nie, nie, nie, nie, nie, nie, nie, nie, nie, nie, nie, nie, nie, nie, nie, nie, nie, nie, nie, nie, nie, nie, nie, nie, nie, nie, nie, nie, nie, nie, nie, nie, nie, nie, nie, nie, nie, nie, nie, nie, nie, nie, nie, nie, nie, nie, nie, nie, nie, nie, nie, nie, nie, nie, nie, nie, nie, nie, nie, nie, nie, nie, nie, nie, nie, nie, nie, nie, nie, nie, nie, nie, nie, nie, nie, nie, nie, nie, nie, nie, nie, nie, nie, nie, nie, nie, nie, nie, nie, nie, nie, nie, nie, nie, nie, nie, nie, nie, nie, nie, nie, nie, nie, nie, nie, nie, nie, nie, nie, nie,\n",
      " Dzień dobry, ale dźwięk zostanie.\n"
     ]
    }
   ],
   "source": [
    "for segment in aligned_result['segments']:\n",
    "    print(segment['text'])"
   ]
  },
  {
   "cell_type": "code",
   "execution_count": 71,
   "metadata": {},
   "outputs": [
    {
     "name": "stdout",
     "output_type": "stream",
     "text": [
      "                              segment label     speaker      start        end  \\\n",
      "0   [ 00:00:00.008 -->  00:00:01.162]     A  SPEAKER_00   0.008489   1.162988   \n",
      "1   [ 00:00:01.383 -->  00:00:03.998]     B  SPEAKER_01   1.383701   3.998302   \n",
      "2   [ 00:00:01.383 -->  00:00:17.003]     C  SPEAKER_00   1.383701  17.003396   \n",
      "3   [ 00:00:04.202 -->  00:00:04.303]     D  SPEAKER_01   4.202037   4.303905   \n",
      "4   [ 00:00:05.831 -->  00:00:05.899]     E  SPEAKER_01   5.831919   5.899830   \n",
      "5   [ 00:00:11.502 -->  00:00:14.083]     F  SPEAKER_01  11.502547  14.083192   \n",
      "6   [ 00:00:17.325 -->  00:00:40.042]     G  SPEAKER_00  17.325976  40.042445   \n",
      "7   [ 00:00:19.668 -->  00:00:20.976]     H  SPEAKER_01  19.668930  20.976231   \n",
      "8   [ 00:00:21.825 -->  00:00:21.977]     I  SPEAKER_01  21.825127  21.977929   \n",
      "9   [ 00:00:25.237 -->  00:00:25.645]     J  SPEAKER_01  25.237691  25.645161   \n",
      "10  [ 00:00:26.358 -->  00:00:26.392]     K  SPEAKER_01  26.358234  26.392190   \n",
      "11  [ 00:00:26.511 -->  00:00:30.314]     L  SPEAKER_01  26.511036  30.314092   \n",
      "12  [ 00:00:31.689 -->  00:00:33.692]     M  SPEAKER_01  31.689304  33.692699   \n",
      "13  [ 00:00:34.728 -->  00:00:36.205]     N  SPEAKER_01  34.728353  36.205433   \n",
      "14  [ 00:00:37.359 -->  00:00:37.937]     O  SPEAKER_01  37.359932  37.937182   \n",
      "15  [ 00:00:40.263 -->  00:00:46.018]     P  SPEAKER_00  40.263158  46.018676   \n",
      "16  [ 00:00:41.400 -->  00:00:42.657]     Q  SPEAKER_01  41.400679  42.657046   \n",
      "17  [ 00:00:43.234 -->  00:00:43.471]     R  SPEAKER_01  43.234295  43.471986   \n",
      "18  [ 00:00:44.388 -->  00:00:44.456]     S  SPEAKER_01  44.388795  44.456706   \n",
      "19  [ 00:00:46.460 -->  00:00:57.003]     T  SPEAKER_00  46.460102  57.003396   \n",
      "20  [ 00:00:46.544 -->  00:00:48.089]     U  SPEAKER_01  46.544992  48.089983   \n",
      "21  [ 00:00:52.232 -->  00:00:53.370]     V  SPEAKER_01  52.232598  53.370119   \n",
      "22  [ 00:00:55.050 -->  00:00:55.271]     W  SPEAKER_01  55.050934  55.271647   \n",
      "23  [ 00:01:00.025 -->  00:01:01.247]     X  SPEAKER_00  60.025467  61.247878   \n",
      "24  [ 00:01:01.977 -->  00:01:02.809]     Y  SPEAKER_00  61.977929  62.809847   \n",
      "25  [ 00:01:05.628 -->  00:01:05.662]     Z  SPEAKER_00  65.628183  65.662139   \n",
      "26  [ 00:01:05.747 -->  00:01:05.899]    AA  SPEAKER_00  65.747029  65.899830   \n",
      "27  [ 00:01:05.950 -->  00:01:06.477]    AB  SPEAKER_00  65.950764  66.477080   \n",
      "28  [ 00:01:06.663 -->  00:01:06.680]    AC  SPEAKER_00  66.663837  66.680815   \n",
      "29  [ 00:01:08.005 -->  00:01:08.039]    AD  SPEAKER_00  68.005093  68.039049   \n",
      "\n",
      "    intersection      union  \n",
      "0     -60.720012  68.839511  \n",
      "1     -57.884698  67.464299  \n",
      "2     -44.879604  67.464299  \n",
      "3     -57.579095  64.645963  \n",
      "4     -55.983170  63.016081  \n",
      "5     -47.799808  57.345453  \n",
      "6     -21.840555  51.522024  \n",
      "7     -40.906769  49.179070  \n",
      "8     -39.905071  47.022873  \n",
      "9     -36.237839  43.610309  \n",
      "10    -35.490810  42.489766  \n",
      "11    -31.568908  42.336964  \n",
      "12    -28.190301  37.158696  \n",
      "13    -25.677567  34.119647  \n",
      "14    -23.945818  31.488068  \n",
      "15    -15.864324  28.584842  \n",
      "16    -19.225954  27.447321  \n",
      "17    -18.411014  25.613705  \n",
      "18    -17.426294  24.459205  \n",
      "19     -4.879604  22.387898  \n",
      "20    -13.793017  22.303008  \n",
      "21     -8.512881  16.615402  \n",
      "22     -6.611353  13.797066  \n",
      "23     -0.635122   8.822533  \n",
      "24      0.831919   6.965000  \n",
      "25      0.033956   6.965000  \n",
      "26      0.152801   6.965000  \n",
      "27      0.526316   6.965000  \n",
      "28      0.016978   6.965000  \n",
      "29      0.033956   6.965000  \n",
      "[{'start': 11.616, 'end': 12.136, 'text': ' I co?', 'words': [{'word': 'I', 'start': 11.616, 'end': 11.716, 'score': 0.8, 'speaker': 'SPEAKER_00'}, {'word': 'co?', 'start': 12.056, 'end': 12.136, 'score': 0.395, 'speaker': 'SPEAKER_00'}], 'speaker': 'SPEAKER_00'}, {'start': 12.176, 'end': 13.236, 'text': 'Mają otwarte?', 'words': [{'word': 'Mają', 'start': 12.176, 'end': 12.456, 'score': 0.956, 'speaker': 'SPEAKER_00'}, {'word': 'otwarte?', 'start': 12.476, 'end': 13.236, 'score': 0.654, 'speaker': 'SPEAKER_00'}], 'speaker': 'SPEAKER_00'}, {'start': 18.284, 'end': 45.998, 'text': ' Nie, nie, nie, nie, nie, nie, nie, nie, nie, nie, nie, nie, nie, nie, nie, nie, nie, nie, nie, nie, nie, nie, nie, nie, nie, nie, nie, nie, nie, nie, nie, nie, nie, nie, nie, nie, nie, nie, nie, nie, nie, nie, nie, nie, nie, nie, nie, nie, nie, nie, nie, nie, nie, nie, nie, nie, nie, nie, nie, nie, nie, nie, nie, nie, nie, nie, nie, nie, nie, nie, nie, nie, nie, nie, nie, nie, nie, nie, nie, nie, nie, nie, nie, nie, nie, nie, nie, nie, nie, nie, nie, nie, nie, nie, nie, nie, nie, nie, nie, nie, nie, nie, nie, nie, nie, nie, nie, nie, nie, nie, nie, nie,', 'words': [{'word': 'Nie,', 'start': 18.284, 'end': 18.364, 'score': 0.167, 'speaker': 'SPEAKER_00'}, {'word': 'nie,', 'start': 18.404, 'end': 18.544, 'score': 0.267, 'speaker': 'SPEAKER_00'}, {'word': 'nie,', 'start': 18.564, 'end': 18.644, 'score': 0.167, 'speaker': 'SPEAKER_00'}, {'word': 'nie,', 'start': 18.664, 'end': 18.724, 'score': 0.0, 'speaker': 'SPEAKER_00'}, {'word': 'nie,', 'start': 18.744, 'end': 18.804, 'score': 0.0, 'speaker': 'SPEAKER_00'}, {'word': 'nie,', 'start': 18.824, 'end': 18.885, 'score': 0.0, 'speaker': 'SPEAKER_00'}, {'word': 'nie,', 'start': 18.905, 'end': 18.965, 'score': 0.0, 'speaker': 'SPEAKER_00'}, {'word': 'nie,', 'start': 18.985, 'end': 19.045, 'score': 0.0, 'speaker': 'SPEAKER_00'}, {'word': 'nie,', 'start': 19.065, 'end': 19.125, 'score': 0.0, 'speaker': 'SPEAKER_00'}, {'word': 'nie,', 'start': 19.145, 'end': 19.205, 'score': 0.0, 'speaker': 'SPEAKER_00'}, {'word': 'nie,', 'start': 19.225, 'end': 19.305, 'score': 0.167, 'speaker': 'SPEAKER_00'}, {'word': 'nie,', 'start': 19.345, 'end': 19.405, 'score': 0.0, 'speaker': 'SPEAKER_00'}, {'word': 'nie,', 'start': 19.425, 'end': 19.505, 'score': 0.173, 'speaker': 'SPEAKER_00'}, {'word': 'nie,', 'start': 19.525, 'end': 19.585, 'score': 0.0, 'speaker': 'SPEAKER_00'}, {'word': 'nie,', 'start': 19.625, 'end': 19.685, 'score': 0.0, 'speaker': 'SPEAKER_00'}, {'word': 'nie,', 'start': 19.705, 'end': 19.765, 'score': 0.0, 'speaker': 'SPEAKER_00'}, {'word': 'nie,', 'start': 19.785, 'end': 19.845, 'score': 0.0, 'speaker': 'SPEAKER_00'}, {'word': 'nie,', 'start': 19.865, 'end': 19.925, 'score': 0.0, 'speaker': 'SPEAKER_00'}, {'word': 'nie,', 'start': 19.945, 'end': 20.005, 'score': 0.023, 'speaker': 'SPEAKER_00'}, {'word': 'nie,', 'start': 20.025, 'end': 20.085, 'score': 0.0, 'speaker': 'SPEAKER_00'}, {'word': 'nie,', 'start': 20.105, 'end': 20.165, 'score': 0.004, 'speaker': 'SPEAKER_00'}, {'word': 'nie,', 'start': 20.185, 'end': 20.245, 'score': 0.0, 'speaker': 'SPEAKER_00'}, {'word': 'nie,', 'start': 20.265, 'end': 20.325, 'score': 0.006, 'speaker': 'SPEAKER_00'}, {'word': 'nie,', 'start': 20.345, 'end': 20.405, 'score': 0.003, 'speaker': 'SPEAKER_00'}, {'word': 'nie,', 'start': 20.425, 'end': 20.485, 'score': 0.0, 'speaker': 'SPEAKER_00'}, {'word': 'nie,', 'start': 20.505, 'end': 20.565, 'score': 0.0, 'speaker': 'SPEAKER_00'}, {'word': 'nie,', 'start': 20.585, 'end': 20.645, 'score': 0.0, 'speaker': 'SPEAKER_00'}, {'word': 'nie,', 'start': 20.665, 'end': 20.725, 'score': 0.001, 'speaker': 'SPEAKER_00'}, {'word': 'nie,', 'start': 20.745, 'end': 20.805, 'score': 0.0, 'speaker': 'SPEAKER_00'}, {'word': 'nie,', 'start': 20.825, 'end': 20.886, 'score': 0.003, 'speaker': 'SPEAKER_00'}, {'word': 'nie,', 'start': 20.906, 'end': 20.966, 'score': 0.0, 'speaker': 'SPEAKER_00'}, {'word': 'nie,', 'start': 20.986, 'end': 21.046, 'score': 0.0, 'speaker': 'SPEAKER_00'}, {'word': 'nie,', 'start': 21.066, 'end': 21.126, 'score': 0.086, 'speaker': 'SPEAKER_00'}, {'word': 'nie,', 'start': 21.146, 'end': 21.206, 'score': 0.0, 'speaker': 'SPEAKER_00'}, {'word': 'nie,', 'start': 21.226, 'end': 21.286, 'score': 0.011, 'speaker': 'SPEAKER_00'}, {'word': 'nie,', 'start': 21.306, 'end': 21.366, 'score': 0.0, 'speaker': 'SPEAKER_00'}, {'word': 'nie,', 'start': 21.386, 'end': 21.466, 'score': 0.268, 'speaker': 'SPEAKER_00'}, {'word': 'nie,', 'start': 21.506, 'end': 21.566, 'score': 0.049, 'speaker': 'SPEAKER_00'}, {'word': 'nie,', 'start': 21.586, 'end': 21.646, 'score': 0.001, 'speaker': 'SPEAKER_00'}, {'word': 'nie,', 'start': 21.666, 'end': 21.726, 'score': 0.075, 'speaker': 'SPEAKER_00'}, {'word': 'nie,', 'start': 21.746, 'end': 21.806, 'score': 0.0, 'speaker': 'SPEAKER_00'}, {'word': 'nie,', 'start': 21.826, 'end': 21.906, 'score': 0.191, 'speaker': 'SPEAKER_00'}, {'word': 'nie,', 'start': 21.926, 'end': 21.986, 'score': 0.001, 'speaker': 'SPEAKER_00'}, {'word': 'nie,', 'start': 22.006, 'end': 22.066, 'score': 0.0, 'speaker': 'SPEAKER_00'}, {'word': 'nie,', 'start': 22.086, 'end': 22.186, 'score': 0.231, 'speaker': 'SPEAKER_00'}, {'word': 'nie,', 'start': 22.206, 'end': 22.266, 'score': 0.002, 'speaker': 'SPEAKER_00'}, {'word': 'nie,', 'start': 22.286, 'end': 22.346, 'score': 0.001, 'speaker': 'SPEAKER_00'}, {'word': 'nie,', 'start': 22.366, 'end': 22.426, 'score': 0.0, 'speaker': 'SPEAKER_00'}, {'word': 'nie,', 'start': 22.446, 'end': 22.506, 'score': 0.002, 'speaker': 'SPEAKER_00'}, {'word': 'nie,', 'start': 22.526, 'end': 22.586, 'score': 0.003, 'speaker': 'SPEAKER_00'}, {'word': 'nie,', 'start': 22.606, 'end': 22.666, 'score': 0.002, 'speaker': 'SPEAKER_00'}, {'word': 'nie,', 'start': 22.686, 'end': 22.746, 'score': 0.0, 'speaker': 'SPEAKER_00'}, {'word': 'nie,', 'start': 22.766, 'end': 22.826, 'score': 0.035, 'speaker': 'SPEAKER_00'}, {'word': 'nie,', 'start': 22.846, 'end': 22.907, 'score': 0.0, 'speaker': 'SPEAKER_00'}, {'word': 'nie,', 'start': 22.927, 'end': 22.987, 'score': 0.14, 'speaker': 'SPEAKER_00'}, {'word': 'nie,', 'start': 23.007, 'end': 23.067, 'score': 0.0, 'speaker': 'SPEAKER_00'}, {'word': 'nie,', 'start': 23.087, 'end': 23.147, 'score': 0.002, 'speaker': 'SPEAKER_00'}, {'word': 'nie,', 'start': 23.187, 'end': 23.247, 'score': 0.048, 'speaker': 'SPEAKER_00'}, {'word': 'nie,', 'start': 23.267, 'end': 23.327, 'score': 0.0, 'speaker': 'SPEAKER_00'}, {'word': 'nie,', 'start': 23.347, 'end': 23.407, 'score': 0.006, 'speaker': 'SPEAKER_00'}, {'word': 'nie,', 'start': 23.427, 'end': 23.487, 'score': 0.005, 'speaker': 'SPEAKER_00'}, {'word': 'nie,', 'start': 23.507, 'end': 23.567, 'score': 0.003, 'speaker': 'SPEAKER_00'}, {'word': 'nie,', 'start': 23.587, 'end': 23.647, 'score': 0.0, 'speaker': 'SPEAKER_00'}, {'word': 'nie,', 'start': 23.667, 'end': 23.787, 'score': 0.25, 'speaker': 'SPEAKER_00'}, {'word': 'nie,', 'start': 23.827, 'end': 24.127, 'score': 0.472, 'speaker': 'SPEAKER_00'}, {'word': 'nie,', 'start': 24.227, 'end': 24.327, 'score': 0.222, 'speaker': 'SPEAKER_00'}, {'word': 'nie,', 'start': 24.407, 'end': 24.527, 'score': 0.389, 'speaker': 'SPEAKER_00'}, {'word': 'nie,', 'start': 24.587, 'end': 24.747, 'score': 0.433, 'speaker': 'SPEAKER_00'}, {'word': 'nie,', 'start': 24.807, 'end': 25.148, 'score': 0.476, 'speaker': 'SPEAKER_00'}, {'word': 'nie,', 'start': 25.228, 'end': 25.348, 'score': 0.25, 'speaker': 'SPEAKER_00'}, {'word': 'nie,', 'start': 25.428, 'end': 26.428, 'score': 0.854, 'speaker': 'SPEAKER_00'}, {'word': 'nie,', 'start': 26.708, 'end': 26.768, 'score': 0.0, 'speaker': 'SPEAKER_00'}, {'word': 'nie,', 'start': 26.788, 'end': 26.848, 'score': 0.0, 'speaker': 'SPEAKER_00'}, {'word': 'nie,', 'start': 26.868, 'end': 26.929, 'score': 0.0, 'speaker': 'SPEAKER_00'}, {'word': 'nie,', 'start': 26.949, 'end': 27.009, 'score': 0.001, 'speaker': 'SPEAKER_00'}, {'word': 'nie,', 'start': 27.029, 'end': 27.109, 'score': 0.17, 'speaker': 'SPEAKER_00'}, {'word': 'nie,', 'start': 27.129, 'end': 27.189, 'score': 0.0, 'speaker': 'SPEAKER_00'}, {'word': 'nie,', 'start': 27.209, 'end': 27.269, 'score': 0.001, 'speaker': 'SPEAKER_00'}, {'word': 'nie,', 'start': 27.289, 'end': 27.349, 'score': 0.008, 'speaker': 'SPEAKER_00'}, {'word': 'nie,', 'start': 27.369, 'end': 27.429, 'score': 0.0, 'speaker': 'SPEAKER_00'}, {'word': 'nie,', 'start': 27.449, 'end': 27.509, 'score': 0.0, 'speaker': 'SPEAKER_00'}, {'word': 'nie,', 'start': 27.529, 'end': 27.589, 'score': 0.002, 'speaker': 'SPEAKER_00'}, {'word': 'nie,', 'start': 27.609, 'end': 27.669, 'score': 0.0, 'speaker': 'SPEAKER_00'}, {'word': 'nie,', 'start': 27.689, 'end': 27.789, 'score': 0.333, 'speaker': 'SPEAKER_00'}, {'word': 'nie,', 'start': 27.829, 'end': 27.949, 'score': 0.389, 'speaker': 'SPEAKER_00'}, {'word': 'nie,', 'start': 28.009, 'end': 28.129, 'score': 0.389, 'speaker': 'SPEAKER_00'}, {'word': 'nie,', 'start': 28.189, 'end': 28.309, 'score': 0.389, 'speaker': 'SPEAKER_00'}, {'word': 'nie,', 'start': 28.329, 'end': 28.429, 'score': 0.333, 'speaker': 'SPEAKER_00'}, {'word': 'nie,', 'start': 28.509, 'end': 33.092, 'score': 0.931, 'speaker': 'SPEAKER_00'}, {'word': 'nie,', 'start': 33.272, 'end': 33.592, 'score': 0.577, 'speaker': 'SPEAKER_00'}, {'word': 'nie,', 'start': 33.652, 'end': 33.812, 'score': 0.583, 'speaker': 'SPEAKER_00'}, {'word': 'nie,', 'start': 33.832, 'end': 33.892, 'score': 0.0, 'speaker': 'SPEAKER_00'}, {'word': 'nie,', 'start': 33.912, 'end': 34.052, 'score': 0.556, 'speaker': 'SPEAKER_00'}, {'word': 'nie,', 'start': 34.132, 'end': 34.212, 'score': 0.167, 'speaker': 'SPEAKER_00'}, {'word': 'nie,', 'start': 34.252, 'end': 34.372, 'score': 0.5, 'speaker': 'SPEAKER_00'}, {'word': 'nie,', 'start': 34.472, 'end': 34.592, 'score': 0.25, 'speaker': 'SPEAKER_00'}, {'word': 'nie,', 'start': 34.652, 'end': 34.973, 'score': 0.474, 'speaker': 'SPEAKER_00'}, {'word': 'nie,', 'start': 35.353, 'end': 36.033, 'score': 0.545, 'speaker': 'SPEAKER_00'}, {'word': 'nie,', 'start': 36.053, 'end': 36.153, 'score': 0.222, 'speaker': 'SPEAKER_00'}, {'word': 'nie,', 'start': 36.173, 'end': 36.273, 'score': 0.222, 'speaker': 'SPEAKER_00'}, {'word': 'nie,', 'start': 36.333, 'end': 36.413, 'score': 0.167, 'speaker': 'SPEAKER_00'}, {'word': 'nie,', 'start': 36.453, 'end': 36.553, 'score': 0.222, 'speaker': 'SPEAKER_00'}, {'word': 'nie,', 'start': 36.573, 'end': 36.633, 'score': 0.013, 'speaker': 'SPEAKER_00'}, {'word': 'nie,', 'start': 36.653, 'end': 36.713, 'score': 0.0, 'speaker': 'SPEAKER_00'}, {'word': 'nie,', 'start': 36.733, 'end': 36.793, 'score': 0.0, 'speaker': 'SPEAKER_00'}, {'word': 'nie,', 'start': 36.853, 'end': 36.954, 'score': 0.222, 'speaker': 'SPEAKER_00'}, {'word': 'nie,', 'start': 37.014, 'end': 37.094, 'score': 0.167, 'speaker': 'SPEAKER_00'}, {'word': 'nie,', 'start': 37.174, 'end': 37.234, 'score': 0.003, 'speaker': 'SPEAKER_00'}, {'word': 'nie,', 'start': 37.254, 'end': 37.334, 'score': 0.167, 'speaker': 'SPEAKER_00'}, {'word': 'nie,', 'start': 37.374, 'end': 37.434, 'score': 0.0, 'speaker': 'SPEAKER_00'}, {'word': 'nie,', 'start': 37.494, 'end': 37.694, 'score': 0.667, 'speaker': 'SPEAKER_00'}, {'word': 'nie,', 'start': 38.094, 'end': 45.998, 'score': 0.663, 'speaker': 'SPEAKER_00'}], 'speaker': 'SPEAKER_00'}, {'start': 47.314, 'end': 68.848, 'text': ' Dzień dobry, ale dźwięk zostanie.', 'words': [{'word': 'Dzień', 'start': 47.314, 'end': 48.054, 'score': 0.394, 'speaker': 'SPEAKER_00'}, {'word': 'dobry,', 'start': 48.354, 'end': 49.455, 'score': 0.761, 'speaker': 'SPEAKER_00'}, {'word': 'ale', 'start': 50.836, 'end': 56.36, 'score': 0.919, 'speaker': 'SPEAKER_00'}, {'word': 'dźwięk', 'start': 56.46, 'end': 61.783, 'score': 0.904, 'speaker': 'SPEAKER_00'}, {'word': 'zostanie.', 'start': 61.883, 'end': 68.848, 'score': 0.666, 'speaker': 'SPEAKER_00'}], 'speaker': 'SPEAKER_00'}]\n"
     ]
    }
   ],
   "source": [
    "# 3. Assign speaker labels\n",
    "diarize_model = whisperx.DiarizationPipeline(use_auth_token=write_api_key, device=device)\n",
    "\n",
    "# add min/max number of speakers if known\n",
    "diarize_segments = diarize_model(audio)\n",
    "# diarize_model(audio, min_speakers=min_speakers, max_speakers=max_speakers)\n",
    "\n",
    "assigned_word_result = whisperx.assign_word_speakers(diarize_segments, aligned_result)\n",
    "print(diarize_segments)\n",
    "print(assigned_word_result[\"segments\"])"
   ]
  },
  {
   "cell_type": "code",
   "execution_count": 72,
   "metadata": {},
   "outputs": [
    {
     "name": "stdout",
     "output_type": "stream",
     "text": [
      "SPEAKER_00:  I co?\n",
      "SPEAKER_00: Mają otwarte?\n",
      "SPEAKER_00:  Nie, nie, nie, nie, nie, nie, nie, nie, nie, nie, nie, nie, nie, nie, nie, nie, nie, nie, nie, nie, nie, nie, nie, nie, nie, nie, nie, nie, nie, nie, nie, nie, nie, nie, nie, nie, nie, nie, nie, nie, nie, nie, nie, nie, nie, nie, nie, nie, nie, nie, nie, nie, nie, nie, nie, nie, nie, nie, nie, nie, nie, nie, nie, nie, nie, nie, nie, nie, nie, nie, nie, nie, nie, nie, nie, nie, nie, nie, nie, nie, nie, nie, nie, nie, nie, nie, nie, nie, nie, nie, nie, nie, nie, nie, nie, nie, nie, nie, nie, nie, nie, nie, nie, nie, nie, nie, nie, nie, nie, nie, nie, nie,\n",
      "SPEAKER_00:  Dzień dobry, ale dźwięk zostanie.\n"
     ]
    }
   ],
   "source": [
    "extract_data(assigned_word_result['segments'])"
   ]
  },
  {
   "cell_type": "markdown",
   "metadata": {},
   "source": [
    "### Large-v2"
   ]
  },
  {
   "cell_type": "code",
   "execution_count": 100,
   "metadata": {},
   "outputs": [
    {
     "name": "stdout",
     "output_type": "stream",
     "text": [
      "No language specified, language will be first be detected for each audio file (increases inference time).\n"
     ]
    },
    {
     "name": "stderr",
     "output_type": "stream",
     "text": [
      "100%|█████████████████████████████████████| 16.9M/16.9M [00:12<00:00, 1.41MiB/s]\n",
      "Lightning automatically upgraded your loaded checkpoint from v1.5.4 to v2.2.1. To apply the upgrade to your files permanently, run `python -m pytorch_lightning.utilities.upgrade_checkpoint C:\\Users\\User\\.cache\\torch\\whisperx-vad-segmentation.bin`\n"
     ]
    },
    {
     "name": "stdout",
     "output_type": "stream",
     "text": [
      "Model was trained with pyannote.audio 0.0.1, yours is 3.1.1. Bad things might happen unless you revert pyannote.audio to 0.x.\n",
      "Model was trained with torch 1.10.0+cu102, yours is 2.2.1+cpu. Bad things might happen unless you revert torch to 1.x.\n",
      "Detected language: pl (0.68) in first 30s of audio...\n",
      "[{'text': ' Zostawić się, uderzyć czasem i cześć. Zostawić się.', 'start': 0.009, 'end': 12.449}, {'text': ' Niech prosimy się spodziewać, jestem w ogóle, wiesz... Ja mam w ogóle flagi, flagi podwija, to wygląda jakbym nas wypraszała. Cześć! Cześć! Cześć! Cześć! Cześć! Cześć!', 'start': 13.063, 'end': 33.712}, {'text': ' Założyć nadzieję, że w pierwszym czasie, że dążym przyjmujemy i nie powiemy niczego.', 'start': 33.712, 'end': 55.35}, {'text': ' Można.', 'start': 55.35, 'end': 81.186}]\n"
     ]
    },
    {
     "name": "stderr",
     "output_type": "stream",
     "text": [
      "Some weights of the model checkpoint at jonatasgrosman/wav2vec2-large-xlsr-53-polish were not used when initializing Wav2Vec2ForCTC: ['wav2vec2.encoder.pos_conv_embed.conv.weight_g', 'wav2vec2.encoder.pos_conv_embed.conv.weight_v']\n",
      "- This IS expected if you are initializing Wav2Vec2ForCTC from the checkpoint of a model trained on another task or with another architecture (e.g. initializing a BertForSequenceClassification model from a BertForPreTraining model).\n",
      "- This IS NOT expected if you are initializing Wav2Vec2ForCTC from the checkpoint of a model that you expect to be exactly identical (initializing a BertForSequenceClassification model from a BertForSequenceClassification model).\n",
      "Some weights of Wav2Vec2ForCTC were not initialized from the model checkpoint at jonatasgrosman/wav2vec2-large-xlsr-53-polish and are newly initialized: ['wav2vec2.encoder.pos_conv_embed.conv.parametrizations.weight.original0', 'wav2vec2.encoder.pos_conv_embed.conv.parametrizations.weight.original1']\n",
      "You should probably TRAIN this model on a down-stream task to be able to use it for predictions and inference.\n"
     ]
    },
    {
     "name": "stdout",
     "output_type": "stream",
     "text": [
      "[{'start': 0.009, 'end': 9.524, 'text': ' Zostawić się, uderzyć czasem i cześć.', 'words': [{'word': 'Zostawić', 'start': 0.009, 'end': 5.017, 'score': 0.818}, {'word': 'się,', 'start': 5.097, 'end': 5.658, 'score': 0.585}, {'word': 'uderzyć', 'start': 5.858, 'end': 7.802, 'score': 0.639}, {'word': 'czasem', 'start': 7.882, 'end': 8.623, 'score': 0.544}, {'word': 'i', 'start': 8.743, 'end': 8.823, 'score': 0.75}, {'word': 'cześć.', 'start': 8.863, 'end': 9.524, 'score': 0.352}]}, {'start': 9.584, 'end': 12.008, 'text': 'Zostawić się.', 'words': [{'word': 'Zostawić', 'start': 9.584, 'end': 10.927, 'score': 0.657}, {'word': 'się.', 'start': 11.127, 'end': 12.008, 'score': 0.547}]}, {'start': 13.123, 'end': 28.57, 'text': ' Niech prosimy się spodziewać, jestem w ogóle, wiesz... Ja mam w ogóle flagi, flagi podwija, to wygląda jakbym nas wypraszała.', 'words': [{'word': 'Niech', 'start': 13.123, 'end': 13.563, 'score': 0.453}, {'word': 'prosimy', 'start': 14.203, 'end': 14.604, 'score': 0.315}, {'word': 'się', 'start': 14.664, 'end': 14.824, 'score': 0.472}, {'word': 'spodziewać,', 'start': 14.944, 'end': 15.824, 'score': 0.448}, {'word': 'jestem', 'start': 15.864, 'end': 16.965, 'score': 0.754}, {'word': 'w', 'start': 17.265, 'end': 17.545, 'score': 0.929}, {'word': 'ogóle,', 'start': 17.865, 'end': 19.326, 'score': 0.618}, {'word': 'wiesz...', 'start': 19.366, 'end': 19.566, 'score': 0.26}, {'word': 'Ja', 'start': 19.646, 'end': 19.926, 'score': 0.462}, {'word': 'mam', 'start': 19.946, 'end': 20.106, 'score': 0.278}, {'word': 'w', 'start': 20.166, 'end': 20.306, 'score': 0.857}, {'word': 'ogóle', 'start': 20.346, 'end': 20.766, 'score': 0.345}, {'word': 'flagi,', 'start': 20.906, 'end': 21.127, 'score': 0.36}, {'word': 'flagi', 'start': 21.227, 'end': 21.567, 'score': 0.315}, {'word': 'podwija,', 'start': 21.667, 'end': 23.007, 'score': 0.711}, {'word': 'to', 'start': 23.067, 'end': 23.588, 'score': 0.91}, {'word': 'wygląda', 'start': 24.188, 'end': 24.848, 'score': 0.568}, {'word': 'jakbym', 'start': 25.028, 'end': 26.749, 'score': 0.894}, {'word': 'nas', 'start': 27.209, 'end': 27.589, 'score': 0.593}, {'word': 'wypraszała.', 'start': 27.609, 'end': 28.57, 'score': 0.542}]}, {'start': 28.83, 'end': 29.39, 'text': 'Cześć!', 'words': [{'word': 'Cześć!', 'start': 28.83, 'end': 29.39, 'score': 0.539}]}, {'start': 29.51, 'end': 30.07, 'text': 'Cześć!', 'words': [{'word': 'Cześć!', 'start': 29.51, 'end': 30.07, 'score': 0.529}]}, {'start': 30.09, 'end': 30.691, 'text': 'Cześć!', 'words': [{'word': 'Cześć!', 'start': 30.09, 'end': 30.691, 'score': 0.684}]}, {'start': 30.751, 'end': 31.531, 'text': 'Cześć!', 'words': [{'word': 'Cześć!', 'start': 30.751, 'end': 31.531, 'score': 0.544}]}, {'start': 31.611, 'end': 32.171, 'text': 'Cześć!', 'words': [{'word': 'Cześć!', 'start': 31.611, 'end': 32.171, 'score': 0.528}]}, {'start': 33.132, 'end': 33.712, 'text': 'Cześć!', 'words': [{'word': 'Cześć!', 'start': 33.132, 'end': 33.712, 'score': 0.645}]}, {'start': 34.553, 'end': 55.35, 'text': ' Założyć nadzieję, że w pierwszym czasie, że dążym przyjmujemy i nie powiemy niczego.', 'words': [{'word': 'Założyć', 'start': 34.553, 'end': 36.654, 'score': 0.733}, {'word': 'nadzieję,', 'start': 36.714, 'end': 38.956, 'score': 0.663}, {'word': 'że', 'start': 39.197, 'end': 39.637, 'score': 0.909}, {'word': 'w', 'start': 40.117, 'end': 40.358, 'score': 0.917}, {'word': 'pierwszym', 'start': 40.638, 'end': 44.161, 'score': 0.779}, {'word': 'czasie,', 'start': 44.301, 'end': 46.302, 'score': 0.728}, {'word': 'że', 'start': 46.322, 'end': 46.443, 'score': 0.4}, {'word': 'dążym', 'start': 46.983, 'end': 47.944, 'score': 0.51}, {'word': 'przyjmujemy', 'start': 48.044, 'end': 50.366, 'score': 0.592}, {'word': 'i', 'start': 50.886, 'end': 50.926, 'score': 0.5}, {'word': 'nie', 'start': 51.006, 'end': 51.106, 'score': 0.222}, {'word': 'powiemy', 'start': 51.407, 'end': 52.648, 'score': 0.629}, {'word': 'niczego.', 'start': 52.688, 'end': 55.35, 'score': 0.278}]}, {'start': 59.813, 'end': 79.665, 'text': ' Można.', 'words': [{'word': 'Można.', 'start': 59.813, 'end': 79.665, 'score': 0.795}]}]\n",
      "                              segment label     speaker      start        end  \\\n",
      "0   [ 00:00:00.008 -->  00:00:13.234]     A  SPEAKER_00   0.008489  13.234295   \n",
      "1   [ 00:00:00.365 -->  00:00:00.568]     B  SPEAKER_01   0.365025   0.568761   \n",
      "2   [ 00:00:00.908 -->  00:00:10.297]     C  SPEAKER_01   0.908319  10.297114   \n",
      "3   [ 00:00:10.993 -->  00:00:11.179]     D  SPEAKER_01  10.993209  11.179966   \n",
      "4   [ 00:00:13.794 -->  00:00:33.556]     E  SPEAKER_00  13.794567  33.556876   \n",
      "5   [ 00:00:16.629 -->  00:00:19.923]     F  SPEAKER_01  16.629881  19.923599   \n",
      "6   [ 00:00:20.432 -->  00:00:31.689]     G  SPEAKER_01  20.432937  31.689304   \n",
      "7   [ 00:00:32.181 -->  00:00:32.809]     H  SPEAKER_01  32.181664  32.809847   \n",
      "8   [ 00:00:33.777 -->  00:01:07.835]     I  SPEAKER_00  33.777589  67.835314   \n",
      "9   [ 00:00:35.611 -->  00:00:35.899]     J  SPEAKER_01  35.611205  35.899830   \n",
      "10  [ 00:00:36.409 -->  00:00:39.991]     K  SPEAKER_01  36.409168  39.991511   \n",
      "11  [ 00:00:40.297 -->  00:00:40.721]     L  SPEAKER_01  40.297114  40.721562   \n",
      "12  [ 00:00:41.825 -->  00:00:43.607]     M  SPEAKER_01  41.825127  43.607810   \n",
      "13  [ 00:00:44.660 -->  00:00:46.001]     N  SPEAKER_01  44.660441  46.001698   \n",
      "14  [ 00:00:46.341 -->  00:00:50.993]     O  SPEAKER_01  46.341256  50.993209   \n",
      "15  [ 00:00:51.621 -->  00:00:52.079]     P  SPEAKER_01  51.621392  52.079796   \n",
      "16  [ 00:00:52.249 -->  00:00:52.555]     Q  SPEAKER_01  52.249576  52.555178   \n",
      "17  [ 00:00:53.556 -->  00:00:55.135]     R  SPEAKER_01  53.556876  55.135823   \n",
      "18  [ 00:00:55.492 -->  00:00:58.837]     S  SPEAKER_01  55.492360  58.837012   \n",
      "19  [ 00:00:59.770 -->  00:00:59.787]     T  SPEAKER_01  59.770798  59.787776   \n",
      "20  [ 00:01:02.385 -->  00:01:02.996]     U  SPEAKER_01  62.385399  62.996604   \n",
      "21  [ 00:01:03.200 -->  00:01:05.016]     V  SPEAKER_01  63.200340  65.016978   \n",
      "22  [ 00:01:05.288 -->  00:01:05.594]     W  SPEAKER_01  65.288625  65.594228   \n",
      "23  [ 00:01:08.140 -->  00:01:09.363]     X  SPEAKER_00  68.140917  69.363328   \n",
      "24  [ 00:01:09.702 -->  00:01:16.528]     Y  SPEAKER_00  69.702886  76.528014   \n",
      "25  [ 00:01:12.470 -->  00:01:12.996]     Z  SPEAKER_01  72.470289  72.996604   \n",
      "26  [ 00:01:15.118 -->  00:01:15.271]    AA  SPEAKER_01  75.118846  75.271647   \n",
      "27  [ 00:01:19.465 -->  00:01:20.874]    AB  SPEAKER_00  79.465195  80.874363   \n",
      "28  [ 00:01:20.993 -->  00:01:21.112]    AC  SPEAKER_00  80.993209  81.112054   \n",
      "\n",
      "    intersection      union  \n",
      "0     -46.578705  79.656511  \n",
      "1     -59.244239  79.299975  \n",
      "2     -49.515886  78.756681  \n",
      "3     -48.633034  68.671791  \n",
      "4     -26.256124  65.870433  \n",
      "5     -39.889401  63.035119  \n",
      "6     -28.123696  59.232063  \n",
      "7     -27.003153  47.483336  \n",
      "8       8.022314  45.887411  \n",
      "9     -23.913170  44.053795  \n",
      "10    -19.821489  43.255832  \n",
      "11    -19.091438  39.367886  \n",
      "12    -16.205190  37.839873  \n",
      "13    -13.811302  35.004559  \n",
      "14     -8.819791  33.323744  \n",
      "15     -7.733204  28.043608  \n",
      "16     -7.257822  27.415424  \n",
      "17     -4.677177  26.108124  \n",
      "18     -0.975988  24.172640  \n",
      "19     -0.025224  19.894202  \n",
      "20      0.611205  19.852000  \n",
      "21      1.816638  19.852000  \n",
      "22      0.305603  19.852000  \n",
      "23      1.222411  19.852000  \n",
      "24      6.825127  19.852000  \n",
      "25      0.526316  19.852000  \n",
      "26      0.152801  19.852000  \n",
      "27      0.199805  21.061363  \n",
      "28     -1.328209  21.299054  \n",
      "[{'start': 0.009, 'end': 9.524, 'text': ' Zostawić się, uderzyć czasem i cześć.', 'words': [{'word': 'Zostawić', 'start': 0.009, 'end': 5.017, 'score': 0.818, 'speaker': 'SPEAKER_00'}, {'word': 'się,', 'start': 5.097, 'end': 5.658, 'score': 0.585, 'speaker': 'SPEAKER_00'}, {'word': 'uderzyć', 'start': 5.858, 'end': 7.802, 'score': 0.639, 'speaker': 'SPEAKER_00'}, {'word': 'czasem', 'start': 7.882, 'end': 8.623, 'score': 0.544, 'speaker': 'SPEAKER_00'}, {'word': 'i', 'start': 8.743, 'end': 8.823, 'score': 0.75, 'speaker': 'SPEAKER_00'}, {'word': 'cześć.', 'start': 8.863, 'end': 9.524, 'score': 0.352, 'speaker': 'SPEAKER_00'}], 'speaker': 'SPEAKER_00'}, {'start': 9.584, 'end': 12.008, 'text': 'Zostawić się.', 'words': [{'word': 'Zostawić', 'start': 9.584, 'end': 10.927, 'score': 0.657, 'speaker': 'SPEAKER_00'}, {'word': 'się.', 'start': 11.127, 'end': 12.008, 'score': 0.547, 'speaker': 'SPEAKER_00'}], 'speaker': 'SPEAKER_00'}, {'start': 13.123, 'end': 28.57, 'text': ' Niech prosimy się spodziewać, jestem w ogóle, wiesz... Ja mam w ogóle flagi, flagi podwija, to wygląda jakbym nas wypraszała.', 'words': [{'word': 'Niech', 'start': 13.123, 'end': 13.563, 'score': 0.453, 'speaker': 'SPEAKER_00'}, {'word': 'prosimy', 'start': 14.203, 'end': 14.604, 'score': 0.315, 'speaker': 'SPEAKER_00'}, {'word': 'się', 'start': 14.664, 'end': 14.824, 'score': 0.472, 'speaker': 'SPEAKER_00'}, {'word': 'spodziewać,', 'start': 14.944, 'end': 15.824, 'score': 0.448, 'speaker': 'SPEAKER_00'}, {'word': 'jestem', 'start': 15.864, 'end': 16.965, 'score': 0.754, 'speaker': 'SPEAKER_00'}, {'word': 'w', 'start': 17.265, 'end': 17.545, 'score': 0.929, 'speaker': 'SPEAKER_00'}, {'word': 'ogóle,', 'start': 17.865, 'end': 19.326, 'score': 0.618, 'speaker': 'SPEAKER_00'}, {'word': 'wiesz...', 'start': 19.366, 'end': 19.566, 'score': 0.26, 'speaker': 'SPEAKER_00'}, {'word': 'Ja', 'start': 19.646, 'end': 19.926, 'score': 0.462, 'speaker': 'SPEAKER_00'}, {'word': 'mam', 'start': 19.946, 'end': 20.106, 'score': 0.278, 'speaker': 'SPEAKER_00'}, {'word': 'w', 'start': 20.166, 'end': 20.306, 'score': 0.857, 'speaker': 'SPEAKER_00'}, {'word': 'ogóle', 'start': 20.346, 'end': 20.766, 'score': 0.345, 'speaker': 'SPEAKER_00'}, {'word': 'flagi,', 'start': 20.906, 'end': 21.127, 'score': 0.36, 'speaker': 'SPEAKER_00'}, {'word': 'flagi', 'start': 21.227, 'end': 21.567, 'score': 0.315, 'speaker': 'SPEAKER_00'}, {'word': 'podwija,', 'start': 21.667, 'end': 23.007, 'score': 0.711, 'speaker': 'SPEAKER_00'}, {'word': 'to', 'start': 23.067, 'end': 23.588, 'score': 0.91, 'speaker': 'SPEAKER_00'}, {'word': 'wygląda', 'start': 24.188, 'end': 24.848, 'score': 0.568, 'speaker': 'SPEAKER_00'}, {'word': 'jakbym', 'start': 25.028, 'end': 26.749, 'score': 0.894, 'speaker': 'SPEAKER_00'}, {'word': 'nas', 'start': 27.209, 'end': 27.589, 'score': 0.593, 'speaker': 'SPEAKER_00'}, {'word': 'wypraszała.', 'start': 27.609, 'end': 28.57, 'score': 0.542, 'speaker': 'SPEAKER_00'}], 'speaker': 'SPEAKER_00'}, {'start': 28.83, 'end': 29.39, 'text': 'Cześć!', 'words': [{'word': 'Cześć!', 'start': 28.83, 'end': 29.39, 'score': 0.539, 'speaker': 'SPEAKER_00'}], 'speaker': 'SPEAKER_00'}, {'start': 29.51, 'end': 30.07, 'text': 'Cześć!', 'words': [{'word': 'Cześć!', 'start': 29.51, 'end': 30.07, 'score': 0.529, 'speaker': 'SPEAKER_00'}], 'speaker': 'SPEAKER_00'}, {'start': 30.09, 'end': 30.691, 'text': 'Cześć!', 'words': [{'word': 'Cześć!', 'start': 30.09, 'end': 30.691, 'score': 0.684, 'speaker': 'SPEAKER_00'}], 'speaker': 'SPEAKER_00'}, {'start': 30.751, 'end': 31.531, 'text': 'Cześć!', 'words': [{'word': 'Cześć!', 'start': 30.751, 'end': 31.531, 'score': 0.544, 'speaker': 'SPEAKER_00'}], 'speaker': 'SPEAKER_00'}, {'start': 31.611, 'end': 32.171, 'text': 'Cześć!', 'words': [{'word': 'Cześć!', 'start': 31.611, 'end': 32.171, 'score': 0.528, 'speaker': 'SPEAKER_00'}], 'speaker': 'SPEAKER_00'}, {'start': 33.132, 'end': 33.712, 'text': 'Cześć!', 'words': [{'word': 'Cześć!', 'start': 33.132, 'end': 33.712, 'score': 0.645, 'speaker': 'SPEAKER_00'}], 'speaker': 'SPEAKER_00'}, {'start': 34.553, 'end': 55.35, 'text': ' Założyć nadzieję, że w pierwszym czasie, że dążym przyjmujemy i nie powiemy niczego.', 'words': [{'word': 'Założyć', 'start': 34.553, 'end': 36.654, 'score': 0.733, 'speaker': 'SPEAKER_00'}, {'word': 'nadzieję,', 'start': 36.714, 'end': 38.956, 'score': 0.663, 'speaker': 'SPEAKER_00'}, {'word': 'że', 'start': 39.197, 'end': 39.637, 'score': 0.909, 'speaker': 'SPEAKER_00'}, {'word': 'w', 'start': 40.117, 'end': 40.358, 'score': 0.917, 'speaker': 'SPEAKER_00'}, {'word': 'pierwszym', 'start': 40.638, 'end': 44.161, 'score': 0.779, 'speaker': 'SPEAKER_00'}, {'word': 'czasie,', 'start': 44.301, 'end': 46.302, 'score': 0.728, 'speaker': 'SPEAKER_00'}, {'word': 'że', 'start': 46.322, 'end': 46.443, 'score': 0.4, 'speaker': 'SPEAKER_00'}, {'word': 'dążym', 'start': 46.983, 'end': 47.944, 'score': 0.51, 'speaker': 'SPEAKER_00'}, {'word': 'przyjmujemy', 'start': 48.044, 'end': 50.366, 'score': 0.592, 'speaker': 'SPEAKER_00'}, {'word': 'i', 'start': 50.886, 'end': 50.926, 'score': 0.5, 'speaker': 'SPEAKER_00'}, {'word': 'nie', 'start': 51.006, 'end': 51.106, 'score': 0.222, 'speaker': 'SPEAKER_00'}, {'word': 'powiemy', 'start': 51.407, 'end': 52.648, 'score': 0.629, 'speaker': 'SPEAKER_00'}, {'word': 'niczego.', 'start': 52.688, 'end': 55.35, 'score': 0.278, 'speaker': 'SPEAKER_00'}], 'speaker': 'SPEAKER_00'}, {'start': 59.813, 'end': 79.665, 'text': ' Można.', 'words': [{'word': 'Można.', 'start': 59.813, 'end': 79.665, 'score': 0.795, 'speaker': 'SPEAKER_00'}], 'speaker': 'SPEAKER_00'}]\n"
     ]
    }
   ],
   "source": [
    "import requests\n",
    "import json\n",
    "\n",
    "# Load configuration from JSON file\n",
    "with open('credentials.json', 'r') as config_file:\n",
    "    config = json.load(config_file)\n",
    "\n",
    "read_api_key = config['read_api']['api_token']\n",
    "write_api_key =  config['write_api']['api_token']\n",
    "\n",
    "import whisperx\n",
    "import gc\n",
    "\n",
    "device = \"cpu\"\n",
    "audio_file = \"talking-people-2-6400.mp3\"\n",
    "batch_size = 4 # reduce if low on GPU mem\n",
    "compute_type = \"int8\" # change to \"int8\" if low on GPU mem (may reduce accuracy)\n",
    "\n",
    "# 1. Transcribe with original whisper (batched)\n",
    "model_base = whisperx.load_model(\"large-v2\", device, compute_type=compute_type)\n",
    "\n",
    "# save model to local path (optional)\n",
    "# model_dir = \"/path/\"\n",
    "# model_large = whisperx.load_model(\"large-v2\", device, compute_type=compute_type, download_root=model_dir)\n",
    "\n",
    "audio = whisperx.load_audio(audio_file)\n",
    "result = model_base.transcribe(audio, batch_size=batch_size)\n",
    "print(result[\"segments\"]) # before alignment\n",
    "\n",
    "# delete model if low on GPU resources\n",
    "# import gc; gc.collect(); torch.cuda.empty_cache(); del model\n",
    "\n",
    "# 2. Align whisper output\n",
    "model_a, metadata = whisperx.load_align_model(language_code=result[\"language\"], device=device)\n",
    "result = whisperx.align(result[\"segments\"], model_a, metadata, audio, device, return_char_alignments=False)\n",
    "\n",
    "print(result[\"segments\"]) # after alignment\n",
    "\n",
    "# delete model if low on GPU resources\n",
    "# import gc; gc.collect(); torch.cuda.empty_cache(); del model_a\n",
    "\n",
    "# 3. Assign speaker labels\n",
    "diarize_model = whisperx.DiarizationPipeline(use_auth_token=write_api_key, device=device)\n",
    "\n",
    "# add min/max number of speakers if known\n",
    "diarize_segments = diarize_model(audio)\n",
    "# diarize_model(audio, min_speakers=min_speakers, max_speakers=max_speakers)\n",
    "\n",
    "result = whisperx.assign_word_speakers(diarize_segments, result)\n",
    "print(diarize_segments)\n",
    "print(result[\"segments\"]) # segments are now assigned speaker IDs"
   ]
  },
  {
   "cell_type": "code",
   "execution_count": 101,
   "metadata": {},
   "outputs": [
    {
     "name": "stdout",
     "output_type": "stream",
     "text": [
      "SPEAKER_00:  Zostawić się, uderzyć czasem i cześć.\n",
      "SPEAKER_00: Zostawić się.\n",
      "SPEAKER_00:  Niech prosimy się spodziewać, jestem w ogóle, wiesz... Ja mam w ogóle flagi, flagi podwija, to wygląda jakbym nas wypraszała.\n",
      "SPEAKER_00: Cześć!\n",
      "SPEAKER_00: Cześć!\n",
      "SPEAKER_00: Cześć!\n",
      "SPEAKER_00: Cześć!\n",
      "SPEAKER_00: Cześć!\n",
      "SPEAKER_00: Cześć!\n",
      "SPEAKER_00:  Założyć nadzieję, że w pierwszym czasie, że dążym przyjmujemy i nie powiemy niczego.\n",
      "SPEAKER_00:  Można.\n"
     ]
    }
   ],
   "source": [
    "extract_data(result['segments'])"
   ]
  },
  {
   "cell_type": "code",
   "execution_count": 91,
   "metadata": {},
   "outputs": [
    {
     "data": {
      "text/plain": [
       "['__abstractmethods__',\n",
       " '__call__',\n",
       " '__class__',\n",
       " '__delattr__',\n",
       " '__dict__',\n",
       " '__dir__',\n",
       " '__doc__',\n",
       " '__eq__',\n",
       " '__format__',\n",
       " '__ge__',\n",
       " '__getattribute__',\n",
       " '__gt__',\n",
       " '__hash__',\n",
       " '__init__',\n",
       " '__init_subclass__',\n",
       " '__le__',\n",
       " '__lt__',\n",
       " '__module__',\n",
       " '__ne__',\n",
       " '__new__',\n",
       " '__reduce__',\n",
       " '__reduce_ex__',\n",
       " '__repr__',\n",
       " '__setattr__',\n",
       " '__sizeof__',\n",
       " '__slots__',\n",
       " '__str__',\n",
       " '__subclasshook__',\n",
       " '__weakref__',\n",
       " '_abc_impl',\n",
       " '_batch_size',\n",
       " '_ensure_tensor_on_device',\n",
       " '_forward',\n",
       " '_forward_params',\n",
       " '_num_workers',\n",
       " '_postprocess_params',\n",
       " '_preprocess_params',\n",
       " '_sanitize_parameters',\n",
       " '_vad_params',\n",
       " 'call_count',\n",
       " 'check_model_type',\n",
       " 'default_input_names',\n",
       " 'detect_language',\n",
       " 'device',\n",
       " 'device_placement',\n",
       " 'ensure_tensor_on_device',\n",
       " 'forward',\n",
       " 'framework',\n",
       " 'get_inference_context',\n",
       " 'get_iterator',\n",
       " 'iterate',\n",
       " 'model',\n",
       " 'options',\n",
       " 'postprocess',\n",
       " 'predict',\n",
       " 'preprocess',\n",
       " 'preset_language',\n",
       " 'run_multi',\n",
       " 'run_single',\n",
       " 'save_pretrained',\n",
       " 'suppress_numerals',\n",
       " 'tokenizer',\n",
       " 'transcribe',\n",
       " 'transform',\n",
       " 'vad_model']"
      ]
     },
     "execution_count": 91,
     "metadata": {},
     "output_type": "execute_result"
    }
   ],
   "source": [
    "dir(model_base)"
   ]
  },
  {
   "cell_type": "code",
   "execution_count": 103,
   "metadata": {},
   "outputs": [
    {
     "name": "stdout",
     "output_type": "stream",
     "text": [
      "<bound method Pipeline.check_model_type of <whisperx.asr.FasterWhisperPipeline object at 0x0000025589859DE0>>\n"
     ]
    }
   ],
   "source": [
    "print(model_base.check_model_type)"
   ]
  },
  {
   "cell_type": "code",
   "execution_count": 104,
   "metadata": {},
   "outputs": [
    {
     "name": "stdout",
     "output_type": "stream",
     "text": [
      "['af', 'am', 'ar', 'as', 'az', 'ba', 'be', 'bg', 'bn', 'bo', 'br', 'bs', 'ca', 'cs', 'cy', 'da', 'de', 'el', 'en', 'es', 'et', 'eu', 'fa', 'fi', 'fo', 'fr', 'gl', 'gu', 'ha', 'haw', 'he', 'hi', 'hr', 'ht', 'hu', 'hy', 'id', 'is', 'it', 'ja', 'jw', 'ka', 'kk', 'km', 'kn', 'ko', 'la', 'lb', 'ln', 'lo', 'lt', 'lv', 'mg', 'mi', 'mk', 'ml', 'mn', 'mr', 'ms', 'mt', 'my', 'ne', 'nl', 'nn', 'no', 'oc', 'pa', 'pl', 'ps', 'pt', 'ro', 'ru', 'sa', 'sd', 'si', 'sk', 'sl', 'sn', 'so', 'sq', 'sr', 'su', 'sv', 'sw', 'ta', 'te', 'tg', 'th', 'tk', 'tl', 'tr', 'tt', 'uk', 'ur', 'uz', 'vi', 'yi', 'yo', 'zh', 'yue']\n"
     ]
    }
   ],
   "source": [
    "print(model_base.model.supported_languages)"
   ]
  },
  {
   "cell_type": "code",
   "execution_count": 7,
   "metadata": {},
   "outputs": [
    {
     "name": "stderr",
     "output_type": "stream",
     "text": [
      "Lightning automatically upgraded your loaded checkpoint from v1.5.4 to v2.2.1. To apply the upgrade to your files permanently, run `python -m pytorch_lightning.utilities.upgrade_checkpoint C:\\Users\\User\\.cache\\torch\\whisperx-vad-segmentation.bin`\n"
     ]
    },
    {
     "name": "stdout",
     "output_type": "stream",
     "text": [
      "No language specified, language will be first be detected for each audio file (increases inference time).\n",
      "Model was trained with pyannote.audio 0.0.1, yours is 3.1.1. Bad things might happen unless you revert pyannote.audio to 0.x.\n",
      "Model was trained with torch 1.10.0+cu102, yours is 2.2.1+cpu. Bad things might happen unless you revert torch to 1.x.\n",
      "Detected language: en (0.39) in first 30s of audio...\n",
      "[{'text': \" Hello, how are you? I'm fine. How about you? I'm good. Let's talk about Fiverr success. I'm recently created a count on Fiverr, but I have no success and can't get any order from there. So can you please tell me some guidance or some tips from how then I can succeed from there?\", 'start': 0.896, 'end': 22.585}, {'text': \" Okay, before proceeding further, I want to ask you, what niche are you working in? Currently, I am providing my services on data sciences and artificial intelligence. Wow, that's good. Okay, so you are not getting impressions or orders? Both any pressures, I also can't get more impressions and the success rate is also not good.\", 'start': 22.722, 'end': 44.462}, {'text': ' Okay, so I would advise you that you should go for sharing your five-hour profile in your WhatsApp group, Facebook groups. That is the first step. In our next call, I will tell you about the second tip that is all for today. Is it feasible for me or I can attempt some more techniques like... No, for now, just focus on this technique and then I will tell you the more secrets.', 'start': 44.462, 'end': 73.336}, {'text': ' Okay, thank you for guiding me. Thank you, Ahmad. Thank you.', 'start': 73.336, 'end': 79.855}]\n"
     ]
    }
   ],
   "source": [
    "import whisperx\n",
    "import gc\n",
    "\n",
    "device = \"cpu\"\n",
    "audio_file = \"F&H/F&h_english.wav\"\n",
    "batch_size = 8 # reduce if low on GPU mem\n",
    "compute_type = \"int8\" # change to \"int8\" if low on GPU mem (may reduce accuracy)\n",
    "\n",
    "# save model to local path (optional)\n",
    "model_dir = \"C:\\\\Users\\\\User\\\\.cache\\whisper\\\\\"\n",
    "model_large_off = whisperx.load_model(\"base\", device, compute_type=compute_type, download_root=model_dir)\n",
    "\n",
    "audio = whisperx.load_audio(audio_file)\n",
    "off_result = model_large_off.transcribe(audio, batch_size=batch_size)\n",
    "print(off_result[\"segments\"]) # before alignment"
   ]
  },
  {
   "cell_type": "code",
   "execution_count": 4,
   "metadata": {},
   "outputs": [
    {
     "name": "stdout",
     "output_type": "stream",
     "text": [
      " Hello Farhan, how are you? I'm fine, how about you? I'm good. Let's talk about Fiverr success. I recently created an account on Fiverr but I have no success and can't get any order from there. So can you please tell me some guidance or some tips from how then I can succeed from there?\n",
      " Okay, before proceeding further, I want to ask you what niche are you working in? Currently, I am providing my services in data sciences and artificial intelligence. Wow, that's good. Okay, so you are not getting impressions or orders? Both. In impression, I also can't get more impression and the success rate is also not good.\n",
      " okay so i would advise you that you should go for sharing your fire profile in your whatsapp group facebook groups that is the first step in the in our next call i will tell you about the second tip that that is all for today is it feasible for me or or i can attempt some more techniques like no for now just focus on this technique okay and then i will tell you the more secrets\n",
      " Okay, okay. Thanks for guiding me. Thank you, Ahmad. Thank you.\n"
     ]
    }
   ],
   "source": [
    "for segment in off_result['segments']:\n",
    "    print(segment['text'])"
   ]
  },
  {
   "cell_type": "code",
   "execution_count": null,
   "metadata": {},
   "outputs": [],
   "source": [
    "json_data = [{'start': 1.374, 'end': 11.759, 'text': ' السلام علیکم فرن، کیسے ہو؟ آپ خیریت ہو؟ وعلیکم السلام عماد جی، بالکل میں ٹھیک ہوں، آپ بتایا آپ کیسے ہیں؟ چکر لگا، यार मरको नے एक बाइक लेनी है, second hand bike यह हो, जो मनासिब rate में हो, तो इसके बारे में कोई आपका आइडिया है?', 'words': [{'word': 'السلام'}, {'word': 'علیکم'}, {'word': 'فرن،'}, {'word': 'کیسے'}, {'word': 'ہو؟'}, {'word': 'آپ'}, {'word': 'خیریت'}, {'word': 'ہو؟'}, {'word': 'وعلیکم'}, {'word': 'السلام'}, {'word': 'عماد'}, {'word': 'جی،'}, {'word': 'بالکل'}, {'word': 'میں'}, {'word': 'ٹھیک'}, {'word': 'ہوں،'}, {'word': 'آپ'}, {'word': 'بتایا'}, {'word': 'آپ'}, {'word': 'کیسے'}, {'word': 'ہیں؟'}, {'word': 'چکر'}, {'word': 'لگا،'}, {'word': 'यार', 'start': 6.517, 'end': 6.697, 'score': 0.552}, {'word': 'मरको', 'start': 6.797, 'end': 7.037, 'score': 0.431}, {'word': 'नے', 'start': 7.057, 'end': 7.077, 'score': 0.997}, {'word': 'एक', 'start': 7.097, 'end': 7.177, 'score': 0.001}, {'word': 'बाइक', 'start': 7.297, 'end': 7.477, 'score': 0.276}, {'word': 'लेनी', 'start': 7.517, 'end': 7.737, 'score': 0.495}, {'word': 'है,', 'start': 7.797, 'end': 7.937, 'score': 0.556}, {'word': 'second'}, {'word': 'hand'}, {'word': 'bike'}, {'word': 'यह', 'start': 8.418, 'end': 8.678, 'score': 0.014}, {'word': 'हो,', 'start': 8.698, 'end': 8.798, 'score': 0.006}, {'word': 'जो', 'start': 9.298, 'end': 9.578, 'score': 0.202}, {'word': 'मनासिब', 'start': 9.678, 'end': 9.998, 'score': 0.293}, {'word': 'rate'}, {'word': 'में', 'start': 10.038, 'end': 10.279, 'score': 0.056}, {'word': 'हो,', 'start': 10.299, 'end': 10.439, 'score': 0.1}, {'word': 'तो', 'start': 10.479, 'end': 10.519, 'score': 0.223}, {'word': 'इसके', 'start': 10.579, 'end': 10.819, 'score': 0.477}, {'word': 'बारे', 'start': 10.839, 'end': 10.999, 'score': 0.207}, {'word': 'में', 'start': 11.019, 'end': 11.139, 'score': 0.0}, {'word': 'कोई', 'start': 11.159, 'end': 11.219, 'score': 0.001}, {'word': 'आपका', 'start': 11.239, 'end': 11.359, 'score': 0.081}, {'word': 'आइडिया', 'start': 11.379, 'end': 11.619, 'score': 0.352}, {'word': 'है?', 'start': 11.659, 'end': 11.759, 'score': 0.62}]}, {'start': 12.34, 'end': 14.1, 'text': 'जी, बल्कुल आइडिया है, आप कौन सी बाइक लेना चाह', 'words': [{'word': 'जी,', 'start': 12.34, 'end': 12.42, 'score': 0.624}, {'word': 'बल्कुल', 'start': 12.48, 'end': 12.68, 'score': 0.302}, {'word': 'आइडिया', 'start': 12.7, 'end': 12.98, 'score': 0.357}, {'word': 'है,', 'start': 13.0, 'end': 13.04, 'score': 0.0}, {'word': 'आप', 'start': 13.08, 'end': 13.2, 'score': 0.003}, {'word': 'कौन', 'start': 13.3, 'end': 13.44, 'score': 0.177}, {'word': 'सी', 'start': 13.48, 'end': 13.54, 'score': 0.246}, {'word': 'बाइक', 'start': 13.58, 'end': 13.7, 'score': 0.244}, {'word': 'लेना', 'start': 13.76, 'end': 13.92, 'score': 0.287}, {'word': 'चाह', 'start': 14.02, 'end': 14.1, 'score': 0.347}]}, {'start': 43.78, 'end': 55.692, 'text': ' हाँ बस आप पता करें जो आपका जानने बादा है तो मैं उसको फिर देख लूँगा और इंशाला मैं ले लूँगा इरादा तो है मेरा लेने का आप उसको पता करें। ठीक है आप ऐसा करेंगा आप तला आ जाएगी है हमारे आफिस तो हम आपको बाईक दे लेंगे। ठ', 'words': [{'word': 'हाँ', 'start': 43.78, 'end': 44.0, 'score': 0.046}, {'word': 'बस', 'start': 44.04, 'end': 44.18, 'score': 0.435}, {'word': 'आप', 'start': 44.2, 'end': 44.341, 'score': 0.156}, {'word': 'पता', 'start': 44.481, 'end': 44.661, 'score': 0.385}, {'word': 'करें', 'start': 44.741, 'end': 45.462, 'score': 0.187}, {'word': 'जो', 'start': 45.482, 'end': 45.522, 'score': 0.0}, {'word': 'आपका', 'start': 45.562, 'end': 46.182, 'score': 0.0}, {'word': 'जानने', 'start': 46.603, 'end': 46.723, 'score': 0.09}, {'word': 'बादा', 'start': 46.783, 'end': 47.003, 'score': 0.163}, {'word': 'है', 'start': 47.063, 'end': 47.424, 'score': 0.0}, {'word': 'तो', 'start': 47.504, 'end': 47.564, 'score': 0.744}, {'word': 'मैं', 'start': 47.644, 'end': 48.004, 'score': 0.169}, {'word': 'उसको', 'start': 48.445, 'end': 48.825, 'score': 0.399}, {'word': 'फिर', 'start': 48.885, 'end': 48.985, 'score': 0.168}, {'word': 'देख', 'start': 49.145, 'end': 49.325, 'score': 0.466}, {'word': 'लूँगा', 'start': 49.345, 'end': 49.466, 'score': 0.463}, {'word': 'और', 'start': 49.506, 'end': 49.646, 'score': 0.334}, {'word': 'इंशाला', 'start': 49.846, 'end': 50.226, 'score': 0.344}, {'word': 'मैं', 'start': 50.266, 'end': 50.326, 'score': 0.332}, {'word': 'ले', 'start': 50.366, 'end': 50.487, 'score': 0.372}, {'word': 'लूँगा', 'start': 50.507, 'end': 50.747, 'score': 0.255}, {'word': 'इरादा', 'start': 51.067, 'end': 51.347, 'score': 0.312}, {'word': 'तो', 'start': 51.387, 'end': 51.427, 'score': 0.596}, {'word': 'है', 'start': 51.447, 'end': 51.508, 'score': 0.498}, {'word': 'मेरा', 'start': 51.548, 'end': 51.708, 'score': 0.448}, {'word': 'लेने', 'start': 51.748, 'end': 51.908, 'score': 0.575}, {'word': 'का', 'start': 51.948, 'end': 51.988, 'score': 0.974}, {'word': 'आप', 'start': 52.008, 'end': 52.048, 'score': 0.0}, {'word': 'उसको', 'start': 52.068, 'end': 52.148, 'score': 0.0}, {'word': 'पता', 'start': 52.168, 'end': 52.248, 'score': 0.024}, {'word': 'करें।', 'start': 52.288, 'end': 52.368, 'score': 0.246}, {'word': 'ठीक', 'start': 52.388, 'end': 52.448, 'score': 0.0}, {'word': 'है', 'start': 52.468, 'end': 52.529, 'score': 0.0}, {'word': 'आप', 'start': 52.549, 'end': 52.589, 'score': 0.0}, {'word': 'ऐसा', 'start': 52.629, 'end': 52.829, 'score': 0.356}, {'word': 'करेंगा', 'start': 52.869, 'end': 53.009, 'score': 0.133}, {'word': 'आप', 'start': 53.049, 'end': 53.109, 'score': 0.008}, {'word': 'तला', 'start': 53.209, 'end': 53.329, 'score': 0.08}, {'word': 'आ', 'start': 53.369, 'end': 53.429, 'score': 0.303}, {'word': 'जाएगी', 'start': 53.489, 'end': 53.65, 'score': 0.234}, {'word': 'है', 'start': 53.69, 'end': 53.77, 'score': 0.64}, {'word': 'हमारे', 'start': 53.79, 'end': 54.07, 'score': 0.189}, {'word': 'आफिस', 'start': 54.13, 'end': 54.33, 'score': 0.088}, {'word': 'तो', 'start': 54.47, 'end': 54.571, 'score': 0.164}, {'word': 'हम', 'start': 54.591, 'end': 54.671, 'score': 0.0}, {'word': 'आपको', 'start': 54.731, 'end': 54.931, 'score': 0.288}, {'word': 'बाईक', 'start': 54.991, 'end': 55.111, 'score': 0.559}, {'word': 'दे', 'start': 55.171, 'end': 55.251, 'score': 0.474}, {'word': 'लेंगे।', 'start': 55.291, 'end': 55.632, 'score': 0.028}, {'word': 'ठ', 'start': 55.672, 'end': 55.692, 'score': 0.002}]}]\n",
    "\n",
    "print(json_data[0]['words'])\n",
    "print(\"-------------------------------------------------------------\")\n",
    "print(json_data[1]['words'])\n",
    "print(\"-------------------------------------------------------------\")\n",
    "print(json_data[2]['words'])\n",
    "print(\"-------------------------------------------------------------\")"
   ]
  },
  {
   "cell_type": "code",
   "execution_count": 96,
   "metadata": {},
   "outputs": [
    {
     "name": "stdout",
     "output_type": "stream",
     "text": [
      "No language specified, language will be first be detected for each audio file (increases inference time).\n"
     ]
    },
    {
     "name": "stderr",
     "output_type": "stream",
     "text": [
      "Lightning automatically upgraded your loaded checkpoint from v1.5.4 to v2.2.1. To apply the upgrade to your files permanently, run `python -m pytorch_lightning.utilities.upgrade_checkpoint C:\\Users\\User\\.cache\\torch\\whisperx-vad-segmentation.bin`\n"
     ]
    },
    {
     "name": "stdout",
     "output_type": "stream",
     "text": [
      "Model was trained with pyannote.audio 0.0.1, yours is 3.1.1. Bad things might happen unless you revert pyannote.audio to 0.x.\n",
      "Model was trained with torch 1.10.0+cu102, yours is 2.2.1+cpu. Bad things might happen unless you revert torch to 1.x.\n",
      "Detected language: hi (0.55) in first 30s of audio...\n",
      "[{'text': ' السلام علیکم میں حسان بات کر رہا ہوں حبیبی بینک سے میں آپ کو بتانا چاہتا ہوں کہ حبیبی بینک نے ایک نئی credit card scheme شروع کی ہے اگر آپ یہ service مجھ سے دیں گے تو میں کم سے کم charges میں آپ کو credit card service دے سکتا ہوں اس کی details میں آپ کو whatsapp کر دوں گا اور اگر آپ direct bank سے لےنا چاہتے ہیں تو پھر آپ کو یہ service costly پڑے گی', 'start': 0.009, 'end': 24.172}, {'text': ' अभी आप interested हैं तो मुझे बताए मैं ये service आपके number पर अक्टिवेट कर दूँगा या फिर आप मुझसे WhatsApp पर भी रापता कर सकते हैं शुक्रिया', 'start': 24.497, 'end': 33.439}]\n"
     ]
    },
    {
     "name": "stderr",
     "output_type": "stream",
     "text": [
      "Some weights of the model checkpoint at theainerd/Wav2Vec2-large-xlsr-hindi were not used when initializing Wav2Vec2ForCTC: ['wav2vec2.encoder.pos_conv_embed.conv.weight_g', 'wav2vec2.encoder.pos_conv_embed.conv.weight_v']\n",
      "- This IS expected if you are initializing Wav2Vec2ForCTC from the checkpoint of a model trained on another task or with another architecture (e.g. initializing a BertForSequenceClassification model from a BertForPreTraining model).\n",
      "- This IS NOT expected if you are initializing Wav2Vec2ForCTC from the checkpoint of a model that you expect to be exactly identical (initializing a BertForSequenceClassification model from a BertForSequenceClassification model).\n",
      "Some weights of Wav2Vec2ForCTC were not initialized from the model checkpoint at theainerd/Wav2Vec2-large-xlsr-hindi and are newly initialized: ['wav2vec2.encoder.pos_conv_embed.conv.parametrizations.weight.original0', 'wav2vec2.encoder.pos_conv_embed.conv.parametrizations.weight.original1']\n",
      "You should probably TRAIN this model on a down-stream task to be able to use it for predictions and inference.\n"
     ]
    },
    {
     "name": "stdout",
     "output_type": "stream",
     "text": [
      "[{'start': 24.497, 'end': 33.098, 'text': ' अभी आप interested हैं तो मुझे बताए मैं ये service आपके number पर अक्टिवेट कर दूँगा या फिर आप मुझसे WhatsApp पर भी रापता कर सकते हैं शुक्रिया', 'words': [{'word': 'अभी', 'start': 24.497, 'end': 24.838, 'score': 0.439}, {'word': 'आप', 'start': 24.958, 'end': 25.199, 'score': 0.09}, {'word': 'interested'}, {'word': 'हैं', 'start': 25.68, 'end': 25.76, 'score': 0.469}, {'word': 'तो', 'start': 25.8, 'end': 25.9, 'score': 0.409}, {'word': 'मुझे', 'start': 25.941, 'end': 26.141, 'score': 0.554}, {'word': 'बताए', 'start': 26.201, 'end': 26.402, 'score': 0.522}, {'word': 'मैं', 'start': 26.542, 'end': 26.642, 'score': 0.458}, {'word': 'ये', 'start': 26.702, 'end': 26.783, 'score': 0.46}, {'word': 'service'}, {'word': 'आपके', 'start': 27.144, 'end': 27.845, 'score': 0.156}, {'word': 'number'}, {'word': 'पर', 'start': 27.966, 'end': 28.086, 'score': 0.594}, {'word': 'अक्टिवेट', 'start': 28.106, 'end': 28.667, 'score': 0.242}, {'word': 'कर', 'start': 28.747, 'end': 28.868, 'score': 0.354}, {'word': 'दूँगा', 'start': 28.928, 'end': 29.209, 'score': 0.303}, {'word': 'या', 'start': 29.63, 'end': 29.69, 'score': 0.746}, {'word': 'फिर', 'start': 29.77, 'end': 29.91, 'score': 0.171}, {'word': 'आप', 'start': 29.93, 'end': 30.051, 'score': 0.045}, {'word': 'मुझसे', 'start': 30.091, 'end': 30.552, 'score': 0.261}, {'word': 'WhatsApp'}, {'word': 'पर', 'start': 31.033, 'end': 31.133, 'score': 0.622}, {'word': 'भी', 'start': 31.234, 'end': 31.314, 'score': 0.491}, {'word': 'रापता', 'start': 31.374, 'end': 31.655, 'score': 0.296}, {'word': 'कर', 'start': 31.735, 'end': 31.815, 'score': 0.25}, {'word': 'सकते', 'start': 31.895, 'end': 32.136, 'score': 0.532}, {'word': 'हैं', 'start': 32.196, 'end': 32.316, 'score': 0.664}, {'word': 'शुक्रिया', 'start': 32.737, 'end': 33.098, 'score': 0.527}]}]\n",
      "                             segment label     speaker     start        end  \\\n",
      "0  [ 00:00:00.466 -->  00:00:33.404]     A  SPEAKER_00  0.466893  33.404075   \n",
      "\n",
      "   intersection      union  \n",
      "0         0.361  32.937182  \n",
      "[{'start': 24.497, 'end': 33.098, 'text': ' अभी आप interested हैं तो मुझे बताए मैं ये service आपके number पर अक्टिवेट कर दूँगा या फिर आप मुझसे WhatsApp पर भी रापता कर सकते हैं शुक्रिया', 'words': [{'word': 'अभी', 'start': 24.497, 'end': 24.838, 'score': 0.439, 'speaker': 'SPEAKER_00'}, {'word': 'आप', 'start': 24.958, 'end': 25.199, 'score': 0.09, 'speaker': 'SPEAKER_00'}, {'word': 'interested'}, {'word': 'हैं', 'start': 25.68, 'end': 25.76, 'score': 0.469, 'speaker': 'SPEAKER_00'}, {'word': 'तो', 'start': 25.8, 'end': 25.9, 'score': 0.409, 'speaker': 'SPEAKER_00'}, {'word': 'मुझे', 'start': 25.941, 'end': 26.141, 'score': 0.554, 'speaker': 'SPEAKER_00'}, {'word': 'बताए', 'start': 26.201, 'end': 26.402, 'score': 0.522, 'speaker': 'SPEAKER_00'}, {'word': 'मैं', 'start': 26.542, 'end': 26.642, 'score': 0.458, 'speaker': 'SPEAKER_00'}, {'word': 'ये', 'start': 26.702, 'end': 26.783, 'score': 0.46, 'speaker': 'SPEAKER_00'}, {'word': 'service'}, {'word': 'आपके', 'start': 27.144, 'end': 27.845, 'score': 0.156, 'speaker': 'SPEAKER_00'}, {'word': 'number'}, {'word': 'पर', 'start': 27.966, 'end': 28.086, 'score': 0.594, 'speaker': 'SPEAKER_00'}, {'word': 'अक्टिवेट', 'start': 28.106, 'end': 28.667, 'score': 0.242, 'speaker': 'SPEAKER_00'}, {'word': 'कर', 'start': 28.747, 'end': 28.868, 'score': 0.354, 'speaker': 'SPEAKER_00'}, {'word': 'दूँगा', 'start': 28.928, 'end': 29.209, 'score': 0.303, 'speaker': 'SPEAKER_00'}, {'word': 'या', 'start': 29.63, 'end': 29.69, 'score': 0.746, 'speaker': 'SPEAKER_00'}, {'word': 'फिर', 'start': 29.77, 'end': 29.91, 'score': 0.171, 'speaker': 'SPEAKER_00'}, {'word': 'आप', 'start': 29.93, 'end': 30.051, 'score': 0.045, 'speaker': 'SPEAKER_00'}, {'word': 'मुझसे', 'start': 30.091, 'end': 30.552, 'score': 0.261, 'speaker': 'SPEAKER_00'}, {'word': 'WhatsApp'}, {'word': 'पर', 'start': 31.033, 'end': 31.133, 'score': 0.622, 'speaker': 'SPEAKER_00'}, {'word': 'भी', 'start': 31.234, 'end': 31.314, 'score': 0.491, 'speaker': 'SPEAKER_00'}, {'word': 'रापता', 'start': 31.374, 'end': 31.655, 'score': 0.296, 'speaker': 'SPEAKER_00'}, {'word': 'कर', 'start': 31.735, 'end': 31.815, 'score': 0.25, 'speaker': 'SPEAKER_00'}, {'word': 'सकते', 'start': 31.895, 'end': 32.136, 'score': 0.532, 'speaker': 'SPEAKER_00'}, {'word': 'हैं', 'start': 32.196, 'end': 32.316, 'score': 0.664, 'speaker': 'SPEAKER_00'}, {'word': 'शुक्रिया', 'start': 32.737, 'end': 33.098, 'score': 0.527, 'speaker': 'SPEAKER_00'}], 'speaker': 'SPEAKER_00'}]\n"
     ]
    }
   ],
   "source": [
    "import whisperx\n",
    "import gc\n",
    "\n",
    "device = \"cpu\"\n",
    "audio_file = \"hassan_urdu_neg3.wav\"\n",
    "batch_size = 4 # reduce if low on GPU mem\n",
    "compute_type = \"int8\" # change to \"int8\" if low on GPU mem (may reduce accuracy)\n",
    "\n",
    "# 1. Transcribe with original whisper (batched)\n",
    "# model_base = whisperx.load_model(\"large-v2\", device, compute_type=compute_type)\n",
    "\n",
    "# save model to local path (optional)\n",
    "model_dir = \"C:\\\\Users\\\\User\\\\.cache\\\\huggingface\\\\hub\\\\models--jonatasgrosman--wav2vec2-large-xlsr-53-polish\\\\snapshots\\\\6b1cea36bd8bc5f65ec8081667cd9c0207d51970\\\\\"\n",
    "model_large = whisperx.load_model(\"large-v2\", device, compute_type=compute_type, download_root=model_dir)\n",
    "\n",
    "audio = whisperx.load_audio(audio_file)\n",
    "result = model_base.transcribe(audio, batch_size=batch_size)\n",
    "print(result[\"segments\"]) # before alignment\n",
    "\n",
    "# delete model if low on GPU resources\n",
    "# import gc; gc.collect(); torch.cuda.empty_cache(); del model\n",
    "\n",
    "# 2. Align whisper output\n",
    "model_a, metadata = whisperx.load_align_model(language_code=result[\"language\"], device=device)\n",
    "result = whisperx.align(result[\"segments\"], model_a, metadata, audio, device, return_char_alignments=False)\n",
    "\n",
    "print(result[\"segments\"]) # after alignment\n",
    "\n",
    "# delete model if low on GPU resources\n",
    "# import gc; gc.collect(); torch.cuda.empty_cache(); del model_a\n",
    "\n",
    "# 3. Assign speaker labels\n",
    "diarize_model = whisperx.DiarizationPipeline(use_auth_token=write_api_key, device=device)\n",
    "\n",
    "# add min/max number of speakers if known\n",
    "diarize_segments = diarize_model(audio)\n",
    "# diarize_model(audio, min_speakers=min_speakers, max_speakers=max_speakers)\n",
    "\n",
    "result = whisperx.assign_word_speakers(diarize_segments, result)\n",
    "print(diarize_segments)\n",
    "print(result[\"segments\"]) # segments are now assigned speaker IDs"
   ]
  },
  {
   "cell_type": "code",
   "execution_count": 97,
   "metadata": {},
   "outputs": [
    {
     "name": "stdout",
     "output_type": "stream",
     "text": [
      "SPEAKER_00:  अभी आप interested हैं तो मुझे बताए मैं ये service आपके number पर अक्टिवेट कर दूँगा या फिर आप मुझसे WhatsApp पर भी रापता कर सकते हैं शुक्रिया\n"
     ]
    }
   ],
   "source": [
    "extract_data(result['segments'])"
   ]
  },
  {
   "cell_type": "code",
   "execution_count": 99,
   "metadata": {},
   "outputs": [
    {
     "ename": "OSError",
     "evalue": "[Errno 28] No space left on device",
     "output_type": "error",
     "traceback": [
      "\u001b[1;31m---------------------------------------------------------------------------\u001b[0m",
      "\u001b[1;31mOSError\u001b[0m                                   Traceback (most recent call last)",
      "Cell \u001b[1;32mIn[99], line 14\u001b[0m\n\u001b[0;32m      9\u001b[0m \u001b[38;5;66;03m# 1. Transcribe with original whisper (batched)\u001b[39;00m\n\u001b[0;32m     10\u001b[0m \u001b[38;5;66;03m# model_base = whisperx.load_model(\"large-v2\", device, compute_type=compute_type)\u001b[39;00m\n\u001b[0;32m     11\u001b[0m \n\u001b[0;32m     12\u001b[0m \u001b[38;5;66;03m# save model to local path (optional)\u001b[39;00m\n\u001b[0;32m     13\u001b[0m model_dir \u001b[38;5;241m=\u001b[39m \u001b[38;5;124m\"\u001b[39m\u001b[38;5;124mC:\u001b[39m\u001b[38;5;130;01m\\\\\u001b[39;00m\u001b[38;5;124mUsers\u001b[39m\u001b[38;5;130;01m\\\\\u001b[39;00m\u001b[38;5;124mUser\u001b[39m\u001b[38;5;130;01m\\\\\u001b[39;00m\u001b[38;5;124m.cache\u001b[39m\u001b[38;5;130;01m\\\\\u001b[39;00m\u001b[38;5;124mhuggingface\u001b[39m\u001b[38;5;130;01m\\\\\u001b[39;00m\u001b[38;5;124mhub\u001b[39m\u001b[38;5;130;01m\\\\\u001b[39;00m\u001b[38;5;124mmodels--Systran--faster-whisper-large-v2\u001b[39m\u001b[38;5;130;01m\\\\\u001b[39;00m\u001b[38;5;124msnapshots\u001b[39m\u001b[38;5;130;01m\\\\\u001b[39;00m\u001b[38;5;124mf0fe81560cb8b68660e564f55dd99207059c092e\u001b[39m\u001b[38;5;130;01m\\\\\u001b[39;00m\u001b[38;5;124m\"\u001b[39m\n\u001b[1;32m---> 14\u001b[0m model_large \u001b[38;5;241m=\u001b[39m \u001b[43mwhisperx\u001b[49m\u001b[38;5;241;43m.\u001b[39;49m\u001b[43mload_model\u001b[49m\u001b[43m(\u001b[49m\u001b[38;5;124;43m\"\u001b[39;49m\u001b[38;5;124;43mlarge-v2\u001b[39;49m\u001b[38;5;124;43m\"\u001b[39;49m\u001b[43m,\u001b[49m\u001b[43m \u001b[49m\u001b[43mdevice\u001b[49m\u001b[43m,\u001b[49m\u001b[43m \u001b[49m\u001b[43mcompute_type\u001b[49m\u001b[38;5;241;43m=\u001b[39;49m\u001b[43mcompute_type\u001b[49m\u001b[43m,\u001b[49m\u001b[43m \u001b[49m\u001b[43mdownload_root\u001b[49m\u001b[38;5;241;43m=\u001b[39;49m\u001b[43mmodel_dir\u001b[49m\u001b[43m)\u001b[49m\n\u001b[0;32m     16\u001b[0m audio \u001b[38;5;241m=\u001b[39m whisperx\u001b[38;5;241m.\u001b[39mload_audio(audio_file)\n\u001b[0;32m     17\u001b[0m result \u001b[38;5;241m=\u001b[39m model_base\u001b[38;5;241m.\u001b[39mtranscribe(audio, batch_size\u001b[38;5;241m=\u001b[39mbatch_size)\n",
      "File \u001b[1;32mE:\\Habibi\\New_whisperX\\whisperX\\whisperx\\asr.py:288\u001b[0m, in \u001b[0;36mload_model\u001b[1;34m(whisper_arch, device, device_index, compute_type, asr_options, language, vad_model, vad_options, model, task, download_root, threads)\u001b[0m\n\u001b[0;32m    285\u001b[0m \u001b[38;5;28;01mif\u001b[39;00m whisper_arch\u001b[38;5;241m.\u001b[39mendswith(\u001b[38;5;124m\"\u001b[39m\u001b[38;5;124m.en\u001b[39m\u001b[38;5;124m\"\u001b[39m):\n\u001b[0;32m    286\u001b[0m     language \u001b[38;5;241m=\u001b[39m \u001b[38;5;124m\"\u001b[39m\u001b[38;5;124men\u001b[39m\u001b[38;5;124m\"\u001b[39m\n\u001b[1;32m--> 288\u001b[0m model \u001b[38;5;241m=\u001b[39m model \u001b[38;5;129;01mor\u001b[39;00m \u001b[43mWhisperModel\u001b[49m\u001b[43m(\u001b[49m\u001b[43mwhisper_arch\u001b[49m\u001b[43m,\u001b[49m\n\u001b[0;32m    289\u001b[0m \u001b[43m                     \u001b[49m\u001b[43mdevice\u001b[49m\u001b[38;5;241;43m=\u001b[39;49m\u001b[43mdevice\u001b[49m\u001b[43m,\u001b[49m\n\u001b[0;32m    290\u001b[0m \u001b[43m                     \u001b[49m\u001b[43mdevice_index\u001b[49m\u001b[38;5;241;43m=\u001b[39;49m\u001b[43mdevice_index\u001b[49m\u001b[43m,\u001b[49m\n\u001b[0;32m    291\u001b[0m \u001b[43m                     \u001b[49m\u001b[43mcompute_type\u001b[49m\u001b[38;5;241;43m=\u001b[39;49m\u001b[43mcompute_type\u001b[49m\u001b[43m,\u001b[49m\n\u001b[0;32m    292\u001b[0m \u001b[43m                     \u001b[49m\u001b[43mdownload_root\u001b[49m\u001b[38;5;241;43m=\u001b[39;49m\u001b[43mdownload_root\u001b[49m\u001b[43m,\u001b[49m\n\u001b[0;32m    293\u001b[0m \u001b[43m                     \u001b[49m\u001b[43mcpu_threads\u001b[49m\u001b[38;5;241;43m=\u001b[39;49m\u001b[43mthreads\u001b[49m\u001b[43m)\u001b[49m\n\u001b[0;32m    294\u001b[0m \u001b[38;5;28;01mif\u001b[39;00m language \u001b[38;5;129;01mis\u001b[39;00m \u001b[38;5;129;01mnot\u001b[39;00m \u001b[38;5;28;01mNone\u001b[39;00m:\n\u001b[0;32m    295\u001b[0m     tokenizer \u001b[38;5;241m=\u001b[39m faster_whisper\u001b[38;5;241m.\u001b[39mtokenizer\u001b[38;5;241m.\u001b[39mTokenizer(model\u001b[38;5;241m.\u001b[39mhf_tokenizer, model\u001b[38;5;241m.\u001b[39mmodel\u001b[38;5;241m.\u001b[39mis_multilingual, task\u001b[38;5;241m=\u001b[39mtask, language\u001b[38;5;241m=\u001b[39mlanguage)\n",
      "File \u001b[1;32me:\\Habibi\\New_whisperX\\.venv\\lib\\site-packages\\faster_whisper\\transcribe.py:127\u001b[0m, in \u001b[0;36mWhisperModel.__init__\u001b[1;34m(self, model_size_or_path, device, device_index, compute_type, cpu_threads, num_workers, download_root, local_files_only)\u001b[0m\n\u001b[0;32m    125\u001b[0m     model_path \u001b[38;5;241m=\u001b[39m model_size_or_path\n\u001b[0;32m    126\u001b[0m \u001b[38;5;28;01melse\u001b[39;00m:\n\u001b[1;32m--> 127\u001b[0m     model_path \u001b[38;5;241m=\u001b[39m \u001b[43mdownload_model\u001b[49m\u001b[43m(\u001b[49m\n\u001b[0;32m    128\u001b[0m \u001b[43m        \u001b[49m\u001b[43mmodel_size_or_path\u001b[49m\u001b[43m,\u001b[49m\n\u001b[0;32m    129\u001b[0m \u001b[43m        \u001b[49m\u001b[43mlocal_files_only\u001b[49m\u001b[38;5;241;43m=\u001b[39;49m\u001b[43mlocal_files_only\u001b[49m\u001b[43m,\u001b[49m\n\u001b[0;32m    130\u001b[0m \u001b[43m        \u001b[49m\u001b[43mcache_dir\u001b[49m\u001b[38;5;241;43m=\u001b[39;49m\u001b[43mdownload_root\u001b[49m\u001b[43m,\u001b[49m\n\u001b[0;32m    131\u001b[0m \u001b[43m    \u001b[49m\u001b[43m)\u001b[49m\n\u001b[0;32m    133\u001b[0m \u001b[38;5;28mself\u001b[39m\u001b[38;5;241m.\u001b[39mmodel \u001b[38;5;241m=\u001b[39m ctranslate2\u001b[38;5;241m.\u001b[39mmodels\u001b[38;5;241m.\u001b[39mWhisper(\n\u001b[0;32m    134\u001b[0m     model_path,\n\u001b[0;32m    135\u001b[0m     device\u001b[38;5;241m=\u001b[39mdevice,\n\u001b[1;32m   (...)\u001b[0m\n\u001b[0;32m    139\u001b[0m     inter_threads\u001b[38;5;241m=\u001b[39mnum_workers,\n\u001b[0;32m    140\u001b[0m )\n\u001b[0;32m    142\u001b[0m tokenizer_file \u001b[38;5;241m=\u001b[39m os\u001b[38;5;241m.\u001b[39mpath\u001b[38;5;241m.\u001b[39mjoin(model_path, \u001b[38;5;124m\"\u001b[39m\u001b[38;5;124mtokenizer.json\u001b[39m\u001b[38;5;124m\"\u001b[39m)\n",
      "File \u001b[1;32me:\\Habibi\\New_whisperX\\.venv\\lib\\site-packages\\faster_whisper\\utils.py:103\u001b[0m, in \u001b[0;36mdownload_model\u001b[1;34m(size_or_id, output_dir, local_files_only, cache_dir)\u001b[0m\n\u001b[0;32m    100\u001b[0m     kwargs[\u001b[38;5;124m\"\u001b[39m\u001b[38;5;124mcache_dir\u001b[39m\u001b[38;5;124m\"\u001b[39m] \u001b[38;5;241m=\u001b[39m cache_dir\n\u001b[0;32m    102\u001b[0m \u001b[38;5;28;01mtry\u001b[39;00m:\n\u001b[1;32m--> 103\u001b[0m     \u001b[38;5;28;01mreturn\u001b[39;00m huggingface_hub\u001b[38;5;241m.\u001b[39msnapshot_download(repo_id, \u001b[38;5;241m*\u001b[39m\u001b[38;5;241m*\u001b[39mkwargs)\n\u001b[0;32m    104\u001b[0m \u001b[38;5;28;01mexcept\u001b[39;00m (\n\u001b[0;32m    105\u001b[0m     huggingface_hub\u001b[38;5;241m.\u001b[39mutils\u001b[38;5;241m.\u001b[39mHfHubHTTPError,\n\u001b[0;32m    106\u001b[0m     requests\u001b[38;5;241m.\u001b[39mexceptions\u001b[38;5;241m.\u001b[39mConnectionError,\n\u001b[0;32m    107\u001b[0m ) \u001b[38;5;28;01mas\u001b[39;00m exception:\n\u001b[0;32m    108\u001b[0m     logger \u001b[38;5;241m=\u001b[39m get_logger()\n",
      "File \u001b[1;32me:\\Habibi\\New_whisperX\\.venv\\lib\\site-packages\\huggingface_hub\\utils\\_validators.py:118\u001b[0m, in \u001b[0;36mvalidate_hf_hub_args.<locals>._inner_fn\u001b[1;34m(*args, **kwargs)\u001b[0m\n\u001b[0;32m    115\u001b[0m \u001b[38;5;28;01mif\u001b[39;00m check_use_auth_token:\n\u001b[0;32m    116\u001b[0m     kwargs \u001b[38;5;241m=\u001b[39m smoothly_deprecate_use_auth_token(fn_name\u001b[38;5;241m=\u001b[39mfn\u001b[38;5;241m.\u001b[39m\u001b[38;5;18m__name__\u001b[39m, has_token\u001b[38;5;241m=\u001b[39mhas_token, kwargs\u001b[38;5;241m=\u001b[39mkwargs)\n\u001b[1;32m--> 118\u001b[0m \u001b[38;5;28;01mreturn\u001b[39;00m fn(\u001b[38;5;241m*\u001b[39margs, \u001b[38;5;241m*\u001b[39m\u001b[38;5;241m*\u001b[39mkwargs)\n",
      "File \u001b[1;32me:\\Habibi\\New_whisperX\\.venv\\lib\\site-packages\\huggingface_hub\\_snapshot_download.py:308\u001b[0m, in \u001b[0;36msnapshot_download\u001b[1;34m(repo_id, repo_type, revision, cache_dir, local_dir, local_dir_use_symlinks, library_name, library_version, user_agent, proxies, etag_timeout, resume_download, force_download, token, local_files_only, allow_patterns, ignore_patterns, max_workers, tqdm_class, endpoint)\u001b[0m\n\u001b[0;32m    306\u001b[0m         _inner_hf_hub_download(file)\n\u001b[0;32m    307\u001b[0m \u001b[38;5;28;01melse\u001b[39;00m:\n\u001b[1;32m--> 308\u001b[0m     \u001b[43mthread_map\u001b[49m\u001b[43m(\u001b[49m\n\u001b[0;32m    309\u001b[0m \u001b[43m        \u001b[49m\u001b[43m_inner_hf_hub_download\u001b[49m\u001b[43m,\u001b[49m\n\u001b[0;32m    310\u001b[0m \u001b[43m        \u001b[49m\u001b[43mfiltered_repo_files\u001b[49m\u001b[43m,\u001b[49m\n\u001b[0;32m    311\u001b[0m \u001b[43m        \u001b[49m\u001b[43mdesc\u001b[49m\u001b[38;5;241;43m=\u001b[39;49m\u001b[38;5;124;43mf\u001b[39;49m\u001b[38;5;124;43m\"\u001b[39;49m\u001b[38;5;124;43mFetching \u001b[39;49m\u001b[38;5;132;43;01m{\u001b[39;49;00m\u001b[38;5;28;43mlen\u001b[39;49m\u001b[43m(\u001b[49m\u001b[43mfiltered_repo_files\u001b[49m\u001b[43m)\u001b[49m\u001b[38;5;132;43;01m}\u001b[39;49;00m\u001b[38;5;124;43m files\u001b[39;49m\u001b[38;5;124;43m\"\u001b[39;49m\u001b[43m,\u001b[49m\n\u001b[0;32m    312\u001b[0m \u001b[43m        \u001b[49m\u001b[43mmax_workers\u001b[49m\u001b[38;5;241;43m=\u001b[39;49m\u001b[43mmax_workers\u001b[49m\u001b[43m,\u001b[49m\n\u001b[0;32m    313\u001b[0m \u001b[43m        \u001b[49m\u001b[38;5;66;43;03m# User can use its own tqdm class or the default one from `huggingface_hub.utils`\u001b[39;49;00m\n\u001b[0;32m    314\u001b[0m \u001b[43m        \u001b[49m\u001b[43mtqdm_class\u001b[49m\u001b[38;5;241;43m=\u001b[39;49m\u001b[43mtqdm_class\u001b[49m\u001b[43m \u001b[49m\u001b[38;5;129;43;01mor\u001b[39;49;00m\u001b[43m \u001b[49m\u001b[43mhf_tqdm\u001b[49m\u001b[43m,\u001b[49m\n\u001b[0;32m    315\u001b[0m \u001b[43m    \u001b[49m\u001b[43m)\u001b[49m\n\u001b[0;32m    317\u001b[0m \u001b[38;5;28;01mif\u001b[39;00m local_dir \u001b[38;5;129;01mis\u001b[39;00m \u001b[38;5;129;01mnot\u001b[39;00m \u001b[38;5;28;01mNone\u001b[39;00m:\n\u001b[0;32m    318\u001b[0m     \u001b[38;5;28;01mreturn\u001b[39;00m \u001b[38;5;28mstr\u001b[39m(os\u001b[38;5;241m.\u001b[39mpath\u001b[38;5;241m.\u001b[39mrealpath(local_dir))\n",
      "File \u001b[1;32me:\\Habibi\\New_whisperX\\.venv\\lib\\site-packages\\tqdm\\contrib\\concurrent.py:69\u001b[0m, in \u001b[0;36mthread_map\u001b[1;34m(fn, *iterables, **tqdm_kwargs)\u001b[0m\n\u001b[0;32m     55\u001b[0m \u001b[38;5;250m\u001b[39m\u001b[38;5;124;03m\"\"\"\u001b[39;00m\n\u001b[0;32m     56\u001b[0m \u001b[38;5;124;03mEquivalent of `list(map(fn, *iterables))`\u001b[39;00m\n\u001b[0;32m     57\u001b[0m \u001b[38;5;124;03mdriven by `concurrent.futures.ThreadPoolExecutor`.\u001b[39;00m\n\u001b[1;32m   (...)\u001b[0m\n\u001b[0;32m     66\u001b[0m \u001b[38;5;124;03m    [default: max(32, cpu_count() + 4)].\u001b[39;00m\n\u001b[0;32m     67\u001b[0m \u001b[38;5;124;03m\"\"\"\u001b[39;00m\n\u001b[0;32m     68\u001b[0m \u001b[38;5;28;01mfrom\u001b[39;00m \u001b[38;5;21;01mconcurrent\u001b[39;00m\u001b[38;5;21;01m.\u001b[39;00m\u001b[38;5;21;01mfutures\u001b[39;00m \u001b[38;5;28;01mimport\u001b[39;00m ThreadPoolExecutor\n\u001b[1;32m---> 69\u001b[0m \u001b[38;5;28;01mreturn\u001b[39;00m _executor_map(ThreadPoolExecutor, fn, \u001b[38;5;241m*\u001b[39miterables, \u001b[38;5;241m*\u001b[39m\u001b[38;5;241m*\u001b[39mtqdm_kwargs)\n",
      "File \u001b[1;32me:\\Habibi\\New_whisperX\\.venv\\lib\\site-packages\\tqdm\\contrib\\concurrent.py:51\u001b[0m, in \u001b[0;36m_executor_map\u001b[1;34m(PoolExecutor, fn, *iterables, **tqdm_kwargs)\u001b[0m\n\u001b[0;32m     47\u001b[0m \u001b[38;5;28;01mwith\u001b[39;00m ensure_lock(tqdm_class, lock_name\u001b[38;5;241m=\u001b[39mlock_name) \u001b[38;5;28;01mas\u001b[39;00m lk:\n\u001b[0;32m     48\u001b[0m     \u001b[38;5;66;03m# share lock in case workers are already using `tqdm`\u001b[39;00m\n\u001b[0;32m     49\u001b[0m     \u001b[38;5;28;01mwith\u001b[39;00m PoolExecutor(max_workers\u001b[38;5;241m=\u001b[39mmax_workers, initializer\u001b[38;5;241m=\u001b[39mtqdm_class\u001b[38;5;241m.\u001b[39mset_lock,\n\u001b[0;32m     50\u001b[0m                       initargs\u001b[38;5;241m=\u001b[39m(lk,)) \u001b[38;5;28;01mas\u001b[39;00m ex:\n\u001b[1;32m---> 51\u001b[0m         \u001b[38;5;28;01mreturn\u001b[39;00m \u001b[38;5;28;43mlist\u001b[39;49m\u001b[43m(\u001b[49m\u001b[43mtqdm_class\u001b[49m\u001b[43m(\u001b[49m\u001b[43mex\u001b[49m\u001b[38;5;241;43m.\u001b[39;49m\u001b[43mmap\u001b[49m\u001b[43m(\u001b[49m\u001b[43mfn\u001b[49m\u001b[43m,\u001b[49m\u001b[43m \u001b[49m\u001b[38;5;241;43m*\u001b[39;49m\u001b[43miterables\u001b[49m\u001b[43m,\u001b[49m\u001b[43m \u001b[49m\u001b[43mchunksize\u001b[49m\u001b[38;5;241;43m=\u001b[39;49m\u001b[43mchunksize\u001b[49m\u001b[43m)\u001b[49m\u001b[43m,\u001b[49m\u001b[43m \u001b[49m\u001b[38;5;241;43m*\u001b[39;49m\u001b[38;5;241;43m*\u001b[39;49m\u001b[43mkwargs\u001b[49m\u001b[43m)\u001b[49m\u001b[43m)\u001b[49m\n",
      "File \u001b[1;32me:\\Habibi\\New_whisperX\\.venv\\lib\\site-packages\\tqdm\\std.py:1169\u001b[0m, in \u001b[0;36mtqdm.__iter__\u001b[1;34m(self)\u001b[0m\n\u001b[0;32m   1166\u001b[0m \u001b[38;5;66;03m# If the bar is disabled, then just walk the iterable\u001b[39;00m\n\u001b[0;32m   1167\u001b[0m \u001b[38;5;66;03m# (note: keep this check outside the loop for performance)\u001b[39;00m\n\u001b[0;32m   1168\u001b[0m \u001b[38;5;28;01mif\u001b[39;00m \u001b[38;5;28mself\u001b[39m\u001b[38;5;241m.\u001b[39mdisable:\n\u001b[1;32m-> 1169\u001b[0m     \u001b[38;5;28;01mfor\u001b[39;00m obj \u001b[38;5;129;01min\u001b[39;00m iterable:\n\u001b[0;32m   1170\u001b[0m         \u001b[38;5;28;01myield\u001b[39;00m obj\n\u001b[0;32m   1171\u001b[0m     \u001b[38;5;28;01mreturn\u001b[39;00m\n",
      "File \u001b[1;32m~\\AppData\\Local\\Programs\\Python\\Python310\\lib\\concurrent\\futures\\_base.py:608\u001b[0m, in \u001b[0;36mExecutor.map.<locals>.result_iterator\u001b[1;34m()\u001b[0m\n\u001b[0;32m    605\u001b[0m \u001b[38;5;28;01mwhile\u001b[39;00m fs:\n\u001b[0;32m    606\u001b[0m     \u001b[38;5;66;03m# Careful not to keep a reference to the popped future\u001b[39;00m\n\u001b[0;32m    607\u001b[0m     \u001b[38;5;28;01mif\u001b[39;00m timeout \u001b[38;5;129;01mis\u001b[39;00m \u001b[38;5;28;01mNone\u001b[39;00m:\n\u001b[1;32m--> 608\u001b[0m         \u001b[38;5;28;01myield\u001b[39;00m \u001b[43mfs\u001b[49m\u001b[38;5;241;43m.\u001b[39;49m\u001b[43mpop\u001b[49m\u001b[43m(\u001b[49m\u001b[43m)\u001b[49m\u001b[38;5;241;43m.\u001b[39;49m\u001b[43mresult\u001b[49m\u001b[43m(\u001b[49m\u001b[43m)\u001b[49m\n\u001b[0;32m    609\u001b[0m     \u001b[38;5;28;01melse\u001b[39;00m:\n\u001b[0;32m    610\u001b[0m         \u001b[38;5;28;01myield\u001b[39;00m fs\u001b[38;5;241m.\u001b[39mpop()\u001b[38;5;241m.\u001b[39mresult(end_time \u001b[38;5;241m-\u001b[39m time\u001b[38;5;241m.\u001b[39mmonotonic())\n",
      "File \u001b[1;32m~\\AppData\\Local\\Programs\\Python\\Python310\\lib\\concurrent\\futures\\_base.py:445\u001b[0m, in \u001b[0;36mFuture.result\u001b[1;34m(self, timeout)\u001b[0m\n\u001b[0;32m    443\u001b[0m     \u001b[38;5;28;01mraise\u001b[39;00m CancelledError()\n\u001b[0;32m    444\u001b[0m \u001b[38;5;28;01melif\u001b[39;00m \u001b[38;5;28mself\u001b[39m\u001b[38;5;241m.\u001b[39m_state \u001b[38;5;241m==\u001b[39m FINISHED:\n\u001b[1;32m--> 445\u001b[0m     \u001b[38;5;28;01mreturn\u001b[39;00m \u001b[38;5;28;43mself\u001b[39;49m\u001b[38;5;241;43m.\u001b[39;49m\u001b[43m__get_result\u001b[49m\u001b[43m(\u001b[49m\u001b[43m)\u001b[49m\n\u001b[0;32m    446\u001b[0m \u001b[38;5;28;01melse\u001b[39;00m:\n\u001b[0;32m    447\u001b[0m     \u001b[38;5;28;01mraise\u001b[39;00m \u001b[38;5;167;01mTimeoutError\u001b[39;00m()\n",
      "File \u001b[1;32m~\\AppData\\Local\\Programs\\Python\\Python310\\lib\\concurrent\\futures\\_base.py:390\u001b[0m, in \u001b[0;36mFuture.__get_result\u001b[1;34m(self)\u001b[0m\n\u001b[0;32m    388\u001b[0m \u001b[38;5;28;01mif\u001b[39;00m \u001b[38;5;28mself\u001b[39m\u001b[38;5;241m.\u001b[39m_exception:\n\u001b[0;32m    389\u001b[0m     \u001b[38;5;28;01mtry\u001b[39;00m:\n\u001b[1;32m--> 390\u001b[0m         \u001b[38;5;28;01mraise\u001b[39;00m \u001b[38;5;28mself\u001b[39m\u001b[38;5;241m.\u001b[39m_exception\n\u001b[0;32m    391\u001b[0m     \u001b[38;5;28;01mfinally\u001b[39;00m:\n\u001b[0;32m    392\u001b[0m         \u001b[38;5;66;03m# Break a reference cycle with the exception in self._exception\u001b[39;00m\n\u001b[0;32m    393\u001b[0m         \u001b[38;5;28mself\u001b[39m \u001b[38;5;241m=\u001b[39m \u001b[38;5;28;01mNone\u001b[39;00m\n",
      "File \u001b[1;32m~\\AppData\\Local\\Programs\\Python\\Python310\\lib\\concurrent\\futures\\thread.py:52\u001b[0m, in \u001b[0;36m_WorkItem.run\u001b[1;34m(self)\u001b[0m\n\u001b[0;32m     49\u001b[0m     \u001b[38;5;28;01mreturn\u001b[39;00m\n\u001b[0;32m     51\u001b[0m \u001b[38;5;28;01mtry\u001b[39;00m:\n\u001b[1;32m---> 52\u001b[0m     result \u001b[38;5;241m=\u001b[39m \u001b[38;5;28mself\u001b[39m\u001b[38;5;241m.\u001b[39mfn(\u001b[38;5;241m*\u001b[39m\u001b[38;5;28mself\u001b[39m\u001b[38;5;241m.\u001b[39margs, \u001b[38;5;241m*\u001b[39m\u001b[38;5;241m*\u001b[39m\u001b[38;5;28mself\u001b[39m\u001b[38;5;241m.\u001b[39mkwargs)\n\u001b[0;32m     53\u001b[0m \u001b[38;5;28;01mexcept\u001b[39;00m \u001b[38;5;167;01mBaseException\u001b[39;00m \u001b[38;5;28;01mas\u001b[39;00m exc:\n\u001b[0;32m     54\u001b[0m     \u001b[38;5;28mself\u001b[39m\u001b[38;5;241m.\u001b[39mfuture\u001b[38;5;241m.\u001b[39mset_exception(exc)\n",
      "File \u001b[1;32me:\\Habibi\\New_whisperX\\.venv\\lib\\site-packages\\huggingface_hub\\_snapshot_download.py:283\u001b[0m, in \u001b[0;36msnapshot_download.<locals>._inner_hf_hub_download\u001b[1;34m(repo_file)\u001b[0m\n\u001b[0;32m    282\u001b[0m \u001b[38;5;28;01mdef\u001b[39;00m \u001b[38;5;21m_inner_hf_hub_download\u001b[39m(repo_file: \u001b[38;5;28mstr\u001b[39m):\n\u001b[1;32m--> 283\u001b[0m     \u001b[38;5;28;01mreturn\u001b[39;00m \u001b[43mhf_hub_download\u001b[49m\u001b[43m(\u001b[49m\n\u001b[0;32m    284\u001b[0m \u001b[43m        \u001b[49m\u001b[43mrepo_id\u001b[49m\u001b[43m,\u001b[49m\n\u001b[0;32m    285\u001b[0m \u001b[43m        \u001b[49m\u001b[43mfilename\u001b[49m\u001b[38;5;241;43m=\u001b[39;49m\u001b[43mrepo_file\u001b[49m\u001b[43m,\u001b[49m\n\u001b[0;32m    286\u001b[0m \u001b[43m        \u001b[49m\u001b[43mrepo_type\u001b[49m\u001b[38;5;241;43m=\u001b[39;49m\u001b[43mrepo_type\u001b[49m\u001b[43m,\u001b[49m\n\u001b[0;32m    287\u001b[0m \u001b[43m        \u001b[49m\u001b[43mrevision\u001b[49m\u001b[38;5;241;43m=\u001b[39;49m\u001b[43mcommit_hash\u001b[49m\u001b[43m,\u001b[49m\n\u001b[0;32m    288\u001b[0m \u001b[43m        \u001b[49m\u001b[43mendpoint\u001b[49m\u001b[38;5;241;43m=\u001b[39;49m\u001b[43mendpoint\u001b[49m\u001b[43m,\u001b[49m\n\u001b[0;32m    289\u001b[0m \u001b[43m        \u001b[49m\u001b[43mcache_dir\u001b[49m\u001b[38;5;241;43m=\u001b[39;49m\u001b[43mcache_dir\u001b[49m\u001b[43m,\u001b[49m\n\u001b[0;32m    290\u001b[0m \u001b[43m        \u001b[49m\u001b[43mlocal_dir\u001b[49m\u001b[38;5;241;43m=\u001b[39;49m\u001b[43mlocal_dir\u001b[49m\u001b[43m,\u001b[49m\n\u001b[0;32m    291\u001b[0m \u001b[43m        \u001b[49m\u001b[43mlocal_dir_use_symlinks\u001b[49m\u001b[38;5;241;43m=\u001b[39;49m\u001b[43mlocal_dir_use_symlinks\u001b[49m\u001b[43m,\u001b[49m\n\u001b[0;32m    292\u001b[0m \u001b[43m        \u001b[49m\u001b[43mlibrary_name\u001b[49m\u001b[38;5;241;43m=\u001b[39;49m\u001b[43mlibrary_name\u001b[49m\u001b[43m,\u001b[49m\n\u001b[0;32m    293\u001b[0m \u001b[43m        \u001b[49m\u001b[43mlibrary_version\u001b[49m\u001b[38;5;241;43m=\u001b[39;49m\u001b[43mlibrary_version\u001b[49m\u001b[43m,\u001b[49m\n\u001b[0;32m    294\u001b[0m \u001b[43m        \u001b[49m\u001b[43muser_agent\u001b[49m\u001b[38;5;241;43m=\u001b[39;49m\u001b[43muser_agent\u001b[49m\u001b[43m,\u001b[49m\n\u001b[0;32m    295\u001b[0m \u001b[43m        \u001b[49m\u001b[43mproxies\u001b[49m\u001b[38;5;241;43m=\u001b[39;49m\u001b[43mproxies\u001b[49m\u001b[43m,\u001b[49m\n\u001b[0;32m    296\u001b[0m \u001b[43m        \u001b[49m\u001b[43metag_timeout\u001b[49m\u001b[38;5;241;43m=\u001b[39;49m\u001b[43metag_timeout\u001b[49m\u001b[43m,\u001b[49m\n\u001b[0;32m    297\u001b[0m \u001b[43m        \u001b[49m\u001b[43mresume_download\u001b[49m\u001b[38;5;241;43m=\u001b[39;49m\u001b[43mresume_download\u001b[49m\u001b[43m,\u001b[49m\n\u001b[0;32m    298\u001b[0m \u001b[43m        \u001b[49m\u001b[43mforce_download\u001b[49m\u001b[38;5;241;43m=\u001b[39;49m\u001b[43mforce_download\u001b[49m\u001b[43m,\u001b[49m\n\u001b[0;32m    299\u001b[0m \u001b[43m        \u001b[49m\u001b[43mtoken\u001b[49m\u001b[38;5;241;43m=\u001b[39;49m\u001b[43mtoken\u001b[49m\u001b[43m,\u001b[49m\n\u001b[0;32m    300\u001b[0m \u001b[43m    \u001b[49m\u001b[43m)\u001b[49m\n",
      "File \u001b[1;32me:\\Habibi\\New_whisperX\\.venv\\lib\\site-packages\\huggingface_hub\\utils\\_validators.py:118\u001b[0m, in \u001b[0;36mvalidate_hf_hub_args.<locals>._inner_fn\u001b[1;34m(*args, **kwargs)\u001b[0m\n\u001b[0;32m    115\u001b[0m \u001b[38;5;28;01mif\u001b[39;00m check_use_auth_token:\n\u001b[0;32m    116\u001b[0m     kwargs \u001b[38;5;241m=\u001b[39m smoothly_deprecate_use_auth_token(fn_name\u001b[38;5;241m=\u001b[39mfn\u001b[38;5;241m.\u001b[39m\u001b[38;5;18m__name__\u001b[39m, has_token\u001b[38;5;241m=\u001b[39mhas_token, kwargs\u001b[38;5;241m=\u001b[39mkwargs)\n\u001b[1;32m--> 118\u001b[0m \u001b[38;5;28;01mreturn\u001b[39;00m fn(\u001b[38;5;241m*\u001b[39margs, \u001b[38;5;241m*\u001b[39m\u001b[38;5;241m*\u001b[39mkwargs)\n",
      "File \u001b[1;32me:\\Habibi\\New_whisperX\\.venv\\lib\\site-packages\\huggingface_hub\\file_download.py:1492\u001b[0m, in \u001b[0;36mhf_hub_download\u001b[1;34m(repo_id, filename, subfolder, repo_type, revision, library_name, library_version, cache_dir, local_dir, local_dir_use_symlinks, user_agent, force_download, force_filename, proxies, etag_timeout, resume_download, token, local_files_only, legacy_cache_layout, endpoint)\u001b[0m\n\u001b[0;32m   1489\u001b[0m         \u001b[38;5;28;01mif\u001b[39;00m local_dir \u001b[38;5;129;01mis\u001b[39;00m \u001b[38;5;129;01mnot\u001b[39;00m \u001b[38;5;28;01mNone\u001b[39;00m:\n\u001b[0;32m   1490\u001b[0m             _check_disk_space(expected_size, local_dir)\n\u001b[1;32m-> 1492\u001b[0m     \u001b[43mhttp_get\u001b[49m\u001b[43m(\u001b[49m\n\u001b[0;32m   1493\u001b[0m \u001b[43m        \u001b[49m\u001b[43murl_to_download\u001b[49m\u001b[43m,\u001b[49m\n\u001b[0;32m   1494\u001b[0m \u001b[43m        \u001b[49m\u001b[43mtemp_file\u001b[49m\u001b[43m,\u001b[49m\n\u001b[0;32m   1495\u001b[0m \u001b[43m        \u001b[49m\u001b[43mproxies\u001b[49m\u001b[38;5;241;43m=\u001b[39;49m\u001b[43mproxies\u001b[49m\u001b[43m,\u001b[49m\n\u001b[0;32m   1496\u001b[0m \u001b[43m        \u001b[49m\u001b[43mresume_size\u001b[49m\u001b[38;5;241;43m=\u001b[39;49m\u001b[43mresume_size\u001b[49m\u001b[43m,\u001b[49m\n\u001b[0;32m   1497\u001b[0m \u001b[43m        \u001b[49m\u001b[43mheaders\u001b[49m\u001b[38;5;241;43m=\u001b[39;49m\u001b[43mheaders\u001b[49m\u001b[43m,\u001b[49m\n\u001b[0;32m   1498\u001b[0m \u001b[43m        \u001b[49m\u001b[43mexpected_size\u001b[49m\u001b[38;5;241;43m=\u001b[39;49m\u001b[43mexpected_size\u001b[49m\u001b[43m,\u001b[49m\n\u001b[0;32m   1499\u001b[0m \u001b[43m        \u001b[49m\u001b[43mdisplayed_filename\u001b[49m\u001b[38;5;241;43m=\u001b[39;49m\u001b[43mfilename\u001b[49m\u001b[43m,\u001b[49m\n\u001b[0;32m   1500\u001b[0m \u001b[43m    \u001b[49m\u001b[43m)\u001b[49m\n\u001b[0;32m   1502\u001b[0m \u001b[38;5;28;01mif\u001b[39;00m local_dir \u001b[38;5;129;01mis\u001b[39;00m \u001b[38;5;28;01mNone\u001b[39;00m:\n\u001b[0;32m   1503\u001b[0m     logger\u001b[38;5;241m.\u001b[39mdebug(\u001b[38;5;124mf\u001b[39m\u001b[38;5;124m\"\u001b[39m\u001b[38;5;124mStoring \u001b[39m\u001b[38;5;132;01m{\u001b[39;00murl\u001b[38;5;132;01m}\u001b[39;00m\u001b[38;5;124m in cache at \u001b[39m\u001b[38;5;132;01m{\u001b[39;00mblob_path\u001b[38;5;132;01m}\u001b[39;00m\u001b[38;5;124m\"\u001b[39m)\n",
      "File \u001b[1;32me:\\Habibi\\New_whisperX\\.venv\\lib\\site-packages\\huggingface_hub\\file_download.py:550\u001b[0m, in \u001b[0;36mhttp_get\u001b[1;34m(url, temp_file, proxies, resume_size, headers, expected_size, displayed_filename, _nb_retries)\u001b[0m\n\u001b[0;32m    548\u001b[0m \u001b[38;5;28;01mif\u001b[39;00m chunk:  \u001b[38;5;66;03m# filter out keep-alive new chunks\u001b[39;00m\n\u001b[0;32m    549\u001b[0m     progress\u001b[38;5;241m.\u001b[39mupdate(\u001b[38;5;28mlen\u001b[39m(chunk))\n\u001b[1;32m--> 550\u001b[0m     \u001b[43mtemp_file\u001b[49m\u001b[38;5;241;43m.\u001b[39;49m\u001b[43mwrite\u001b[49m\u001b[43m(\u001b[49m\u001b[43mchunk\u001b[49m\u001b[43m)\u001b[49m\n\u001b[0;32m    551\u001b[0m     new_resume_size \u001b[38;5;241m+\u001b[39m\u001b[38;5;241m=\u001b[39m \u001b[38;5;28mlen\u001b[39m(chunk)\n\u001b[0;32m    552\u001b[0m     \u001b[38;5;66;03m# Some data has been downloaded from the server so we reset the number of retries.\u001b[39;00m\n",
      "File \u001b[1;32m~\\AppData\\Local\\Programs\\Python\\Python310\\lib\\tempfile.py:479\u001b[0m, in \u001b[0;36m_TemporaryFileWrapper.__getattr__.<locals>.func_wrapper\u001b[1;34m(*args, **kwargs)\u001b[0m\n\u001b[0;32m    477\u001b[0m \u001b[38;5;129m@_functools\u001b[39m\u001b[38;5;241m.\u001b[39mwraps(func)\n\u001b[0;32m    478\u001b[0m \u001b[38;5;28;01mdef\u001b[39;00m \u001b[38;5;21mfunc_wrapper\u001b[39m(\u001b[38;5;241m*\u001b[39margs, \u001b[38;5;241m*\u001b[39m\u001b[38;5;241m*\u001b[39mkwargs):\n\u001b[1;32m--> 479\u001b[0m     \u001b[38;5;28;01mreturn\u001b[39;00m func(\u001b[38;5;241m*\u001b[39margs, \u001b[38;5;241m*\u001b[39m\u001b[38;5;241m*\u001b[39mkwargs)\n",
      "\u001b[1;31mOSError\u001b[0m: [Errno 28] No space left on device"
     ]
    }
   ],
   "source": [
    "import whisperx\n",
    "import gc\n",
    "\n",
    "device = \"cpu\"\n",
    "audio_file = \"hassan_urdu_neg3.wav\"\n",
    "batch_size = 4 # reduce if low on GPU mem\n",
    "compute_type = \"int8\" # change to \"int8\" if low on GPU mem (may reduce accuracy)\n",
    "\n",
    "# 1. Transcribe with original whisper (batched)\n",
    "# model_base = whisperx.load_model(\"large-v2\", device, compute_type=compute_type)\n",
    "\n",
    "# save model to local path (optional)\n",
    "model_dir = r\"C:\\\\Users\\\\User\\\\.cache\\\\huggingface\\\\hub\\\\models--Systran--faster-whisper-large-v2\\\\snapshots\\\\f0fe81560cb8b68660e564f55dd99207059c092e\\\\\"\n",
    "model_large = whisperx.load_model(\"large-v2\", device, compute_type=compute_type, download_root=model_dir)\n",
    "\n",
    "audio = whisperx.load_audio(audio_file)\n",
    "result = model_base.transcribe(audio, batch_size=batch_size)\n",
    "print(result[\"segments\"]) # before alignment\n",
    "\n",
    "# delete model if low on GPU resources\n",
    "# import gc; gc.collect(); torch.cuda.empty_cache(); del model\n",
    "\n",
    "# 2. Align whisper output\n",
    "model_a, metadata = whisperx.load_align_model(language_code=result[\"language\"], device=device)\n",
    "result = whisperx.align(result[\"segments\"], model_a, metadata, audio, device, return_char_alignments=False)\n",
    "\n",
    "print(result[\"segments\"]) # after alignment\n",
    "\n",
    "# delete model if low on GPU resources\n",
    "# import gc; gc.collect(); torch.cuda.empty_cache(); del model_a\n",
    "\n",
    "# 3. Assign speaker labels\n",
    "diarize_model = whisperx.DiarizationPipeline(use_auth_token=write_api_key, device=device)\n",
    "\n",
    "# add min/max number of speakers if known\n",
    "diarize_segments = diarize_model(audio)\n",
    "# diarize_model(audio, min_speakers=min_speakers, max_speakers=max_speakers)\n",
    "\n",
    "result = whisperx.assign_word_speakers(diarize_segments, result)\n",
    "print(diarize_segments)\n",
    "print(result[\"segments\"]) # segments are now assigned speaker IDs"
   ]
  },
  {
   "cell_type": "code",
   "execution_count": null,
   "metadata": {},
   "outputs": [],
   "source": [
    "import requests\n",
    "import json\n",
    "\n",
    "# Load configuration from JSON file\n",
    "with open('credentials.json', 'r') as config_file:\n",
    "    config = json.load(config_file)\n",
    "\n",
    "read_api_key = config['read_api']['api_token']\n",
    "write_api_key =  config['write_api']['api_token']"
   ]
  },
  {
   "cell_type": "code",
   "execution_count": 7,
   "metadata": {},
   "outputs": [
    {
     "name": "stdout",
     "output_type": "stream",
     "text": [
      "Transcription(text='اسلام علیکم افراد کیسے ہو آپ خیریت ہو؟ وعلیکم السلام عماد جی بالکل میں ٹھیک ہوں آپ بتایا آپ کیسے ہیں؟ شکر لگا یار میرے کو نے ایک بائیک لینی ہے سیکرنٹ بائیک کیا ہو جو مناصف ریٹ میں ہو تو اس کے بارے میں کوئی آپ کا آئیڈیا ہے؟ جی بالکل آئیڈیا آپ کونسی بائیک لینے چاہ رہے ہیں؟ سیونٹی، اونٹو فائف، اونٹو فیٹی میں سیونٹی کے ہے اور میرا فوکس میں یونیک برینڈ ہے تو کوئی ایسی جو مناصف پرائیس میں میں کوئی بائیک مل جائے تیس ہزار کے اندر جی بالکل مل جائے گی لیکن آپ تھوڑی کالیٹی کومپرمائز ہوگی کیونکہ آپ کو پتا ہے کہ آرچکر مہنگاہی بہت ہے بہت ہی ٹھیک ہے تو تھرٹی تاؤزن میں جو آپ کو بائیک ملے گی وہ اتنی خاص نہیں ہوگی حالانکہ چلتا جائے گی آپ کا کام نکل جائے گا مگر اتنی اچھی کالیٹی نہیں ہوگی تو کیا میں آپ کے لئے وہ بائیک نکال دوں ہاں بس آپ پتا کریں جو آپ کا جاننے والا ہے تو میں اس کو پھر دیکھ لوں گا اور انشاءاللہ میں لے لوں گا ارادہ تو ہے میرا لینے کا ایسا کہنا آپ کل آجائیے ہمارا آفیس تو ہم آپ کو بائیک دے دیں گے اللہ حافظ', task='transcribe', language='urdu', duration=57.06999969482422, segments=[{'id': 0, 'seek': 0, 'start': 1.2599999904632568, 'end': 3.3399999141693115, 'text': ' اسلام علیکم افراد کیسے ہو آپ خیریت ہو؟', 'tokens': [50364, 24525, 37440, 11203, 29325, 2304, 1975, 5172, 2288, 18513, 23180, 3794, 7369, 45509, 46201, 16490, 4135, 44823, 2655, 220, 6354, 2407, 22807, 50514], 'temperature': 0.0, 'avg_logprob': -0.3402777910232544, 'compression_ratio': 2.3114187717437744, 'no_speech_prob': 0.5666455030441284}, {'id': 1, 'seek': 0, 'start': 3.3399999141693115, 'end': 6.340000152587891, 'text': ' وعلیکم السلام عماد جی بالکل میں ٹھیک ہوں آپ بتایا آپ کیسے ہیں؟', 'tokens': [50514, 4032, 30241, 29325, 2304, 21136, 37440, 6225, 2304, 18513, 10874, 4135, 20666, 6007, 1211, 27875, 1447, 117, 14268, 29325, 12138, 31320, 46201, 39894, 995, 38849, 46201, 23180, 3794, 7369, 38904, 22807, 50614], 'temperature': 0.0, 'avg_logprob': -0.3402777910232544, 'compression_ratio': 2.3114187717437744, 'no_speech_prob': 0.5666455030441284}, {'id': 2, 'seek': 0, 'start': 6.340000152587891, 'end': 7.079999923706055, 'text': ' شکر لگا', 'tokens': [50614, 13412, 6007, 2288, 5296, 16761, 995, 50664], 'temperature': 0.0, 'avg_logprob': -0.3402777910232544, 'compression_ratio': 2.3114187717437744, 'no_speech_prob': 0.5666455030441284}, {'id': 3, 'seek': 0, 'start': 7.079999923706055, 'end': 10.220000267028809, 'text': ' یار میرے کو نے ایک بائیک لینی ہے سیکرنٹ بائیک کیا ہو', 'tokens': [50664, 25429, 9640, 48478, 2288, 7369, 31561, 43947, 1975, 29325, 4724, 16373, 29325, 5296, 32151, 4135, 23905, 8608, 29325, 2288, 1863, 37130, 4724, 16373, 29325, 23180, 995, 45509, 50814], 'temperature': 0.0, 'avg_logprob': -0.3402777910232544, 'compression_ratio': 2.3114187717437744, 'no_speech_prob': 0.5666455030441284}, {'id': 4, 'seek': 0, 'start': 10.220000267028809, 'end': 12.979999542236328, 'text': ' جو مناصف ریٹ میں ہو تو اس کے بارے میں کوئی آپ کا آئیڈیا ہے؟', 'tokens': [50814, 10874, 2407, 9154, 33546, 5172, 12602, 4135, 37130, 48478, 11616, 45509, 33427, 24525, 24049, 4724, 9640, 7369, 27875, 31561, 19986, 4135, 46201, 39893, 19753, 19986, 4135, 150, 230, 38849, 23905, 22807, 50964], 'temperature': 0.0, 'avg_logprob': -0.3402777910232544, 'compression_ratio': 2.3114187717437744, 'no_speech_prob': 0.5666455030441284}, {'id': 5, 'seek': 0, 'start': 12.979999542236328, 'end': 16.18000030517578, 'text': ' جی بالکل آئیڈیا آپ کونسی بائیک لینے چاہ رہے ہیں؟', 'tokens': [50964, 10874, 4135, 20666, 6007, 1211, 19753, 19986, 4135, 150, 230, 38849, 46201, 7565, 11536, 3794, 4135, 4724, 16373, 29325, 5296, 32151, 7369, 34766, 995, 6354, 12602, 6354, 7369, 38904, 22807, 51064], 'temperature': 0.0, 'avg_logprob': -0.3402777910232544, 'compression_ratio': 2.3114187717437744, 'no_speech_prob': 0.5666455030441284}, {'id': 6, 'seek': 0, 'start': 16.18000030517578, 'end': 18.65999984741211, 'text': ' سیونٹی، اونٹو فائف، اونٹو فیٹی', 'tokens': [51064, 8608, 4135, 11536, 37130, 4135, 12399, 1975, 11536, 37130, 2407, 6156, 16373, 5172, 12399, 1975, 11536, 37130, 2407, 6156, 4135, 37130, 4135, 51164], 'temperature': 0.0, 'avg_logprob': -0.3402777910232544, 'compression_ratio': 2.3114187717437744, 'no_speech_prob': 0.5666455030441284}, {'id': 7, 'seek': 0, 'start': 18.65999984741211, 'end': 20.280000686645508, 'text': ' میں سیونٹی کے ہے اور میرا فوکس میں یونیک برینڈ ہے', 'tokens': [51164, 27875, 8608, 4135, 11536, 37130, 4135, 24049, 23905, 32930, 48478, 23557, 6156, 2407, 6007, 3794, 27875, 25429, 11536, 29325, 4724, 2288, 32151, 150, 230, 23905, 51364], 'temperature': 0.0, 'avg_logprob': -0.3402777910232544, 'compression_ratio': 2.3114187717437744, 'no_speech_prob': 0.5666455030441284}, {'id': 8, 'seek': 2028, 'start': 20.280000686645508, 'end': 23.65999984741211, 'text': ' تو کوئی ایسی جو مناصف پرائیس میں میں کوئی بائیک مل جائے', 'tokens': [50364, 33427, 31561, 19986, 4135, 1975, 4135, 3794, 4135, 10874, 2407, 9154, 33546, 5172, 21453, 2288, 16373, 4135, 3794, 27875, 27875, 31561, 19986, 4135, 4724, 16373, 29325, 3714, 1211, 10874, 16373, 7369, 50514], 'temperature': 0.0, 'avg_logprob': -0.22055555880069733, 'compression_ratio': 2.1837456226348877, 'no_speech_prob': 0.9048171639442444}, {'id': 9, 'seek': 2028, 'start': 23.65999984741211, 'end': 25.739999771118164, 'text': ' تیس ہزار کے اندر', 'tokens': [50514, 6055, 4135, 3794, 12138, 11622, 9640, 24049, 16472, 3215, 2288, 50564], 'temperature': 0.0, 'avg_logprob': -0.22055555880069733, 'compression_ratio': 2.1837456226348877, 'no_speech_prob': 0.9048171639442444}, {'id': 10, 'seek': 2028, 'start': 25.739999771118164, 'end': 29.700000762939453, 'text': ' جی بالکل مل جائے گی لیکن آپ', 'tokens': [50564, 10874, 4135, 20666, 6007, 1211, 3714, 1211, 10874, 16373, 7369, 28697, 4135, 5296, 29325, 1863, 46201, 50764], 'temperature': 0.0, 'avg_logprob': -0.22055555880069733, 'compression_ratio': 2.1837456226348877, 'no_speech_prob': 0.9048171639442444}, {'id': 11, 'seek': 2028, 'start': 29.700000762939453, 'end': 31.5, 'text': ' تھوڑی کالیٹی کومپرمائز ہوگی', 'tokens': [50764, 41924, 2407, 150, 239, 4135, 7565, 6027, 4135, 37130, 4135, 7565, 20498, 27779, 2288, 2304, 16373, 11622, 45509, 16761, 4135, 50864], 'temperature': 0.0, 'avg_logprob': -0.22055555880069733, 'compression_ratio': 2.1837456226348877, 'no_speech_prob': 0.9048171639442444}, {'id': 12, 'seek': 2028, 'start': 31.5, 'end': 33.2400016784668, 'text': ' کیونکہ آپ کو پتا ہے کہ آرچکر مہنگاہی بہت ہے', 'tokens': [50864, 23180, 11536, 6007, 6354, 46201, 31561, 21453, 2655, 995, 23905, 33491, 19753, 2288, 24061, 6007, 2288, 3714, 6354, 1863, 16761, 995, 6354, 4135, 4724, 6354, 2655, 23905, 50964], 'temperature': 0.0, 'avg_logprob': -0.22055555880069733, 'compression_ratio': 2.1837456226348877, 'no_speech_prob': 0.9048171639442444}, {'id': 13, 'seek': 2028, 'start': 33.2400016784668, 'end': 34.619998931884766, 'text': ' بہت ہی ٹھیک ہے', 'tokens': [50964, 4724, 6354, 2655, 12138, 4135, 1447, 117, 14268, 29325, 23905, 51014], 'temperature': 0.0, 'avg_logprob': -0.22055555880069733, 'compression_ratio': 2.1837456226348877, 'no_speech_prob': 0.9048171639442444}, {'id': 14, 'seek': 2028, 'start': 34.619998931884766, 'end': 37.7400016784668, 'text': ' تو تھرٹی تاؤزن میں جو آپ کو بائیک ملے گی', 'tokens': [51014, 33427, 41924, 2288, 37130, 4135, 6055, 5718, 97, 11622, 1863, 27875, 10874, 2407, 46201, 31561, 4724, 16373, 29325, 3714, 1211, 7369, 28697, 4135, 51114], 'temperature': 0.0, 'avg_logprob': -0.22055555880069733, 'compression_ratio': 2.1837456226348877, 'no_speech_prob': 0.9048171639442444}, {'id': 15, 'seek': 2028, 'start': 37.7400016784668, 'end': 39.099998474121094, 'text': ' وہ اتنی خاص نہیں ہوگی', 'tokens': [51114, 44291, 1975, 2655, 1863, 4135, 16490, 33546, 50194, 45509, 16761, 4135, 51214], 'temperature': 0.0, 'avg_logprob': -0.22055555880069733, 'compression_ratio': 2.1837456226348877, 'no_speech_prob': 0.9048171639442444}, {'id': 16, 'seek': 2028, 'start': 39.099998474121094, 'end': 40.70000076293945, 'text': ' حالانکہ چلتا جائے گی', 'tokens': [51214, 11331, 6027, 7649, 6007, 6354, 34766, 1211, 2655, 995, 10874, 16373, 7369, 28697, 4135, 51264], 'temperature': 0.0, 'avg_logprob': -0.22055555880069733, 'compression_ratio': 2.1837456226348877, 'no_speech_prob': 0.9048171639442444}, {'id': 17, 'seek': 2028, 'start': 40.70000076293945, 'end': 41.720001220703125, 'text': ' آپ کا کام نکل جائے گا مگر اتنی اچھی کالیٹی نہیں ہوگی', 'tokens': [51264, 46201, 39893, 7565, 10943, 8717, 6007, 1211, 10874, 16373, 7369, 28697, 995, 3714, 16761, 2288, 1975, 2655, 1863, 4135, 1975, 24061, 36078, 7565, 6027, 4135, 37130, 4135, 50194, 45509, 16761, 4135, 51414], 'temperature': 0.0, 'avg_logprob': -0.22055555880069733, 'compression_ratio': 2.1837456226348877, 'no_speech_prob': 0.9048171639442444}, {'id': 18, 'seek': 4172, 'start': 41.779998779296875, 'end': 44.040000915527344, 'text': ' تو کیا میں آپ کے لئے وہ بائیک نکال دوں', 'tokens': [50364, 33427, 23180, 995, 27875, 46201, 24049, 5296, 19986, 7369, 44291, 4724, 16373, 29325, 8717, 6007, 6027, 11778, 31320, 50464], 'temperature': 0.0, 'avg_logprob': -0.23502662777900696, 'compression_ratio': 1.8940092325210571, 'no_speech_prob': 0.8965158462524414}, {'id': 19, 'seek': 4172, 'start': 44.040000915527344, 'end': 46.880001068115234, 'text': ' ہاں بس آپ پتا کریں', 'tokens': [50464, 12138, 995, 11616, 4724, 3794, 46201, 21453, 2655, 995, 29688, 14768, 50564], 'temperature': 0.0, 'avg_logprob': -0.23502662777900696, 'compression_ratio': 1.8940092325210571, 'no_speech_prob': 0.8965158462524414}, {'id': 20, 'seek': 4172, 'start': 46.880001068115234, 'end': 49.02000045776367, 'text': ' جو آپ کا جاننے والا ہے', 'tokens': [50564, 10874, 2407, 46201, 39893, 10874, 7649, 1863, 7369, 16070, 995, 23905, 50664], 'temperature': 0.0, 'avg_logprob': -0.23502662777900696, 'compression_ratio': 1.8940092325210571, 'no_speech_prob': 0.8965158462524414}, {'id': 21, 'seek': 4172, 'start': 49.02000045776367, 'end': 50.380001068115234, 'text': ' تو میں اس کو پھر دیکھ لوں گا', 'tokens': [50664, 33427, 27875, 24525, 31561, 21453, 14268, 2288, 11778, 29325, 14268, 5296, 31320, 28697, 995, 50764], 'temperature': 0.0, 'avg_logprob': -0.23502662777900696, 'compression_ratio': 1.8940092325210571, 'no_speech_prob': 0.8965158462524414}, {'id': 22, 'seek': 4172, 'start': 50.380001068115234, 'end': 51.939998626708984, 'text': ' اور انشاءاللہ میں لے لوں گا', 'tokens': [50764, 32930, 16472, 8592, 16606, 6027, 1211, 6354, 27875, 5296, 7369, 5296, 31320, 28697, 995, 50814], 'temperature': 0.0, 'avg_logprob': -0.23502662777900696, 'compression_ratio': 1.8940092325210571, 'no_speech_prob': 0.8965158462524414}, {'id': 23, 'seek': 4172, 'start': 51.939998626708984, 'end': 53.7599983215332, 'text': ' ارادہ تو ہے میرا لینے کا', 'tokens': [50814, 1975, 2288, 18513, 6354, 33427, 23905, 48478, 23557, 5296, 32151, 7369, 39893, 50914], 'temperature': 0.0, 'avg_logprob': -0.23502662777900696, 'compression_ratio': 1.8940092325210571, 'no_speech_prob': 0.8965158462524414}, {'id': 24, 'seek': 4172, 'start': 53.7599983215332, 'end': 55.47999954223633, 'text': ' ایسا کہنا آپ کل آجائیے ہمارا آفیس', 'tokens': [50914, 1975, 4135, 3794, 995, 33491, 8315, 46201, 7565, 1211, 19753, 7435, 16373, 4135, 7369, 12138, 2304, 9640, 995, 19753, 5172, 4135, 3794, 51014], 'temperature': 0.0, 'avg_logprob': -0.23502662777900696, 'compression_ratio': 1.8940092325210571, 'no_speech_prob': 0.8965158462524414}, {'id': 25, 'seek': 4172, 'start': 55.47999954223633, 'end': 56.63999938964844, 'text': ' تو ہم آپ کو بائیک دے دیں گے', 'tokens': [51014, 33427, 12138, 2304, 46201, 31561, 4724, 16373, 29325, 11778, 7369, 11778, 14768, 28697, 7369, 51064], 'temperature': 0.0, 'avg_logprob': -0.23502662777900696, 'compression_ratio': 1.8940092325210571, 'no_speech_prob': 0.8965158462524414}, {'id': 26, 'seek': 4172, 'start': 55.720001220703125, 'end': 56.720001220703125, 'text': ' اللہ حافظ', 'tokens': [51064, 13672, 6354, 11331, 31845, 19913, 51114], 'temperature': 0.0, 'avg_logprob': -0.23502662777900696, 'compression_ratio': 1.8940092325210571, 'no_speech_prob': 0.8965158462524414}], words=[{'word': 'اسلام', 'start': 1.2599999904632568, 'end': 1.7000000476837158}, {'word': 'علیکم', 'start': 1.7000000476837158, 'end': 1.7000000476837158}, {'word': 'افراد', 'start': 1.7000000476837158, 'end': 1.940000057220459}, {'word': 'کیسے', 'start': 1.940000057220459, 'end': 2.2200000286102295}, {'word': 'ہو', 'start': 2.2200000286102295, 'end': 2.240000009536743}, {'word': 'آپ', 'start': 2.240000009536743, 'end': 2.380000114440918}, {'word': 'خیریت', 'start': 2.380000114440918, 'end': 2.7200000286102295}, {'word': 'ہو؟', 'start': 2.7200000286102295, 'end': 3.0199999809265137}, {'word': 'وعلیکم', 'start': 3.0199999809265137, 'end': 3.3399999141693115}, {'word': 'السلام', 'start': 3.3399999141693115, 'end': 3.640000104904175}, {'word': 'عماد', 'start': 3.640000104904175, 'end': 4.0}, {'word': 'جی', 'start': 4.0, 'end': 4.079999923706055}, {'word': 'بالکل', 'start': 4.079999923706055, 'end': 4.360000133514404}, {'word': 'میں', 'start': 4.360000133514404, 'end': 4.579999923706055}, {'word': 'ٹھیک', 'start': 4.579999923706055, 'end': 4.699999809265137}, {'word': 'ہوں', 'start': 4.699999809265137, 'end': 4.739999771118164}, {'word': 'آپ', 'start': 4.739999771118164, 'end': 4.880000114440918}, {'word': 'بتایا', 'start': 4.880000114440918, 'end': 5.139999866485596}, {'word': 'آپ', 'start': 5.139999866485596, 'end': 5.239999771118164}, {'word': 'کیسے', 'start': 5.239999771118164, 'end': 5.440000057220459}, {'word': 'ہیں؟', 'start': 5.440000057220459, 'end': 5.699999809265137}, {'word': 'شکر', 'start': 5.699999809265137, 'end': 5.880000114440918}, {'word': 'لگا', 'start': 5.880000114440918, 'end': 6.340000152587891}, {'word': 'یار', 'start': 6.340000152587891, 'end': 6.71999979019165}, {'word': 'میرے', 'start': 6.71999979019165, 'end': 6.980000019073486}, {'word': 'کو', 'start': 6.980000019073486, 'end': 7.079999923706055}, {'word': 'نے', 'start': 7.079999923706055, 'end': 7.139999866485596}, {'word': 'ایک', 'start': 7.139999866485596, 'end': 7.360000133514404}, {'word': 'بائیک', 'start': 7.360000133514404, 'end': 7.460000038146973}, {'word': 'لینی', 'start': 7.460000038146973, 'end': 7.78000020980835}, {'word': 'ہے', 'start': 7.78000020980835, 'end': 7.880000114440918}, {'word': 'سیکرنٹ', 'start': 7.880000114440918, 'end': 8.300000190734863}, {'word': 'بائیک', 'start': 8.300000190734863, 'end': 8.579999923706055}, {'word': 'کیا', 'start': 8.579999923706055, 'end': 8.760000228881836}, {'word': 'ہو', 'start': 8.760000228881836, 'end': 9.260000228881836}, {'word': 'جو', 'start': 9.260000228881836, 'end': 9.699999809265137}, {'word': 'مناصف', 'start': 9.699999809265137, 'end': 10.039999961853027}, {'word': 'ریٹ', 'start': 10.039999961853027, 'end': 10.220000267028809}, {'word': 'میں', 'start': 10.220000267028809, 'end': 10.359999656677246}, {'word': 'ہو', 'start': 10.359999656677246, 'end': 10.420000076293945}, {'word': 'تو', 'start': 10.420000076293945, 'end': 10.619999885559082}, {'word': 'اس', 'start': 10.619999885559082, 'end': 10.760000228881836}, {'word': 'کے', 'start': 10.760000228881836, 'end': 10.84000015258789}, {'word': 'بارے', 'start': 10.84000015258789, 'end': 10.979999542236328}, {'word': 'میں', 'start': 10.979999542236328, 'end': 10.979999542236328}, {'word': 'کوئی', 'start': 10.979999542236328, 'end': 11.260000228881836}, {'word': 'آپ', 'start': 11.260000228881836, 'end': 11.319999694824219}, {'word': 'کا', 'start': 11.319999694824219, 'end': 11.359999656677246}, {'word': 'آئیڈیا', 'start': 11.359999656677246, 'end': 11.600000381469727}, {'word': 'ہے؟', 'start': 11.600000381469727, 'end': 12.319999694824219}, {'word': 'جی', 'start': 12.319999694824219, 'end': 12.4399995803833}, {'word': 'بالکل', 'start': 12.4399995803833, 'end': 12.680000305175781}, {'word': 'آئیڈیا', 'start': 12.680000305175781, 'end': 12.979999542236328}, {'word': 'آپ', 'start': 12.979999542236328, 'end': 13.220000267028809}, {'word': 'کونسی', 'start': 13.220000267028809, 'end': 13.579999923706055}, {'word': 'بائیک', 'start': 13.579999923706055, 'end': 13.699999809265137}, {'word': 'لینے', 'start': 13.699999809265137, 'end': 13.960000038146973}, {'word': 'چاہ', 'start': 13.960000038146973, 'end': 14.180000305175781}, {'word': 'رہے', 'start': 14.180000305175781, 'end': 14.180000305175781}, {'word': 'ہیں؟', 'start': 14.180000305175781, 'end': 14.239999771118164}, {'word': 'سیونٹی،', 'start': 14.239999771118164, 'end': 15.619999885559082}, {'word': 'اونٹو', 'start': 15.619999885559082, 'end': 15.819999694824219}, {'word': 'فائف،', 'start': 15.819999694824219, 'end': 16.18000030517578}, {'word': 'اونٹو', 'start': 16.18000030517578, 'end': 16.3799991607666}, {'word': 'فیٹی', 'start': 16.3799991607666, 'end': 16.399999618530273}, {'word': 'میں', 'start': 16.399999618530273, 'end': 16.700000762939453}, {'word': 'سیونٹی', 'start': 16.700000762939453, 'end': 17.8799991607666}, {'word': 'کے', 'start': 17.8799991607666, 'end': 17.979999542236328}, {'word': 'ہے', 'start': 17.979999542236328, 'end': 18.280000686645508}, {'word': 'اور', 'start': 18.280000686645508, 'end': 18.399999618530273}, {'word': 'میرا', 'start': 18.399999618530273, 'end': 18.540000915527344}, {'word': 'فوکس', 'start': 18.540000915527344, 'end': 18.65999984741211}, {'word': 'میں', 'start': 18.65999984741211, 'end': 18.65999984741211}, {'word': 'یونیک', 'start': 18.65999984741211, 'end': 18.84000015258789}, {'word': 'برینڈ', 'start': 18.84000015258789, 'end': 19.360000610351562}, {'word': 'ہے', 'start': 19.360000610351562, 'end': 20.280000686645508}, {'word': 'تو', 'start': 20.280000686645508, 'end': 20.579999923706055}, {'word': 'کوئی', 'start': 20.579999923706055, 'end': 20.84000015258789}, {'word': 'ایسی', 'start': 20.84000015258789, 'end': 21.260000228881836}, {'word': 'جو', 'start': 21.260000228881836, 'end': 21.5}, {'word': 'مناصف', 'start': 21.5, 'end': 21.760000228881836}, {'word': 'پرائیس', 'start': 21.760000228881836, 'end': 22.040000915527344}, {'word': 'میں', 'start': 22.040000915527344, 'end': 22.239999771118164}, {'word': 'میں', 'start': 22.239999771118164, 'end': 22.399999618530273}, {'word': 'کوئی', 'start': 22.399999618530273, 'end': 22.520000457763672}, {'word': 'بائیک', 'start': 22.520000457763672, 'end': 22.719999313354492}, {'word': 'مل', 'start': 22.719999313354492, 'end': 22.920000076293945}, {'word': 'جائے', 'start': 22.920000076293945, 'end': 23.0}, {'word': 'تیس', 'start': 23.0, 'end': 23.65999984741211}, {'word': 'ہزار', 'start': 23.65999984741211, 'end': 23.81999969482422}, {'word': 'کے', 'start': 23.81999969482422, 'end': 23.959999084472656}, {'word': 'اندر', 'start': 23.959999084472656, 'end': 24.079999923706055}, {'word': 'جی', 'start': 24.079999923706055, 'end': 25.34000015258789}, {'word': 'بالکل', 'start': 25.34000015258789, 'end': 25.739999771118164}, {'word': 'مل', 'start': 25.739999771118164, 'end': 27.31999969482422}, {'word': 'جائے', 'start': 27.31999969482422, 'end': 27.5}, {'word': 'گی', 'start': 27.5, 'end': 27.68000030517578}, {'word': 'لیکن', 'start': 27.68000030517578, 'end': 27.940000534057617}, {'word': 'آپ', 'start': 27.940000534057617, 'end': 28.420000076293945}, {'word': 'تھوڑی', 'start': 28.420000076293945, 'end': 28.940000534057617}, {'word': 'کالیٹی', 'start': 28.940000534057617, 'end': 29.700000762939453}, {'word': 'کومپرمائز', 'start': 29.700000762939453, 'end': 30.139999389648438}, {'word': 'ہوگی', 'start': 30.139999389648438, 'end': 30.520000457763672}, {'word': 'کیونکہ', 'start': 30.520000457763672, 'end': 31.15999984741211}, {'word': 'آپ', 'start': 31.15999984741211, 'end': 31.239999771118164}, {'word': 'کو', 'start': 31.239999771118164, 'end': 31.399999618530273}, {'word': 'پتا', 'start': 31.399999618530273, 'end': 31.5}, {'word': 'ہے', 'start': 31.5, 'end': 31.559999465942383}, {'word': 'کہ', 'start': 31.559999465942383, 'end': 31.719999313354492}, {'word': 'آرچکر', 'start': 31.719999313354492, 'end': 31.940000534057617}, {'word': 'مہنگاہی', 'start': 31.940000534057617, 'end': 32.34000015258789}, {'word': 'بہت', 'start': 32.34000015258789, 'end': 32.560001373291016}, {'word': 'ہے', 'start': 32.560001373291016, 'end': 32.7400016784668}, {'word': 'بہت', 'start': 32.7400016784668, 'end': 32.91999816894531}, {'word': 'ہی', 'start': 32.91999816894531, 'end': 33.02000045776367}, {'word': 'ٹھیک', 'start': 33.02000045776367, 'end': 33.220001220703125}, {'word': 'ہے', 'start': 33.220001220703125, 'end': 33.2400016784668}, {'word': 'تو', 'start': 33.2400016784668, 'end': 33.599998474121094}, {'word': 'تھرٹی', 'start': 33.599998474121094, 'end': 33.86000061035156}, {'word': 'تاؤزن', 'start': 33.86000061035156, 'end': 34.15999984741211}, {'word': 'میں', 'start': 34.15999984741211, 'end': 34.29999923706055}, {'word': 'جو', 'start': 34.29999923706055, 'end': 34.619998931884766}, {'word': 'آپ', 'start': 34.619998931884766, 'end': 34.779998779296875}, {'word': 'کو', 'start': 34.779998779296875, 'end': 34.779998779296875}, {'word': 'بائیک', 'start': 34.779998779296875, 'end': 34.959999084472656}, {'word': 'ملے', 'start': 34.959999084472656, 'end': 35.18000030517578}, {'word': 'گی', 'start': 35.18000030517578, 'end': 35.31999969482422}, {'word': 'وہ', 'start': 35.31999969482422, 'end': 35.65999984741211}, {'word': 'اتنی', 'start': 35.65999984741211, 'end': 36.040000915527344}, {'word': 'خاص', 'start': 36.040000915527344, 'end': 36.7599983215332}, {'word': 'نہیں', 'start': 36.7599983215332, 'end': 36.880001068115234}, {'word': 'ہوگی', 'start': 36.880001068115234, 'end': 37.13999938964844}, {'word': 'حالانکہ', 'start': 37.13999938964844, 'end': 37.7400016784668}, {'word': 'چلتا', 'start': 37.7400016784668, 'end': 38.040000915527344}, {'word': 'جائے', 'start': 38.040000915527344, 'end': 38.31999969482422}, {'word': 'گی', 'start': 38.31999969482422, 'end': 38.81999969482422}, {'word': 'آپ', 'start': 38.81999969482422, 'end': 39.0}, {'word': 'کا', 'start': 39.0, 'end': 39.099998474121094}, {'word': 'کام', 'start': 39.099998474121094, 'end': 39.2400016784668}, {'word': 'نکل', 'start': 39.2400016784668, 'end': 39.52000045776367}, {'word': 'جائے', 'start': 39.52000045776367, 'end': 39.720001220703125}, {'word': 'گا', 'start': 39.720001220703125, 'end': 39.86000061035156}, {'word': 'مگر', 'start': 39.86000061035156, 'end': 40.119998931884766}, {'word': 'اتنی', 'start': 40.119998931884766, 'end': 40.70000076293945}, {'word': 'اچھی', 'start': 40.70000076293945, 'end': 40.91999816894531}, {'word': 'کالیٹی', 'start': 40.91999816894531, 'end': 41.31999969482422}, {'word': 'نہیں', 'start': 41.31999969482422, 'end': 41.41999816894531}, {'word': 'ہوگی', 'start': 41.41999816894531, 'end': 41.720001220703125}, {'word': 'تو', 'start': 41.779998779296875, 'end': 42.13999938964844}, {'word': 'کیا', 'start': 42.13999938964844, 'end': 42.47999954223633}, {'word': 'میں', 'start': 42.47999954223633, 'end': 42.58000183105469}, {'word': 'آپ', 'start': 42.58000183105469, 'end': 42.70000076293945}, {'word': 'کے', 'start': 42.70000076293945, 'end': 42.779998779296875}, {'word': 'لئے', 'start': 42.779998779296875, 'end': 42.84000015258789}, {'word': 'وہ', 'start': 42.84000015258789, 'end': 43.0}, {'word': 'بائیک', 'start': 43.0, 'end': 43.08000183105469}, {'word': 'نکال', 'start': 43.08000183105469, 'end': 43.400001525878906}, {'word': 'دوں', 'start': 43.400001525878906, 'end': 43.52000045776367}, {'word': 'ہاں', 'start': 43.52000045776367, 'end': 44.040000915527344}, {'word': 'بس', 'start': 44.040000915527344, 'end': 44.220001220703125}, {'word': 'آپ', 'start': 44.220001220703125, 'end': 44.41999816894531}, {'word': 'پتا', 'start': 44.41999816894531, 'end': 44.720001220703125}, {'word': 'کریں', 'start': 44.720001220703125, 'end': 45.220001220703125}, {'word': 'جو', 'start': 45.220001220703125, 'end': 46.70000076293945}, {'word': 'آپ', 'start': 46.70000076293945, 'end': 46.79999923706055}, {'word': 'کا', 'start': 46.79999923706055, 'end': 46.880001068115234}, {'word': 'جاننے', 'start': 46.880001068115234, 'end': 47.15999984741211}, {'word': 'والا', 'start': 47.15999984741211, 'end': 47.34000015258789}, {'word': 'ہے', 'start': 47.34000015258789, 'end': 47.47999954223633}, {'word': 'تو', 'start': 47.47999954223633, 'end': 47.619998931884766}, {'word': 'میں', 'start': 47.619998931884766, 'end': 48.34000015258789}, {'word': 'اس', 'start': 48.34000015258789, 'end': 48.599998474121094}, {'word': 'کو', 'start': 48.599998474121094, 'end': 48.84000015258789}, {'word': 'پھر', 'start': 48.84000015258789, 'end': 49.02000045776367}, {'word': 'دیکھ', 'start': 49.02000045776367, 'end': 49.34000015258789}, {'word': 'لوں', 'start': 49.34000015258789, 'end': 49.439998626708984}, {'word': 'گا', 'start': 49.439998626708984, 'end': 49.599998474121094}, {'word': 'اور', 'start': 49.599998474121094, 'end': 49.91999816894531}, {'word': 'انشاءاللہ', 'start': 49.91999816894531, 'end': 50.220001220703125}, {'word': 'میں', 'start': 50.220001220703125, 'end': 50.380001068115234}, {'word': 'لے', 'start': 50.380001068115234, 'end': 50.5}, {'word': 'لوں', 'start': 50.5, 'end': 50.619998931884766}, {'word': 'گا', 'start': 50.619998931884766, 'end': 51.02000045776367}, {'word': 'ارادہ', 'start': 51.02000045776367, 'end': 51.380001068115234}, {'word': 'تو', 'start': 51.380001068115234, 'end': 51.47999954223633}, {'word': 'ہے', 'start': 51.47999954223633, 'end': 51.560001373291016}, {'word': 'میرا', 'start': 51.560001373291016, 'end': 51.70000076293945}, {'word': 'لینے', 'start': 51.70000076293945, 'end': 51.939998626708984}, {'word': 'کا', 'start': 51.939998626708984, 'end': 52.08000183105469}, {'word': 'ایسا', 'start': 52.08000183105469, 'end': 52.86000061035156}, {'word': 'کہنا', 'start': 52.86000061035156, 'end': 53.02000045776367}, {'word': 'آپ', 'start': 53.02000045776367, 'end': 53.20000076293945}, {'word': 'کل', 'start': 53.20000076293945, 'end': 53.31999969482422}, {'word': 'آجائیے', 'start': 53.31999969482422, 'end': 53.7599983215332}, {'word': 'ہمارا', 'start': 53.7599983215332, 'end': 54.040000915527344}, {'word': 'آفیس', 'start': 54.040000915527344, 'end': 54.36000061035156}, {'word': 'تو', 'start': 54.36000061035156, 'end': 54.619998931884766}, {'word': 'ہم', 'start': 54.619998931884766, 'end': 54.720001220703125}, {'word': 'آپ', 'start': 54.720001220703125, 'end': 54.86000061035156}, {'word': 'کو', 'start': 54.86000061035156, 'end': 54.939998626708984}, {'word': 'بائیک', 'start': 54.939998626708984, 'end': 55.13999938964844}, {'word': 'دے', 'start': 55.13999938964844, 'end': 55.29999923706055}, {'word': 'دیں', 'start': 55.29999923706055, 'end': 55.41999816894531}, {'word': 'گے', 'start': 55.41999816894531, 'end': 55.47999954223633}, {'word': 'اللہ', 'start': 55.47999954223633, 'end': 56.400001525878906}, {'word': 'حافظ', 'start': 56.400001525878906, 'end': 56.63999938964844}])\n"
     ]
    }
   ],
   "source": [
    "from openai import OpenAI\n",
    "from dotenv import load_dotenv\n",
    "load_dotenv()\n",
    "\n",
    "client = OpenAI()\n",
    "\n",
    "audio_file= open(\"./F&H/f&h_urdu.wav\", \"rb\")\n",
    "transcription = client.audio.transcriptions.create(\n",
    "  model=\"whisper-1\",\n",
    "  file=audio_file,\n",
    "  response_format='verbose_json',\n",
    "  timestamp_granularities=['word', 'segment'],\n",
    "  \n",
    ")\n",
    "print(transcription)"
   ]
  },
  {
   "cell_type": "code",
   "execution_count": 8,
   "metadata": {},
   "outputs": [
    {
     "data": {
      "text/plain": [
       "[{'word': 'اسلام', 'start': 1.2599999904632568, 'end': 1.7000000476837158},\n",
       " {'word': 'علیکم', 'start': 1.7000000476837158, 'end': 1.7000000476837158},\n",
       " {'word': 'افراد', 'start': 1.7000000476837158, 'end': 1.940000057220459},\n",
       " {'word': 'کیسے', 'start': 1.940000057220459, 'end': 2.2200000286102295},\n",
       " {'word': 'ہو', 'start': 2.2200000286102295, 'end': 2.240000009536743},\n",
       " {'word': 'آپ', 'start': 2.240000009536743, 'end': 2.380000114440918},\n",
       " {'word': 'خیریت', 'start': 2.380000114440918, 'end': 2.7200000286102295},\n",
       " {'word': 'ہو؟', 'start': 2.7200000286102295, 'end': 3.0199999809265137},\n",
       " {'word': 'وعلیکم', 'start': 3.0199999809265137, 'end': 3.3399999141693115},\n",
       " {'word': 'السلام', 'start': 3.3399999141693115, 'end': 3.640000104904175},\n",
       " {'word': 'عماد', 'start': 3.640000104904175, 'end': 4.0},\n",
       " {'word': 'جی', 'start': 4.0, 'end': 4.079999923706055},\n",
       " {'word': 'بالکل', 'start': 4.079999923706055, 'end': 4.360000133514404},\n",
       " {'word': 'میں', 'start': 4.360000133514404, 'end': 4.579999923706055},\n",
       " {'word': 'ٹھیک', 'start': 4.579999923706055, 'end': 4.699999809265137},\n",
       " {'word': 'ہوں', 'start': 4.699999809265137, 'end': 4.739999771118164},\n",
       " {'word': 'آپ', 'start': 4.739999771118164, 'end': 4.880000114440918},\n",
       " {'word': 'بتایا', 'start': 4.880000114440918, 'end': 5.139999866485596},\n",
       " {'word': 'آپ', 'start': 5.139999866485596, 'end': 5.239999771118164},\n",
       " {'word': 'کیسے', 'start': 5.239999771118164, 'end': 5.440000057220459},\n",
       " {'word': 'ہیں؟', 'start': 5.440000057220459, 'end': 5.699999809265137},\n",
       " {'word': 'شکر', 'start': 5.699999809265137, 'end': 5.880000114440918},\n",
       " {'word': 'لگا', 'start': 5.880000114440918, 'end': 6.340000152587891},\n",
       " {'word': 'یار', 'start': 6.340000152587891, 'end': 6.71999979019165},\n",
       " {'word': 'میرے', 'start': 6.71999979019165, 'end': 6.980000019073486},\n",
       " {'word': 'کو', 'start': 6.980000019073486, 'end': 7.079999923706055},\n",
       " {'word': 'نے', 'start': 7.079999923706055, 'end': 7.139999866485596},\n",
       " {'word': 'ایک', 'start': 7.139999866485596, 'end': 7.360000133514404},\n",
       " {'word': 'بائیک', 'start': 7.360000133514404, 'end': 7.460000038146973},\n",
       " {'word': 'لینی', 'start': 7.460000038146973, 'end': 7.78000020980835},\n",
       " {'word': 'ہے', 'start': 7.78000020980835, 'end': 7.880000114440918},\n",
       " {'word': 'سیکرنٹ', 'start': 7.880000114440918, 'end': 8.300000190734863},\n",
       " {'word': 'بائیک', 'start': 8.300000190734863, 'end': 8.579999923706055},\n",
       " {'word': 'کیا', 'start': 8.579999923706055, 'end': 8.760000228881836},\n",
       " {'word': 'ہو', 'start': 8.760000228881836, 'end': 9.260000228881836},\n",
       " {'word': 'جو', 'start': 9.260000228881836, 'end': 9.699999809265137},\n",
       " {'word': 'مناصف', 'start': 9.699999809265137, 'end': 10.039999961853027},\n",
       " {'word': 'ریٹ', 'start': 10.039999961853027, 'end': 10.220000267028809},\n",
       " {'word': 'میں', 'start': 10.220000267028809, 'end': 10.359999656677246},\n",
       " {'word': 'ہو', 'start': 10.359999656677246, 'end': 10.420000076293945},\n",
       " {'word': 'تو', 'start': 10.420000076293945, 'end': 10.619999885559082},\n",
       " {'word': 'اس', 'start': 10.619999885559082, 'end': 10.760000228881836},\n",
       " {'word': 'کے', 'start': 10.760000228881836, 'end': 10.84000015258789},\n",
       " {'word': 'بارے', 'start': 10.84000015258789, 'end': 10.979999542236328},\n",
       " {'word': 'میں', 'start': 10.979999542236328, 'end': 10.979999542236328},\n",
       " {'word': 'کوئی', 'start': 10.979999542236328, 'end': 11.260000228881836},\n",
       " {'word': 'آپ', 'start': 11.260000228881836, 'end': 11.319999694824219},\n",
       " {'word': 'کا', 'start': 11.319999694824219, 'end': 11.359999656677246},\n",
       " {'word': 'آئیڈیا', 'start': 11.359999656677246, 'end': 11.600000381469727},\n",
       " {'word': 'ہے؟', 'start': 11.600000381469727, 'end': 12.319999694824219},\n",
       " {'word': 'جی', 'start': 12.319999694824219, 'end': 12.4399995803833},\n",
       " {'word': 'بالکل', 'start': 12.4399995803833, 'end': 12.680000305175781},\n",
       " {'word': 'آئیڈیا', 'start': 12.680000305175781, 'end': 12.979999542236328},\n",
       " {'word': 'آپ', 'start': 12.979999542236328, 'end': 13.220000267028809},\n",
       " {'word': 'کونسی', 'start': 13.220000267028809, 'end': 13.579999923706055},\n",
       " {'word': 'بائیک', 'start': 13.579999923706055, 'end': 13.699999809265137},\n",
       " {'word': 'لینے', 'start': 13.699999809265137, 'end': 13.960000038146973},\n",
       " {'word': 'چاہ', 'start': 13.960000038146973, 'end': 14.180000305175781},\n",
       " {'word': 'رہے', 'start': 14.180000305175781, 'end': 14.180000305175781},\n",
       " {'word': 'ہیں؟', 'start': 14.180000305175781, 'end': 14.239999771118164},\n",
       " {'word': 'سیونٹی،', 'start': 14.239999771118164, 'end': 15.619999885559082},\n",
       " {'word': 'اونٹو', 'start': 15.619999885559082, 'end': 15.819999694824219},\n",
       " {'word': 'فائف،', 'start': 15.819999694824219, 'end': 16.18000030517578},\n",
       " {'word': 'اونٹو', 'start': 16.18000030517578, 'end': 16.3799991607666},\n",
       " {'word': 'فیٹی', 'start': 16.3799991607666, 'end': 16.399999618530273},\n",
       " {'word': 'میں', 'start': 16.399999618530273, 'end': 16.700000762939453},\n",
       " {'word': 'سیونٹی', 'start': 16.700000762939453, 'end': 17.8799991607666},\n",
       " {'word': 'کے', 'start': 17.8799991607666, 'end': 17.979999542236328},\n",
       " {'word': 'ہے', 'start': 17.979999542236328, 'end': 18.280000686645508},\n",
       " {'word': 'اور', 'start': 18.280000686645508, 'end': 18.399999618530273},\n",
       " {'word': 'میرا', 'start': 18.399999618530273, 'end': 18.540000915527344},\n",
       " {'word': 'فوکس', 'start': 18.540000915527344, 'end': 18.65999984741211},\n",
       " {'word': 'میں', 'start': 18.65999984741211, 'end': 18.65999984741211},\n",
       " {'word': 'یونیک', 'start': 18.65999984741211, 'end': 18.84000015258789},\n",
       " {'word': 'برینڈ', 'start': 18.84000015258789, 'end': 19.360000610351562},\n",
       " {'word': 'ہے', 'start': 19.360000610351562, 'end': 20.280000686645508},\n",
       " {'word': 'تو', 'start': 20.280000686645508, 'end': 20.579999923706055},\n",
       " {'word': 'کوئی', 'start': 20.579999923706055, 'end': 20.84000015258789},\n",
       " {'word': 'ایسی', 'start': 20.84000015258789, 'end': 21.260000228881836},\n",
       " {'word': 'جو', 'start': 21.260000228881836, 'end': 21.5},\n",
       " {'word': 'مناصف', 'start': 21.5, 'end': 21.760000228881836},\n",
       " {'word': 'پرائیس', 'start': 21.760000228881836, 'end': 22.040000915527344},\n",
       " {'word': 'میں', 'start': 22.040000915527344, 'end': 22.239999771118164},\n",
       " {'word': 'میں', 'start': 22.239999771118164, 'end': 22.399999618530273},\n",
       " {'word': 'کوئی', 'start': 22.399999618530273, 'end': 22.520000457763672},\n",
       " {'word': 'بائیک', 'start': 22.520000457763672, 'end': 22.719999313354492},\n",
       " {'word': 'مل', 'start': 22.719999313354492, 'end': 22.920000076293945},\n",
       " {'word': 'جائے', 'start': 22.920000076293945, 'end': 23.0},\n",
       " {'word': 'تیس', 'start': 23.0, 'end': 23.65999984741211},\n",
       " {'word': 'ہزار', 'start': 23.65999984741211, 'end': 23.81999969482422},\n",
       " {'word': 'کے', 'start': 23.81999969482422, 'end': 23.959999084472656},\n",
       " {'word': 'اندر', 'start': 23.959999084472656, 'end': 24.079999923706055},\n",
       " {'word': 'جی', 'start': 24.079999923706055, 'end': 25.34000015258789},\n",
       " {'word': 'بالکل', 'start': 25.34000015258789, 'end': 25.739999771118164},\n",
       " {'word': 'مل', 'start': 25.739999771118164, 'end': 27.31999969482422},\n",
       " {'word': 'جائے', 'start': 27.31999969482422, 'end': 27.5},\n",
       " {'word': 'گی', 'start': 27.5, 'end': 27.68000030517578},\n",
       " {'word': 'لیکن', 'start': 27.68000030517578, 'end': 27.940000534057617},\n",
       " {'word': 'آپ', 'start': 27.940000534057617, 'end': 28.420000076293945},\n",
       " {'word': 'تھوڑی', 'start': 28.420000076293945, 'end': 28.940000534057617},\n",
       " {'word': 'کالیٹی', 'start': 28.940000534057617, 'end': 29.700000762939453},\n",
       " {'word': 'کومپرمائز', 'start': 29.700000762939453, 'end': 30.139999389648438},\n",
       " {'word': 'ہوگی', 'start': 30.139999389648438, 'end': 30.520000457763672},\n",
       " {'word': 'کیونکہ', 'start': 30.520000457763672, 'end': 31.15999984741211},\n",
       " {'word': 'آپ', 'start': 31.15999984741211, 'end': 31.239999771118164},\n",
       " {'word': 'کو', 'start': 31.239999771118164, 'end': 31.399999618530273},\n",
       " {'word': 'پتا', 'start': 31.399999618530273, 'end': 31.5},\n",
       " {'word': 'ہے', 'start': 31.5, 'end': 31.559999465942383},\n",
       " {'word': 'کہ', 'start': 31.559999465942383, 'end': 31.719999313354492},\n",
       " {'word': 'آرچکر', 'start': 31.719999313354492, 'end': 31.940000534057617},\n",
       " {'word': 'مہنگاہی', 'start': 31.940000534057617, 'end': 32.34000015258789},\n",
       " {'word': 'بہت', 'start': 32.34000015258789, 'end': 32.560001373291016},\n",
       " {'word': 'ہے', 'start': 32.560001373291016, 'end': 32.7400016784668},\n",
       " {'word': 'بہت', 'start': 32.7400016784668, 'end': 32.91999816894531},\n",
       " {'word': 'ہی', 'start': 32.91999816894531, 'end': 33.02000045776367},\n",
       " {'word': 'ٹھیک', 'start': 33.02000045776367, 'end': 33.220001220703125},\n",
       " {'word': 'ہے', 'start': 33.220001220703125, 'end': 33.2400016784668},\n",
       " {'word': 'تو', 'start': 33.2400016784668, 'end': 33.599998474121094},\n",
       " {'word': 'تھرٹی', 'start': 33.599998474121094, 'end': 33.86000061035156},\n",
       " {'word': 'تاؤزن', 'start': 33.86000061035156, 'end': 34.15999984741211},\n",
       " {'word': 'میں', 'start': 34.15999984741211, 'end': 34.29999923706055},\n",
       " {'word': 'جو', 'start': 34.29999923706055, 'end': 34.619998931884766},\n",
       " {'word': 'آپ', 'start': 34.619998931884766, 'end': 34.779998779296875},\n",
       " {'word': 'کو', 'start': 34.779998779296875, 'end': 34.779998779296875},\n",
       " {'word': 'بائیک', 'start': 34.779998779296875, 'end': 34.959999084472656},\n",
       " {'word': 'ملے', 'start': 34.959999084472656, 'end': 35.18000030517578},\n",
       " {'word': 'گی', 'start': 35.18000030517578, 'end': 35.31999969482422},\n",
       " {'word': 'وہ', 'start': 35.31999969482422, 'end': 35.65999984741211},\n",
       " {'word': 'اتنی', 'start': 35.65999984741211, 'end': 36.040000915527344},\n",
       " {'word': 'خاص', 'start': 36.040000915527344, 'end': 36.7599983215332},\n",
       " {'word': 'نہیں', 'start': 36.7599983215332, 'end': 36.880001068115234},\n",
       " {'word': 'ہوگی', 'start': 36.880001068115234, 'end': 37.13999938964844},\n",
       " {'word': 'حالانکہ', 'start': 37.13999938964844, 'end': 37.7400016784668},\n",
       " {'word': 'چلتا', 'start': 37.7400016784668, 'end': 38.040000915527344},\n",
       " {'word': 'جائے', 'start': 38.040000915527344, 'end': 38.31999969482422},\n",
       " {'word': 'گی', 'start': 38.31999969482422, 'end': 38.81999969482422},\n",
       " {'word': 'آپ', 'start': 38.81999969482422, 'end': 39.0},\n",
       " {'word': 'کا', 'start': 39.0, 'end': 39.099998474121094},\n",
       " {'word': 'کام', 'start': 39.099998474121094, 'end': 39.2400016784668},\n",
       " {'word': 'نکل', 'start': 39.2400016784668, 'end': 39.52000045776367},\n",
       " {'word': 'جائے', 'start': 39.52000045776367, 'end': 39.720001220703125},\n",
       " {'word': 'گا', 'start': 39.720001220703125, 'end': 39.86000061035156},\n",
       " {'word': 'مگر', 'start': 39.86000061035156, 'end': 40.119998931884766},\n",
       " {'word': 'اتنی', 'start': 40.119998931884766, 'end': 40.70000076293945},\n",
       " {'word': 'اچھی', 'start': 40.70000076293945, 'end': 40.91999816894531},\n",
       " {'word': 'کالیٹی', 'start': 40.91999816894531, 'end': 41.31999969482422},\n",
       " {'word': 'نہیں', 'start': 41.31999969482422, 'end': 41.41999816894531},\n",
       " {'word': 'ہوگی', 'start': 41.41999816894531, 'end': 41.720001220703125},\n",
       " {'word': 'تو', 'start': 41.779998779296875, 'end': 42.13999938964844},\n",
       " {'word': 'کیا', 'start': 42.13999938964844, 'end': 42.47999954223633},\n",
       " {'word': 'میں', 'start': 42.47999954223633, 'end': 42.58000183105469},\n",
       " {'word': 'آپ', 'start': 42.58000183105469, 'end': 42.70000076293945},\n",
       " {'word': 'کے', 'start': 42.70000076293945, 'end': 42.779998779296875},\n",
       " {'word': 'لئے', 'start': 42.779998779296875, 'end': 42.84000015258789},\n",
       " {'word': 'وہ', 'start': 42.84000015258789, 'end': 43.0},\n",
       " {'word': 'بائیک', 'start': 43.0, 'end': 43.08000183105469},\n",
       " {'word': 'نکال', 'start': 43.08000183105469, 'end': 43.400001525878906},\n",
       " {'word': 'دوں', 'start': 43.400001525878906, 'end': 43.52000045776367},\n",
       " {'word': 'ہاں', 'start': 43.52000045776367, 'end': 44.040000915527344},\n",
       " {'word': 'بس', 'start': 44.040000915527344, 'end': 44.220001220703125},\n",
       " {'word': 'آپ', 'start': 44.220001220703125, 'end': 44.41999816894531},\n",
       " {'word': 'پتا', 'start': 44.41999816894531, 'end': 44.720001220703125},\n",
       " {'word': 'کریں', 'start': 44.720001220703125, 'end': 45.220001220703125},\n",
       " {'word': 'جو', 'start': 45.220001220703125, 'end': 46.70000076293945},\n",
       " {'word': 'آپ', 'start': 46.70000076293945, 'end': 46.79999923706055},\n",
       " {'word': 'کا', 'start': 46.79999923706055, 'end': 46.880001068115234},\n",
       " {'word': 'جاننے', 'start': 46.880001068115234, 'end': 47.15999984741211},\n",
       " {'word': 'والا', 'start': 47.15999984741211, 'end': 47.34000015258789},\n",
       " {'word': 'ہے', 'start': 47.34000015258789, 'end': 47.47999954223633},\n",
       " {'word': 'تو', 'start': 47.47999954223633, 'end': 47.619998931884766},\n",
       " {'word': 'میں', 'start': 47.619998931884766, 'end': 48.34000015258789},\n",
       " {'word': 'اس', 'start': 48.34000015258789, 'end': 48.599998474121094},\n",
       " {'word': 'کو', 'start': 48.599998474121094, 'end': 48.84000015258789},\n",
       " {'word': 'پھر', 'start': 48.84000015258789, 'end': 49.02000045776367},\n",
       " {'word': 'دیکھ', 'start': 49.02000045776367, 'end': 49.34000015258789},\n",
       " {'word': 'لوں', 'start': 49.34000015258789, 'end': 49.439998626708984},\n",
       " {'word': 'گا', 'start': 49.439998626708984, 'end': 49.599998474121094},\n",
       " {'word': 'اور', 'start': 49.599998474121094, 'end': 49.91999816894531},\n",
       " {'word': 'انشاءاللہ', 'start': 49.91999816894531, 'end': 50.220001220703125},\n",
       " {'word': 'میں', 'start': 50.220001220703125, 'end': 50.380001068115234},\n",
       " {'word': 'لے', 'start': 50.380001068115234, 'end': 50.5},\n",
       " {'word': 'لوں', 'start': 50.5, 'end': 50.619998931884766},\n",
       " {'word': 'گا', 'start': 50.619998931884766, 'end': 51.02000045776367},\n",
       " {'word': 'ارادہ', 'start': 51.02000045776367, 'end': 51.380001068115234},\n",
       " {'word': 'تو', 'start': 51.380001068115234, 'end': 51.47999954223633},\n",
       " {'word': 'ہے', 'start': 51.47999954223633, 'end': 51.560001373291016},\n",
       " {'word': 'میرا', 'start': 51.560001373291016, 'end': 51.70000076293945},\n",
       " {'word': 'لینے', 'start': 51.70000076293945, 'end': 51.939998626708984},\n",
       " {'word': 'کا', 'start': 51.939998626708984, 'end': 52.08000183105469},\n",
       " {'word': 'ایسا', 'start': 52.08000183105469, 'end': 52.86000061035156},\n",
       " {'word': 'کہنا', 'start': 52.86000061035156, 'end': 53.02000045776367},\n",
       " {'word': 'آپ', 'start': 53.02000045776367, 'end': 53.20000076293945},\n",
       " {'word': 'کل', 'start': 53.20000076293945, 'end': 53.31999969482422},\n",
       " {'word': 'آجائیے', 'start': 53.31999969482422, 'end': 53.7599983215332},\n",
       " {'word': 'ہمارا', 'start': 53.7599983215332, 'end': 54.040000915527344},\n",
       " {'word': 'آفیس', 'start': 54.040000915527344, 'end': 54.36000061035156},\n",
       " {'word': 'تو', 'start': 54.36000061035156, 'end': 54.619998931884766},\n",
       " {'word': 'ہم', 'start': 54.619998931884766, 'end': 54.720001220703125},\n",
       " {'word': 'آپ', 'start': 54.720001220703125, 'end': 54.86000061035156},\n",
       " {'word': 'کو', 'start': 54.86000061035156, 'end': 54.939998626708984},\n",
       " {'word': 'بائیک', 'start': 54.939998626708984, 'end': 55.13999938964844},\n",
       " {'word': 'دے', 'start': 55.13999938964844, 'end': 55.29999923706055},\n",
       " {'word': 'دیں', 'start': 55.29999923706055, 'end': 55.41999816894531},\n",
       " {'word': 'گے', 'start': 55.41999816894531, 'end': 55.47999954223633},\n",
       " {'word': 'اللہ', 'start': 55.47999954223633, 'end': 56.400001525878906},\n",
       " {'word': 'حافظ', 'start': 56.400001525878906, 'end': 56.63999938964844}]"
      ]
     },
     "execution_count": 8,
     "metadata": {},
     "output_type": "execute_result"
    }
   ],
   "source": [
    "transcription.words"
   ]
  },
  {
   "cell_type": "code",
   "execution_count": null,
   "metadata": {},
   "outputs": [],
   "source": []
  }
 ],
 "metadata": {
  "kernelspec": {
   "display_name": ".venv",
   "language": "python",
   "name": "python3"
  },
  "language_info": {
   "codemirror_mode": {
    "name": "ipython",
    "version": 3
   },
   "file_extension": ".py",
   "mimetype": "text/x-python",
   "name": "python",
   "nbconvert_exporter": "python",
   "pygments_lexer": "ipython3",
   "version": "3.10.0"
  }
 },
 "nbformat": 4,
 "nbformat_minor": 2
}
